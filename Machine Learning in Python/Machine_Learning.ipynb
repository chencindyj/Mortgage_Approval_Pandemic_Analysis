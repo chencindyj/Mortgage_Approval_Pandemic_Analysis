{
 "cells": [
  {
   "cell_type": "markdown",
   "metadata": {
    "id": "3iUNV9uI8Ihm"
   },
   "source": [
    "# **Cindy Chen**\n",
    "# **QMSS 5073 - Machine Learning**\n",
    "# **Assignment #2**"
   ]
  },
  {
   "cell_type": "code",
   "execution_count": 206,
   "metadata": {
    "id": "P9-8ra377j5c"
   },
   "outputs": [],
   "source": [
    "#packages to import\n",
    "import matplotlib.pyplot as mpl\n",
    "import pandas as pd\n",
    "import numpy as np"
   ]
  },
  {
   "cell_type": "code",
   "execution_count": 207,
   "metadata": {
    "id": "EcV_Lj8rgQ9z"
   },
   "outputs": [],
   "source": [
    "import warnings\n",
    "from sklearn.exceptions import DataConversionWarning\n",
    "warnings.filterwarnings(action='ignore', category=DataConversionWarning)"
   ]
  },
  {
   "cell_type": "markdown",
   "metadata": {
    "id": "JABhMKy99lzL"
   },
   "source": [
    "# Part 1: Regression on California Test Scores"
   ]
  },
  {
   "cell_type": "code",
   "execution_count": 208,
   "metadata": {
    "colab": {
     "base_uri": "https://localhost:8080/"
    },
    "id": "BoI1NeQV8IJX",
    "outputId": "b941537b-5048-4672-cd1f-d9d4391438f8"
   },
   "outputs": [
    {
     "data": {
      "text/plain": [
       "Index(['distcod', 'county', 'district', 'grspan', 'enrltot', 'teachers',\n",
       "       'calwpct', 'mealpct', 'computer', 'testscr', 'compstu', 'expnstu',\n",
       "       'str', 'avginc', 'elpct', 'readscr', 'mathscr'],\n",
       "      dtype='object')"
      ]
     },
     "execution_count": 208,
     "metadata": {},
     "output_type": "execute_result"
    }
   ],
   "source": [
    "dataset = pd.read_csv(\"https://raw.githubusercontent.com/vincentarelbundock/Rdatasets/master/csv/Ecdat/Caschool.csv\", index_col = 0) #set the first column as the index column\n",
    "dataset.columns #view what variables are in my data"
   ]
  },
  {
   "cell_type": "markdown",
   "metadata": {
    "id": "DG3mfBIy_q-G"
   },
   "source": [
    "Since I cannot use the variables \"readscr\" and \"mathscr\" in my analysis, I will simply remove them from my data set at the onset."
   ]
  },
  {
   "cell_type": "code",
   "execution_count": 209,
   "metadata": {
    "colab": {
     "base_uri": "https://localhost:8080/"
    },
    "id": "cOfwQGSd_yxy",
    "outputId": "82187b7a-74a6-4790-f4e1-d6a969a6885d"
   },
   "outputs": [
    {
     "data": {
      "text/plain": [
       "Index(['distcod', 'county', 'district', 'grspan', 'enrltot', 'teachers',\n",
       "       'calwpct', 'mealpct', 'computer', 'testscr', 'compstu', 'expnstu',\n",
       "       'str', 'avginc', 'elpct'],\n",
       "      dtype='object')"
      ]
     },
     "execution_count": 209,
     "metadata": {},
     "output_type": "execute_result"
    }
   ],
   "source": [
    "dataset2 = dataset.iloc[:, 0:15] #remove the testscr, readscr, and mathscr columns\n",
    "dataset2.columns"
   ]
  },
  {
   "cell_type": "code",
   "execution_count": 210,
   "metadata": {
    "colab": {
     "base_uri": "https://localhost:8080/",
     "height": 363
    },
    "id": "SMo_DA_D-Hzv",
    "outputId": "5e13c814-eb02-4541-f097-64891f4de5b8"
   },
   "outputs": [
    {
     "data": {
      "text/html": [
       "<div>\n",
       "<style scoped>\n",
       "    .dataframe tbody tr th:only-of-type {\n",
       "        vertical-align: middle;\n",
       "    }\n",
       "\n",
       "    .dataframe tbody tr th {\n",
       "        vertical-align: top;\n",
       "    }\n",
       "\n",
       "    .dataframe thead th {\n",
       "        text-align: right;\n",
       "    }\n",
       "</style>\n",
       "<table border=\"1\" class=\"dataframe\">\n",
       "  <thead>\n",
       "    <tr style=\"text-align: right;\">\n",
       "      <th></th>\n",
       "      <th>distcod</th>\n",
       "      <th>county</th>\n",
       "      <th>district</th>\n",
       "      <th>grspan</th>\n",
       "      <th>enrltot</th>\n",
       "      <th>teachers</th>\n",
       "      <th>calwpct</th>\n",
       "      <th>mealpct</th>\n",
       "      <th>computer</th>\n",
       "      <th>testscr</th>\n",
       "      <th>compstu</th>\n",
       "      <th>expnstu</th>\n",
       "      <th>str</th>\n",
       "      <th>avginc</th>\n",
       "      <th>elpct</th>\n",
       "    </tr>\n",
       "  </thead>\n",
       "  <tbody>\n",
       "    <tr>\n",
       "      <th>1</th>\n",
       "      <td>75119</td>\n",
       "      <td>Alameda</td>\n",
       "      <td>Sunol Glen Unified</td>\n",
       "      <td>KK-08</td>\n",
       "      <td>195</td>\n",
       "      <td>10.900000</td>\n",
       "      <td>0.510200</td>\n",
       "      <td>2.040800</td>\n",
       "      <td>67</td>\n",
       "      <td>690.799988</td>\n",
       "      <td>0.343590</td>\n",
       "      <td>6384.911133</td>\n",
       "      <td>17.889910</td>\n",
       "      <td>22.690001</td>\n",
       "      <td>0.000000</td>\n",
       "    </tr>\n",
       "    <tr>\n",
       "      <th>2</th>\n",
       "      <td>61499</td>\n",
       "      <td>Butte</td>\n",
       "      <td>Manzanita Elementary</td>\n",
       "      <td>KK-08</td>\n",
       "      <td>240</td>\n",
       "      <td>11.150000</td>\n",
       "      <td>15.416700</td>\n",
       "      <td>47.916698</td>\n",
       "      <td>101</td>\n",
       "      <td>661.200012</td>\n",
       "      <td>0.420833</td>\n",
       "      <td>5099.380859</td>\n",
       "      <td>21.524664</td>\n",
       "      <td>9.824000</td>\n",
       "      <td>4.583333</td>\n",
       "    </tr>\n",
       "    <tr>\n",
       "      <th>3</th>\n",
       "      <td>61549</td>\n",
       "      <td>Butte</td>\n",
       "      <td>Thermalito Union Elementary</td>\n",
       "      <td>KK-08</td>\n",
       "      <td>1550</td>\n",
       "      <td>82.900002</td>\n",
       "      <td>55.032299</td>\n",
       "      <td>76.322601</td>\n",
       "      <td>169</td>\n",
       "      <td>643.599976</td>\n",
       "      <td>0.109032</td>\n",
       "      <td>5501.954590</td>\n",
       "      <td>18.697226</td>\n",
       "      <td>8.978000</td>\n",
       "      <td>30.000002</td>\n",
       "    </tr>\n",
       "    <tr>\n",
       "      <th>4</th>\n",
       "      <td>61457</td>\n",
       "      <td>Butte</td>\n",
       "      <td>Golden Feather Union Elementary</td>\n",
       "      <td>KK-08</td>\n",
       "      <td>243</td>\n",
       "      <td>14.000000</td>\n",
       "      <td>36.475399</td>\n",
       "      <td>77.049202</td>\n",
       "      <td>85</td>\n",
       "      <td>647.700012</td>\n",
       "      <td>0.349794</td>\n",
       "      <td>7101.831055</td>\n",
       "      <td>17.357143</td>\n",
       "      <td>8.978000</td>\n",
       "      <td>0.000000</td>\n",
       "    </tr>\n",
       "    <tr>\n",
       "      <th>5</th>\n",
       "      <td>61523</td>\n",
       "      <td>Butte</td>\n",
       "      <td>Palermo Union Elementary</td>\n",
       "      <td>KK-08</td>\n",
       "      <td>1335</td>\n",
       "      <td>71.500000</td>\n",
       "      <td>33.108601</td>\n",
       "      <td>78.427002</td>\n",
       "      <td>171</td>\n",
       "      <td>640.849976</td>\n",
       "      <td>0.128090</td>\n",
       "      <td>5235.987793</td>\n",
       "      <td>18.671329</td>\n",
       "      <td>9.080333</td>\n",
       "      <td>13.857677</td>\n",
       "    </tr>\n",
       "    <tr>\n",
       "      <th>6</th>\n",
       "      <td>62042</td>\n",
       "      <td>Fresno</td>\n",
       "      <td>Burrel Union Elementary</td>\n",
       "      <td>KK-08</td>\n",
       "      <td>137</td>\n",
       "      <td>6.400000</td>\n",
       "      <td>12.318800</td>\n",
       "      <td>86.956497</td>\n",
       "      <td>25</td>\n",
       "      <td>605.550049</td>\n",
       "      <td>0.182482</td>\n",
       "      <td>5580.146973</td>\n",
       "      <td>21.406250</td>\n",
       "      <td>10.415000</td>\n",
       "      <td>12.408759</td>\n",
       "    </tr>\n",
       "    <tr>\n",
       "      <th>7</th>\n",
       "      <td>68536</td>\n",
       "      <td>San Joaquin</td>\n",
       "      <td>Holt Union Elementary</td>\n",
       "      <td>KK-08</td>\n",
       "      <td>195</td>\n",
       "      <td>10.000000</td>\n",
       "      <td>12.903200</td>\n",
       "      <td>94.623703</td>\n",
       "      <td>28</td>\n",
       "      <td>606.750000</td>\n",
       "      <td>0.143590</td>\n",
       "      <td>5253.331055</td>\n",
       "      <td>19.500000</td>\n",
       "      <td>6.577000</td>\n",
       "      <td>68.717949</td>\n",
       "    </tr>\n",
       "    <tr>\n",
       "      <th>8</th>\n",
       "      <td>63834</td>\n",
       "      <td>Kern</td>\n",
       "      <td>Vineland Elementary</td>\n",
       "      <td>KK-08</td>\n",
       "      <td>888</td>\n",
       "      <td>42.500000</td>\n",
       "      <td>18.806299</td>\n",
       "      <td>100.000000</td>\n",
       "      <td>66</td>\n",
       "      <td>609.000000</td>\n",
       "      <td>0.074324</td>\n",
       "      <td>4565.746094</td>\n",
       "      <td>20.894117</td>\n",
       "      <td>8.174000</td>\n",
       "      <td>46.959461</td>\n",
       "    </tr>\n",
       "    <tr>\n",
       "      <th>9</th>\n",
       "      <td>62331</td>\n",
       "      <td>Fresno</td>\n",
       "      <td>Orange Center Elementary</td>\n",
       "      <td>KK-08</td>\n",
       "      <td>379</td>\n",
       "      <td>19.000000</td>\n",
       "      <td>32.189999</td>\n",
       "      <td>93.139801</td>\n",
       "      <td>35</td>\n",
       "      <td>612.500000</td>\n",
       "      <td>0.092348</td>\n",
       "      <td>5355.548340</td>\n",
       "      <td>19.947369</td>\n",
       "      <td>7.385000</td>\n",
       "      <td>30.079157</td>\n",
       "    </tr>\n",
       "    <tr>\n",
       "      <th>10</th>\n",
       "      <td>67306</td>\n",
       "      <td>Sacramento</td>\n",
       "      <td>Del Paso Heights Elementary</td>\n",
       "      <td>KK-06</td>\n",
       "      <td>2247</td>\n",
       "      <td>108.000000</td>\n",
       "      <td>78.994202</td>\n",
       "      <td>87.316399</td>\n",
       "      <td>0</td>\n",
       "      <td>612.650024</td>\n",
       "      <td>0.000000</td>\n",
       "      <td>5036.211426</td>\n",
       "      <td>20.805555</td>\n",
       "      <td>11.613333</td>\n",
       "      <td>40.275921</td>\n",
       "    </tr>\n",
       "  </tbody>\n",
       "</table>\n",
       "</div>"
      ],
      "text/plain": [
       "    distcod       county  ...     avginc      elpct\n",
       "1     75119      Alameda  ...  22.690001   0.000000\n",
       "2     61499        Butte  ...   9.824000   4.583333\n",
       "3     61549        Butte  ...   8.978000  30.000002\n",
       "4     61457        Butte  ...   8.978000   0.000000\n",
       "5     61523        Butte  ...   9.080333  13.857677\n",
       "6     62042       Fresno  ...  10.415000  12.408759\n",
       "7     68536  San Joaquin  ...   6.577000  68.717949\n",
       "8     63834         Kern  ...   8.174000  46.959461\n",
       "9     62331       Fresno  ...   7.385000  30.079157\n",
       "10    67306   Sacramento  ...  11.613333  40.275921\n",
       "\n",
       "[10 rows x 15 columns]"
      ]
     },
     "execution_count": 210,
     "metadata": {},
     "output_type": "execute_result"
    }
   ],
   "source": [
    "dataset2.head(10) #understand what my data looks like"
   ]
  },
  {
   "cell_type": "markdown",
   "metadata": {
    "id": "H8eD1k5W99GB"
   },
   "source": [
    "## **1.1 Visualize the univariate distribution of the target feature and each of the three continuous explanatory variables that you think are likely to have a relationship with the target feature.**"
   ]
  },
  {
   "cell_type": "markdown",
   "metadata": {
    "id": "b_59B6iyB92n"
   },
   "source": [
    "Distribution of Average Test Score"
   ]
  },
  {
   "cell_type": "code",
   "execution_count": 211,
   "metadata": {
    "colab": {
     "base_uri": "https://localhost:8080/",
     "height": 357
    },
    "id": "KRJCl-HD9lgE",
    "outputId": "ab245330-51d8-446a-b4ad-eb87242ba593"
   },
   "outputs": [
    {
     "data": {
      "text/plain": [
       "(array([ 5., 23., 49., 71., 79., 83., 59., 31., 13.,  7.]),\n",
       " array([605.55004883, 615.67004395, 625.79003906, 635.91003418,\n",
       "        646.0300293 , 656.15002441, 666.27001953, 676.39001465,\n",
       "        686.51000977, 696.63000488, 706.75      ]),\n",
       " <a list of 10 Patch objects>)"
      ]
     },
     "execution_count": 211,
     "metadata": {},
     "output_type": "execute_result"
    },
    {
     "data": {
      "image/png": "[encoded data removed]",
      "text/plain": [
       "<Figure size 432x288 with 1 Axes>"
      ]
     },
     "metadata": {
      "needs_background": "light"
     },
     "output_type": "display_data"
    }
   ],
   "source": [
    "mpl.hist(dataset2['testscr'])"
   ]
  },
  {
   "cell_type": "markdown",
   "metadata": {
    "id": "hH73EEjTCCIi"
   },
   "source": [
    "Distribution of Student-Teacher Ratio 'str' (variable 1 that I think is likely to have a relationship with average test score). This is because smaller ratios allow teachers to spend more time per student, enabling them to perform better on tests.\n",
    "\n"
   ]
  },
  {
   "cell_type": "code",
   "execution_count": 212,
   "metadata": {
    "colab": {
     "base_uri": "https://localhost:8080/",
     "height": 357
    },
    "id": "YOnvUOzqCM5p",
    "outputId": "2c5d25b7-1af6-4e1a-bb2c-9300da2e0483"
   },
   "outputs": [
    {
     "data": {
      "text/plain": [
       "(array([  5.,  14.,  30.,  68., 109., 110.,  51.,  24.,   4.,   5.]),\n",
       " array([14.        , 15.17999992, 16.35999985, 17.53999977, 18.71999969,\n",
       "        19.89999962, 21.07999954, 22.25999947, 23.43999939, 24.61999931,\n",
       "        25.79999924]),\n",
       " <a list of 10 Patch objects>)"
      ]
     },
     "execution_count": 212,
     "metadata": {},
     "output_type": "execute_result"
    },
    {
     "data": {
      "image/png": "[encoded data removed]",
      "text/plain": [
       "<Figure size 432x288 with 1 Axes>"
      ]
     },
     "metadata": {
      "needs_background": "light"
     },
     "output_type": "display_data"
    }
   ],
   "source": [
    "mpl.hist(dataset2['str'])"
   ]
  },
  {
   "cell_type": "markdown",
   "metadata": {
    "id": "4OGpeVQvCP9d"
   },
   "source": [
    "Distribution of District Average Income 'avginc' (variable 2 that I think is likely to have a relationship with average test score).  I believe that income of the school district contributes to the school's funding and resources.\n"
   ]
  },
  {
   "cell_type": "code",
   "execution_count": 213,
   "metadata": {
    "colab": {
     "base_uri": "https://localhost:8080/",
     "height": 357
    },
    "id": "M8MBeXYkCQFc",
    "outputId": "e4e8ba96-5010-4254-d4a1-e0e483c6d83b"
   },
   "outputs": [
    {
     "data": {
      "text/plain": [
       "(array([ 90., 179.,  86.,  36.,   7.,   6.,   8.,   5.,   1.,   2.]),\n",
       " array([ 5.33500004, 10.33429995, 15.33359985, 20.33289976, 25.33219967,\n",
       "        30.33149958, 35.33079948, 40.33009939, 45.3293993 , 50.32869921,\n",
       "        55.32799911]),\n",
       " <a list of 10 Patch objects>)"
      ]
     },
     "execution_count": 213,
     "metadata": {},
     "output_type": "execute_result"
    },
    {
     "data": {
      "image/png": "[encoded data removed]",
      "text/plain": [
       "<Figure size 432x288 with 1 Axes>"
      ]
     },
     "metadata": {
      "needs_background": "light"
     },
     "output_type": "display_data"
    }
   ],
   "source": [
    "mpl.hist(dataset2['avginc'])"
   ]
  },
  {
   "cell_type": "markdown",
   "metadata": {
    "id": "0sQtthZPCQN8"
   },
   "source": [
    "Distribution of Expenditure per Student 'expnstu' (variable 3 that I think is likely to have a relationship with average test score).  The amount of money spent on equipment, teaching resources, and other supplies should contribute to students' performance."
   ]
  },
  {
   "cell_type": "code",
   "execution_count": 214,
   "metadata": {
    "colab": {
     "base_uri": "https://localhost:8080/",
     "height": 357
    },
    "id": "qLz52pWgCQWk",
    "outputId": "7be0df86-e669-43a1-cb85-60fb456e8255"
   },
   "outputs": [
    {
     "data": {
      "text/plain": [
       "(array([ 12.,  38.,  93., 140.,  71.,  29.,  17.,   9.,   6.,   5.]),\n",
       " array([3926.06958008, 4304.61330566, 4683.15703125, 5061.70075684,\n",
       "        5440.24448242, 5818.78820801, 6197.33193359, 6575.87565918,\n",
       "        6954.41938477, 7332.96311035, 7711.50683594]),\n",
       " <a list of 10 Patch objects>)"
      ]
     },
     "execution_count": 214,
     "metadata": {},
     "output_type": "execute_result"
    },
    {
     "data": {
      "image/png": "[encoded data removed]",
      "text/plain": [
       "<Figure size 432x288 with 1 Axes>"
      ]
     },
     "metadata": {
      "needs_background": "light"
     },
     "output_type": "display_data"
    }
   ],
   "source": [
    "mpl.hist(dataset2['expnstu'])"
   ]
  },
  {
   "cell_type": "markdown",
   "metadata": {
    "id": "tLkG7CNv_JJq"
   },
   "source": [
    "## **1.2 Visualize the dependency of the target on each feature from 1.1**"
   ]
  },
  {
   "cell_type": "code",
   "execution_count": 215,
   "metadata": {
    "colab": {
     "base_uri": "https://localhost:8080/",
     "height": 295
    },
    "id": "-mK8UZAuC9Y_",
    "outputId": "a597d1be-9a91-4fb0-acc7-29b3225ae43b"
   },
   "outputs": [
    {
     "data": {
      "image/png": "[encoded data removed]",
      "text/plain": [
       "<Figure size 432x288 with 1 Axes>"
      ]
     },
     "metadata": {
      "needs_background": "light"
     },
     "output_type": "display_data"
    }
   ],
   "source": [
    "mpl.scatter(dataset2['str'],dataset2['testscr'])\n",
    "mpl.xlabel('Student-Teacher Ratio')\n",
    "mpl.ylabel('Test Score')\n",
    "mpl.title('Avg Test Score vs Student-Teacher Ratio')\n",
    "mpl.show()"
   ]
  },
  {
   "cell_type": "code",
   "execution_count": 216,
   "metadata": {
    "colab": {
     "base_uri": "https://localhost:8080/",
     "height": 295
    },
    "id": "8ejIno3yDhzA",
    "outputId": "fdd76602-bab3-45a9-d31f-bd777078cc40"
   },
   "outputs": [
    {
     "data": {
      "image/png": "[encoded data removed]",
      "text/plain": [
       "<Figure size 432x288 with 1 Axes>"
      ]
     },
     "metadata": {
      "needs_background": "light"
     },
     "output_type": "display_data"
    }
   ],
   "source": [
    "mpl.scatter(dataset2['avginc'],dataset2['testscr'])\n",
    "mpl.xlabel('Average District Income ($)')\n",
    "mpl.ylabel('Test Score')\n",
    "mpl.title('Avg Test Score vs Avg District Income')\n",
    "mpl.show()"
   ]
  },
  {
   "cell_type": "code",
   "execution_count": 217,
   "metadata": {
    "colab": {
     "base_uri": "https://localhost:8080/",
     "height": 295
    },
    "id": "UsNirFteDovl",
    "outputId": "cda54885-e69f-401a-8e74-f91d9835929f"
   },
   "outputs": [
    {
     "data": {
      "image/png": "[encoded data removed]",
      "text/plain": [
       "<Figure size 432x288 with 1 Axes>"
      ]
     },
     "metadata": {
      "needs_background": "light"
     },
     "output_type": "display_data"
    }
   ],
   "source": [
    "mpl.scatter(dataset2['expnstu'],dataset2['testscr'])\n",
    "mpl.xlabel('Expenditure per Student ($)')\n",
    "mpl.ylabel('Test Score')\n",
    "mpl.title('Avg Test Score vs Expenditure per Student')\n",
    "mpl.show()"
   ]
  },
  {
   "cell_type": "markdown",
   "metadata": {
    "id": "ce7mMhcP_LE9"
   },
   "source": [
    "## **1.3 Split data in training and test set. Build models that evaluate the relationship between all available X variables in the California dataset and the target variable.  Evaluate KNN for regression, Linear Regression (OLS), Ridge, and Lasso using cross-validation with the default parameters. Does scaling the data with the StandardScaler help?**\n",
    "\n",
    "> ### **Answer:** Under the default parameters, scaling the data with StandardScaler did not consistently improve my cross-validation scores. The scaled data improved the cross-validation mean scores for my KNN Regressor and Lasso models with the most notable improvement in my KNN Regressor (which initially yielded a negative score and ultimately increased to 0.48).  However, my Linear Regression and Ridge models' cross-validation mean score actually dropped when I scaled the data.\n",
    "\n",
    "> ### When comparing improvements to test score perfromance, only the KNN Regressor model saw a significant improvement, whereas all my other models actually declined in their test scores.\n",
    "\n"
   ]
  },
  {
   "cell_type": "markdown",
   "metadata": {
    "id": "zge3nE2pQ4s0"
   },
   "source": [
    "Convert my categorical variables into dummy variables and remove any identical variables (like District and District Code)"
   ]
  },
  {
   "cell_type": "code",
   "execution_count": 218,
   "metadata": {
    "colab": {
     "base_uri": "https://localhost:8080/"
    },
    "id": "373BrcVSUao4",
    "outputId": "24d2173d-b57d-4e7c-d787-9b14fd9c6075"
   },
   "outputs": [
    {
     "name": "stdout",
     "output_type": "stream",
     "text": [
      "y shape: (420,)\n",
      "X shape: (420, 13)\n",
      "Shape after including dummy variables (420, 477)\n"
     ]
    }
   ],
   "source": [
    "y = dataset2['testscr'] #my y-variable\n",
    "X = dataset2.loc[:, dataset2.columns != 'testscr'] #my x-variable (everything but test scores)\n",
    "X = X.loc[:, X.columns != 'district'] #remove district since this is the same thing as my distcode\n",
    "\n",
    "print(\"y shape:\", y.shape)\n",
    "print(\"X shape:\", X.shape)\n",
    "X['distcod'] = X['distcod'].astype('str') #convert district code as a string so that we can treat it as a dummy\n",
    "data_dummies = pd.get_dummies(X)\n",
    "print(\"Shape after including dummy variables\", data_dummies.shape)"
   ]
  },
  {
   "cell_type": "code",
   "execution_count": 219,
   "metadata": {
    "id": "JLmulojoW1VF"
   },
   "outputs": [],
   "source": [
    "X_altered = data_dummies #create a new variable for my dataset that includes dummy variables"
   ]
  },
  {
   "cell_type": "code",
   "execution_count": 220,
   "metadata": {
    "colab": {
     "base_uri": "https://localhost:8080/"
    },
    "id": "bIiVWNdDZdxj",
    "outputId": "140b5e7e-248b-48c9-84b4-9a35c6c68e52"
   },
   "outputs": [
    {
     "name": "stdout",
     "output_type": "stream",
     "text": [
      "(420, 477)\n",
      "Index(['enrltot', 'teachers', 'calwpct', 'mealpct', 'computer', 'compstu',\n",
      "       'expnstu', 'str', 'avginc', 'elpct',\n",
      "       ...\n",
      "       'county_Stanislaus', 'county_Sutter', 'county_Tehama', 'county_Trinity',\n",
      "       'county_Tulare', 'county_Tuolumne', 'county_Ventura', 'county_Yuba',\n",
      "       'grspan_KK-06', 'grspan_KK-08'],\n",
      "      dtype='object', length=477)\n"
     ]
    }
   ],
   "source": [
    "print(X_altered.shape)\n",
    "print(X_altered.columns)"
   ]
  },
  {
   "cell_type": "markdown",
   "metadata": {
    "id": "uPXEDz4rmbuF"
   },
   "source": [
    "Train, test, split"
   ]
  },
  {
   "cell_type": "code",
   "execution_count": 221,
   "metadata": {
    "colab": {
     "base_uri": "https://localhost:8080/"
    },
    "id": "UVftT263D1PB",
    "outputId": "f137d11c-5adc-4262-e1ba-1e40289de484"
   },
   "outputs": [
    {
     "name": "stdout",
     "output_type": "stream",
     "text": [
      "[(315, 477), (105, 477), (315,), (105,)]\n"
     ]
    }
   ],
   "source": [
    "from sklearn.model_selection import train_test_split\n",
    "\n",
    "X_train, X_test, y_train, y_test = train_test_split(X_altered, y, random_state = 40)\n",
    "\n",
    "#review the training and test dimensions to confirm that my data set is the appropriate size\n",
    "view_my_list = [X_train.shape, X_test.shape, y_train.shape, y_test.shape]\n",
    "print(view_my_list)"
   ]
  },
  {
   "cell_type": "markdown",
   "metadata": {
    "id": "yp5NY0k6raQE"
   },
   "source": [
    "Test various regression methods without scaling the data.  I have also pulled out the coefficients and intercepts so that I have a better understanding of the equation and coefficients that drives the relationship between my X and Y-variables."
   ]
  },
  {
   "cell_type": "code",
   "execution_count": 222,
   "metadata": {
    "colab": {
     "base_uri": "https://localhost:8080/"
    },
    "id": "suQorcHprUTW",
    "outputId": "6fb6a3ba-0a78-49c7-d153-91c68933b886"
   },
   "outputs": [
    {
     "name": "stderr",
     "output_type": "stream",
     "text": [
      "/usr/local/lib/python3.7/dist-packages/sklearn/linear_model/_coordinate_descent.py:476: ConvergenceWarning: Objective did not converge. You might want to increase the number of iterations. Duality gap: 424.04156818227057, tolerance: 11.296333086183617\n",
      "  positive)\n"
     ]
    }
   ],
   "source": [
    "from sklearn.model_selection import cross_val_score\n",
    "\n",
    "from sklearn.linear_model import Ridge\n",
    "from sklearn.neighbors import KNeighborsRegressor\n",
    "from sklearn.linear_model import Lasso\n",
    "from sklearn.linear_model import LinearRegression\n",
    "\n",
    "ridge = Ridge().fit(X_train, y_train)\n",
    "knnregressor = KNeighborsRegressor().fit(X_train, y_train)\n",
    "lasso = Lasso().fit(X_train, y_train)\n",
    "linear_regression = LinearRegression().fit(X_train, y_train)"
   ]
  },
  {
   "cell_type": "markdown",
   "metadata": {
    "id": "YKMvKPTs7S3K"
   },
   "source": [
    "Ridge"
   ]
  },
  {
   "cell_type": "code",
   "execution_count": 223,
   "metadata": {
    "colab": {
     "base_uri": "https://localhost:8080/"
    },
    "id": "AGEzkWYi7XmM",
    "outputId": "25b13801-9f45-4b56-b709-b7de2b36f7d8"
   },
   "outputs": [
    {
     "name": "stdout",
     "output_type": "stream",
     "text": [
      "ridge.intercept_: 666.1480348781353\n",
      "Number of features used: 371\n",
      "Ridge Train Score:  0.9595834427129011\n",
      "Ridge Test Score:  0.8469683922235073\n"
     ]
    }
   ],
   "source": [
    "#print(\"ridge.coef_: {}\".format(ridge.coef_))\n",
    "#I have this line of code to print all the coefficients; since I ran dummy variables, I've prevented it from printing since the list is long\n",
    "\n",
    "print(\"ridge.intercept_: {}\".format(ridge.intercept_))\n",
    "print(\"Number of features used: {}\".format(np.sum(ridge.coef_ != 0)))\n",
    "print(\"Ridge Train Score: \",ridge.score(X_train, y_train))\n",
    "print(\"Ridge Test Score: \",ridge.score(X_test, y_test))"
   ]
  },
  {
   "cell_type": "markdown",
   "metadata": {
    "id": "HATgoNs67YDk"
   },
   "source": [
    "Lasso Regression"
   ]
  },
  {
   "cell_type": "code",
   "execution_count": 224,
   "metadata": {
    "colab": {
     "base_uri": "https://localhost:8080/"
    },
    "id": "cwG73ERJ7Sbc",
    "outputId": "886b6662-0d7c-485e-c67b-da8f8bce0427"
   },
   "outputs": [
    {
     "name": "stdout",
     "output_type": "stream",
     "text": [
      "lasso.intercept_: 657.6740867764361\n",
      "Number of features used: 8\n",
      "Lasso Train Score:  0.7975277591223691\n",
      "Lasso Test Score:  0.8345467996104593\n"
     ]
    }
   ],
   "source": [
    "#print(\"\\nlasso.coef_: {}\".format(lasso.coef_))\n",
    "#I have this line of code to print all the coefficients; since I ran dummy variables, I've prevented it from printing since the list is long\n",
    "\n",
    "print(\"lasso.intercept_: {}\".format(lasso.intercept_))\n",
    "print(\"Number of features used: {}\".format(np.sum(lasso.coef_ != 0)))\n",
    "print(\"Lasso Train Score: \", lasso.score(X_train, y_train))\n",
    "print(\"Lasso Test Score: \", lasso.score(X_test, y_test))"
   ]
  },
  {
   "cell_type": "markdown",
   "metadata": {
    "id": "csWrefAC7FiW"
   },
   "source": [
    "KNN Regressor"
   ]
  },
  {
   "cell_type": "code",
   "execution_count": 225,
   "metadata": {
    "colab": {
     "base_uri": "https://localhost:8080/"
    },
    "id": "3-72bTHS7FSu",
    "outputId": "1c7b5c9b-ca58-4a54-9199-cb02c7b830db"
   },
   "outputs": [
    {
     "name": "stdout",
     "output_type": "stream",
     "text": [
      "\n",
      "knnregressor - # of neighbors (default): 5\n",
      "KNN Regressor Train Score:  0.3200977367503268\n",
      "KNN Regressor Test Score:  0.03778894155792545\n"
     ]
    }
   ],
   "source": [
    "print(\"\\nknnregressor - # of neighbors (default): {}\".format(knnregressor.n_neighbors))\n",
    "print(\"KNN Regressor Train Score: \",knnregressor.score(X_train, y_train))\n",
    "print(\"KNN Regressor Test Score: \",knnregressor.score(X_test, y_test))"
   ]
  },
  {
   "cell_type": "markdown",
   "metadata": {
    "id": "5C9qnKUv7MBl"
   },
   "source": [
    "Linear Regression"
   ]
  },
  {
   "cell_type": "code",
   "execution_count": 226,
   "metadata": {
    "colab": {
     "base_uri": "https://localhost:8080/"
    },
    "id": "6yMAn0UW7Nhd",
    "outputId": "ceda05c4-2f78-4e55-8678-e555d748a035"
   },
   "outputs": [
    {
     "name": "stdout",
     "output_type": "stream",
     "text": [
      "Number of features used: 444\n",
      "linear_regression.intercept_: 666.3235882846657\n",
      "Linear Regression Train Score:  1.0\n",
      "Linear Regression Test Score:  0.8472490607084092\n"
     ]
    }
   ],
   "source": [
    "#print(\"\\nlinear_regression.coef_: {}\".format(linear_regression.coef_))\n",
    "#I have this line of code to print all the coefficients; since I ran dummy variables, I've prevented it from printing since the list is long\n",
    "\n",
    "print(\"Number of features used: {}\".format(np.sum(linear_regression.coef_ != 0)))\n",
    "print(\"linear_regression.intercept_: {}\".format(linear_regression.intercept_))\n",
    "print(\"Linear Regression Train Score: \", linear_regression.score(X_train, y_train))\n",
    "print(\"Linear Regression Test Score: \", linear_regression.score(X_test, y_test))"
   ]
  },
  {
   "cell_type": "markdown",
   "metadata": {
    "id": "yruUojQss3ul"
   },
   "source": [
    "###**Cross validation scores for my unscaled models with default parameters**"
   ]
  },
  {
   "cell_type": "code",
   "execution_count": 227,
   "metadata": {
    "colab": {
     "base_uri": "https://localhost:8080/"
    },
    "id": "kcRVWdvp4hGR",
    "outputId": "3afef1c5-4dd4-4561-a062-fff2fbca7646"
   },
   "outputs": [
    {
     "name": "stdout",
     "output_type": "stream",
     "text": [
      "\n",
      "CV Training set scores:\n",
      "Ridge CV Mean Score: 0.78\n",
      "KNN Regressor CV Mean Score: -0.06\n",
      "Lasso CV Mean Score: 0.78\n",
      "Linear Regression CV Mean Score: 0.77\n"
     ]
    }
   ],
   "source": [
    "#Print the default cross validation scores for each model\n",
    "print(\"\\nCV Training set scores:\")\n",
    "print(\"Ridge CV Mean Score: {:.2f}\".format(np.mean(cross_val_score(Ridge(max_iter = 10000), X_train, y_train, cv = 10, scoring = \"r2\"))))\n",
    "print(\"KNN Regressor CV Mean Score: {:.2f}\".format(np.mean(cross_val_score(KNeighborsRegressor(), X_train, y_train, cv = 10, scoring = \"r2\"))))\n",
    "print(\"Lasso CV Mean Score: {:.2f}\".format(np.mean(cross_val_score(Lasso(max_iter = 10000), X_train, y_train, cv = 10, scoring = \"r2\"))))\n",
    "print(\"Linear Regression CV Mean Score: {:.2f}\".format(np.mean(cross_val_score(LinearRegression(), X_train, y_train, cv = 10, scoring = \"r2\"))))"
   ]
  },
  {
   "cell_type": "markdown",
   "metadata": {
    "id": "pMRv5jetmesm"
   },
   "source": [
    "###Scale the data using StandardScaler and rerun cross-validation\n",
    "\n",
    "\n",
    "\n",
    "\n"
   ]
  },
  {
   "cell_type": "code",
   "execution_count": 228,
   "metadata": {
    "id": "DVaQ12lBmYI_"
   },
   "outputs": [],
   "source": [
    "from sklearn.preprocessing import StandardScaler\n",
    "\n",
    "scaler = StandardScaler()\n",
    "scaler.fit(X_train)\n",
    "X_scaled = scaler.transform(X_train)\n",
    "\n",
    "X_test_scaled = scaler.transform(X_test)"
   ]
  },
  {
   "cell_type": "code",
   "execution_count": 229,
   "metadata": {
    "colab": {
     "base_uri": "https://localhost:8080/"
    },
    "id": "5Wgqq7x6SEIx",
    "outputId": "e4cf23e9-c99a-49c1-ce8e-efd18bcbec42"
   },
   "outputs": [
    {
     "name": "stdout",
     "output_type": "stream",
     "text": [
      "Ridge Train Score:  0.99999772662578\n",
      "KNN Regressor Train Score:  0.690323512385662\n",
      "Lasso Train Score:  0.8222513411451491\n",
      "Linear Regression Train Score:  1.0\n",
      "\n",
      "Ridge Test Score:  0.7759798015861196\n",
      "KNN Regressor Test Score:  0.5482531438498945\n",
      "Lasso Test Score:  0.8167165584248488\n",
      "Linear Regression Test Score:  0.7762443749641798\n"
     ]
    }
   ],
   "source": [
    "ridge2 = Ridge().fit(X_scaled, y_train)\n",
    "knnregressor2 = KNeighborsRegressor().fit(X_scaled, y_train)\n",
    "lasso2 = Lasso().fit(X_scaled, y_train)\n",
    "linear_regression2 = LinearRegression().fit(X_scaled, y_train)\n",
    "\n",
    "X_test_scaled = scaler.transform(X_test)\n",
    "\n",
    "print(\"Ridge Train Score: \", ridge2.score(X_scaled, y_train))\n",
    "print(\"KNN Regressor Train Score: \", knnregressor2.score(X_scaled, y_train))\n",
    "print(\"Lasso Train Score: \", lasso2.score(X_scaled, y_train))\n",
    "print(\"Linear Regression Train Score: \", linear_regression2.score(X_scaled, y_train))\n",
    "\n",
    "print(\"\\nRidge Test Score: \",ridge2.score(X_test_scaled, y_test))\n",
    "print(\"KNN Regressor Test Score: \",knnregressor2.score(X_test_scaled, y_test))\n",
    "print(\"Lasso Test Score: \", lasso2.score(X_test_scaled, y_test))\n",
    "print(\"Linear Regression Test Score: \", linear_regression2.score(X_test_scaled, y_test))"
   ]
  },
  {
   "cell_type": "markdown",
   "metadata": {
    "id": "W8bFHkAttL1T"
   },
   "source": [
    "###**Cross Validation Scores for my scaled models with default parameters**"
   ]
  },
  {
   "cell_type": "code",
   "execution_count": 230,
   "metadata": {
    "colab": {
     "base_uri": "https://localhost:8080/"
    },
    "id": "uNpDc7uMvY58",
    "outputId": "d6f7e768-b2c2-4caf-c020-9751713eed35"
   },
   "outputs": [
    {
     "name": "stdout",
     "output_type": "stream",
     "text": [
      "\n",
      "CV Training set scores:\n",
      "Ridge CV Mean Score: 0.71\n",
      "KNN Regressor CV Mean Score: 0.48\n",
      "Lasso CV Mean Score: 0.79\n",
      "Linear Regression CV Mean Score: 0.58\n"
     ]
    }
   ],
   "source": [
    "#Print a cross-validation mean score to evaluate the performance of various models\n",
    "print(\"\\nCV Training set scores:\")\n",
    "print(\"Ridge CV Mean Score: {:.2f}\".format(np.mean(cross_val_score(Ridge(max_iter = 100000), X_scaled, y_train, scoring=\"r2\"))))\n",
    "print(\"KNN Regressor CV Mean Score: {:.2f}\".format(np.mean(cross_val_score(KNeighborsRegressor(), X_scaled, y_train, scoring=\"r2\"))))\n",
    "print(\"Lasso CV Mean Score: {:.2f}\".format(np.mean(cross_val_score(Lasso(max_iter = 100000), X_scaled, y_train, scoring=\"r2\"))))\n",
    "print(\"Linear Regression CV Mean Score: {:.2f}\".format(np.mean(cross_val_score(LinearRegression(), X_scaled, y_train, scoring=\"r2\"))))"
   ]
  },
  {
   "cell_type": "markdown",
   "metadata": {
    "id": "uofxwDq-D_yt"
   },
   "source": [
    "## **1.4 Tune the parameters of the models where possible using GridSearchCV. Do the results improve?**\n",
    "\n",
    "> ### Yes, once I could tune the model parameters using GridSearchCV, the results improved or remained consistent relative to my original CV mean scores for my scaled models with default parameters. This is expected since I am able to hone and identify the parameters that generate better R2 scores.  As a breakdown of my methodology, I compared the cross-validation mean score from my previous results against the cross-validation mean score with the best parameter as identified by GridSearchCV.  Through this method, I found that my KNN Regressor observed improvements in mean R2 scoring while my Lasso and Ridge models' R2 score remained the same.\n",
    "\n",
    "> ### Alternatively, when I compare the performance of models' test scores after tuning them to the best parameters identified by GridSearchCV, all three models' (which excludes the Linear Regression, since that cannot be tuned) test scores improved compared to the models with scaled data and default parameters.  Since the test score is the most important performance metric since it evaluates performance against unseen data, I can conclude that the results improved with GridSearchCV. \n",
    "\n"
   ]
  },
  {
   "cell_type": "markdown",
   "metadata": {
    "id": "lRwxItTk6C1b"
   },
   "source": [
    "Ridge GridSearchCV"
   ]
  },
  {
   "cell_type": "code",
   "execution_count": 231,
   "metadata": {
    "colab": {
     "base_uri": "https://localhost:8080/"
    },
    "id": "3w6gac1AEHOt",
    "outputId": "e9e3a30f-707c-496a-f9cb-72435dd86a72"
   },
   "outputs": [
    {
     "name": "stdout",
     "output_type": "stream",
     "text": [
      "best mean cross-validation score: 0.716\n",
      "best parameters: {'alpha': 1e-100}\n",
      "CV Mean Score with best params: 0.71\n",
      "test-set score: 0.776\n"
     ]
    },
    {
     "name": "stderr",
     "output_type": "stream",
     "text": [
      "/usr/local/lib/python3.7/dist-packages/sklearn/linear_model/_ridge.py:190: UserWarning: Singular matrix in solving dual problem. Using least-squares solution instead.\n",
      "  warnings.warn(\"Singular matrix in solving dual problem. Using \"\n"
     ]
    }
   ],
   "source": [
    "from sklearn.model_selection import GridSearchCV\n",
    "param_grid = {'alpha': np.logspace(-100, -1, num = 99, base = 10)}\n",
    "\n",
    "ridge_gridmodel = GridSearchCV(Ridge(), param_grid=param_grid, cv=10)\n",
    "\n",
    "#use meta model methods to fit score and predict model:\n",
    "ridge_gridmodel.fit(X_scaled, y_train)\n",
    "\n",
    "#extract best score and parameter by calling objects \"best_score_\" and \"best_params_\"\n",
    "print(\"best mean cross-validation score: {:.3f}\".format(ridge_gridmodel.best_score_))\n",
    "print(\"best parameters: {}\".format(ridge_gridmodel.best_params_))\n",
    "print(\"CV Mean Score with best params: {:.2f}\".format(np.mean(cross_val_score(Ridge(**ridge_gridmodel.best_params_), X_scaled, y_train, scoring=\"r2\"))))\n",
    "print(\"test-set score: {:.3f}\".format(ridge_gridmodel.score(X_test_scaled, y_test)))"
   ]
  },
  {
   "cell_type": "markdown",
   "metadata": {
    "id": "iwdshC6O4ErB"
   },
   "source": [
    "KNN Regression GridSearchCV"
   ]
  },
  {
   "cell_type": "code",
   "execution_count": 232,
   "metadata": {
    "colab": {
     "base_uri": "https://localhost:8080/"
    },
    "id": "kbEcuemMc4nS",
    "outputId": "b3777184-9111-494e-b5af-01fc65bf29ce"
   },
   "outputs": [
    {
     "name": "stdout",
     "output_type": "stream",
     "text": [
      "best mean cross-validation score: 0.562\n",
      "best parameters: {'n_neighbors': 27}\n",
      "CV Mean Score with best params: 0.56\n",
      "test-set score: 0.570\n"
     ]
    }
   ],
   "source": [
    "param_grid = {'n_neighbors': np.arange(1, 51, 2)}\n",
    "\n",
    "knnregressor_gridmodel = GridSearchCV(KNeighborsRegressor(), param_grid=param_grid, cv=10)\n",
    "\n",
    "#use meta model methods to fit score and predict model:\n",
    "knnregressor_gridmodel.fit(X_scaled, y_train)\n",
    "\n",
    "#extract best score and parameter by calling objects \"best_score_\" and \"best_params_\"\n",
    "print(\"best mean cross-validation score: {:.3f}\".format(knnregressor_gridmodel.best_score_))\n",
    "print(\"best parameters: {}\".format(knnregressor_gridmodel.best_params_))\n",
    "print(\"CV Mean Score with best params: {:.2f}\".format(np.mean(cross_val_score(KNeighborsRegressor(**knnregressor_gridmodel.best_params_), X_scaled, y_train, scoring=\"r2\"))))\n",
    "print(\"test-set score: {:.3f}\".format(knnregressor_gridmodel.score(X_test_scaled, y_test)))"
   ]
  },
  {
   "cell_type": "markdown",
   "metadata": {
    "id": "-eJNqv6h4IcO"
   },
   "source": [
    "Lasso GridSearchCV"
   ]
  },
  {
   "cell_type": "code",
   "execution_count": 233,
   "metadata": {
    "colab": {
     "base_uri": "https://localhost:8080/"
    },
    "id": "T9vGAbprqcHk",
    "outputId": "eb4d8edf-e4ee-42bb-90f8-646c50206105"
   },
   "outputs": [
    {
     "name": "stdout",
     "output_type": "stream",
     "text": [
      "best mean cross-validation score: 0.782\n",
      "best parameters: {'alpha': 0.34329999999998423}\n",
      "CV Mean Score with best params: 0.79\n",
      "test-set score: 0.827\n"
     ]
    }
   ],
   "source": [
    "param_grid = {'alpha': np.arange(0.2, 0.4, 0.0001)}\n",
    "\n",
    "lassogridmodel = GridSearchCV(Lasso(), param_grid=param_grid, cv=10)\n",
    "\n",
    "#use meta model methods to fit score and predict model:\n",
    "lassogridmodel.fit(X_scaled, y_train)\n",
    "\n",
    "#extract best score and parameter by calling objects \"best_score_\" and \"best_params_\"\n",
    "print(\"best mean cross-validation score: {:.3f}\".format(lassogridmodel.best_score_))\n",
    "print(\"best parameters: {}\".format(lassogridmodel.best_params_))\n",
    "print(\"CV Mean Score with best params: {:.2f}\".format(np.mean(cross_val_score(Lasso(**lassogridmodel.best_params_), X_scaled, y_train, scoring=\"r2\"))))\n",
    "print(\"test-set score: {:.3f}\".format(lassogridmodel.score(X_test_scaled, y_test)))"
   ]
  },
  {
   "cell_type": "markdown",
   "metadata": {
    "id": "k3fs90loEHcp"
   },
   "source": [
    "##**1.5 Compare the coefficients of your two best linear models (not knn), do they agree on which features are important?**"
   ]
  },
  {
   "cell_type": "markdown",
   "metadata": {
    "id": "d9OXL2a-DEDx"
   },
   "source": [
    "### Ridge and Lasso had the best test set scores, so these are the two linear models that I filtered onto.  I judged features to be important based on whether or not they were equal to zero.  They didn't completely agree on the features, as Ridge found 371 features that were important whereas my Lasso model found 147.  This is expected since Lasso uses L1 penalization, which  works better for models that have lots of features but only some of them are supposed to be important.\n",
    "\n",
    "### Overall, there were 147 common features that were considered important. Circling back to the three explanatory variables that I thought would have a relationship with the target feature, all three appear in the common features of my final Ridge and Lasso models, ."
   ]
  },
  {
   "cell_type": "code",
   "execution_count": 234,
   "metadata": {
    "colab": {
     "base_uri": "https://localhost:8080/"
    },
    "id": "SIQVT60sfT5g",
    "outputId": "6cdbb357-d51b-4ed1-8db8-76860b04d6fc"
   },
   "outputs": [
    {
     "name": "stdout",
     "output_type": "stream",
     "text": [
      "Ridge Test Score:  0.7762443749641807\n",
      "Lasso Test Score:  0.8265270738275707\n",
      "Linear Regression Test Score:  0.7762443749641798\n"
     ]
    },
    {
     "name": "stderr",
     "output_type": "stream",
     "text": [
      "/usr/local/lib/python3.7/dist-packages/sklearn/linear_model/_ridge.py:190: UserWarning: Singular matrix in solving dual problem. Using least-squares solution instead.\n",
      "  warnings.warn(\"Singular matrix in solving dual problem. Using \"\n"
     ]
    }
   ],
   "source": [
    "ridge3 = Ridge(**ridge_gridmodel.best_params_).fit(X_scaled, y_train)\n",
    "lasso3 = Lasso(**lassogridmodel.best_params_).fit(X_scaled, y_train)\n",
    "\n",
    "print(\"Ridge Test Score: \", ridge3.score(X_test_scaled, y_test))\n",
    "print(\"Lasso Test Score: \", lasso3.score(X_test_scaled, y_test))\n",
    "print(\"Linear Regression Test Score: \", linear_regression2.score(X_test_scaled, y_test))"
   ]
  },
  {
   "cell_type": "code",
   "execution_count": 235,
   "metadata": {
    "id": "usv-i1MM8Pwm"
   },
   "outputs": [],
   "source": [
    "#create data frame of the coefficients from my 2 best models with scaled data\n",
    "all_coeff_ridge = pd.DataFrame(ridge3.coef_)\n",
    "all_coeff_lasso = pd.DataFrame(lasso3.coef_)\n",
    "\n",
    "#list all the features that were included in the model\n",
    "all_features = pd.DataFrame(X_altered.columns)\n",
    "\n",
    "#list the coefficients that were higher than the mean coefficient of each model\n",
    "imp_features_ridge = all_features[all_coeff_ridge != 0]\n",
    "imp_features_lasso = all_features[all_coeff_lasso != 0]\n",
    "\n",
    "#filter the list\n",
    "ridge_filtered = imp_features_ridge[imp_features_ridge[0].notnull()]\n",
    "lasso_filtered = imp_features_lasso[imp_features_lasso[0].notnull()]\n",
    "\n",
    "#rename the column\n",
    "ridge_filtered.columns = ['features']\n",
    "lasso_filtered.columns = ['features']\n",
    "\n",
    "common_features = ridge_filtered.merge(lasso_filtered, how = 'inner', on = 'features')"
   ]
  },
  {
   "cell_type": "code",
   "execution_count": 236,
   "metadata": {
    "colab": {
     "base_uri": "https://localhost:8080/"
    },
    "id": "ptl6o6WYAJcD",
    "outputId": "4c072e8e-f63f-40e5-a9c9-29ed1a3c0cde"
   },
   "outputs": [
    {
     "name": "stdout",
     "output_type": "stream",
     "text": [
      "            features\n",
      "0            enrltot\n",
      "1            mealpct\n",
      "2            compstu\n",
      "3            expnstu\n",
      "4                str\n",
      "..               ...\n",
      "142   county_Trinity\n",
      "143  county_Tuolumne\n",
      "144      county_Yuba\n",
      "145     grspan_KK-06\n",
      "146     grspan_KK-08\n",
      "\n",
      "[147 rows x 1 columns]\n",
      "\n",
      "Ridge coefficients:  371 \n",
      "Lasso coefficients:  147 \n",
      "Common Features:  147\n"
     ]
    }
   ],
   "source": [
    "print(common_features)\n",
    "\n",
    "print(\"\\nRidge coefficients: \", ridge_filtered.size,\n",
    "      \"\\nLasso coefficients: \", lasso_filtered.size,\n",
    "      \"\\nCommon Features: \", common_features.size)"
   ]
  },
  {
   "cell_type": "markdown",
   "metadata": {
    "id": "i9r2wXoPEMkL"
   },
   "source": [
    "## **1.6 Discuss which final model you would choose to predict new data**"
   ]
  },
  {
   "cell_type": "markdown",
   "metadata": {
    "id": "6pHX1_BPIq3g"
   },
   "source": [
    "### I would choose the Lasso model to predict new data. Using my best parameters, my Lasso model yielded a better R2 score on my test data of 0.827 compared to my Ridge R2 score 0.776 (slightly higher than my linear regression).\n",
    "\n",
    "### In addition, Lasso, which uses L1 regularization, is particularly effective in identifying select variables of importance when presented with a large list.  Since I included dummy variables in my model, which yielded 477 original variables, it is helpful that Lasso yields a sparse model to help eliminate variables that do not materially contribute to the target variable.\n"
   ]
  },
  {
   "cell_type": "markdown",
   "metadata": {
    "id": "UIFdZ42f9pbF"
   },
   "source": [
    "# Part 2: Classification"
   ]
  },
  {
   "cell_type": "markdown",
   "metadata": {
    "id": "XXG7ybwXETxU"
   },
   "source": [
    "Preparing my data for analysis"
   ]
  },
  {
   "cell_type": "code",
   "execution_count": 237,
   "metadata": {
    "colab": {
     "base_uri": "https://localhost:8080/"
    },
    "id": "JaNjultjEU7Y",
    "outputId": "31dd38cd-a6d3-47be-dad0-a3fd778fc4e8"
   },
   "outputs": [
    {
     "data": {
      "text/plain": [
       "63674"
      ]
     },
     "execution_count": 237,
     "metadata": {},
     "output_type": "execute_result"
    }
   ],
   "source": [
    "white_wine = pd.read_csv(\"https://archive.ics.uci.edu/ml/machine-learning-databases/wine-quality/winequality-white.csv\", sep = ';')\n",
    "white_wine['winetype'] = 0\n",
    "white_wine.size"
   ]
  },
  {
   "cell_type": "code",
   "execution_count": 238,
   "metadata": {
    "colab": {
     "base_uri": "https://localhost:8080/"
    },
    "id": "L7dhwCgnE-kS",
    "outputId": "cb951352-0d48-4dc2-924f-e32b86e00829"
   },
   "outputs": [
    {
     "data": {
      "text/plain": [
       "20787"
      ]
     },
     "execution_count": 238,
     "metadata": {},
     "output_type": "execute_result"
    }
   ],
   "source": [
    "red_wine = pd.read_csv(\"https://archive.ics.uci.edu/ml/machine-learning-databases/wine-quality/winequality-red.csv\", sep = ';')\n",
    "red_wine['winetype'] = 1\n",
    "red_wine.size"
   ]
  },
  {
   "cell_type": "code",
   "execution_count": 239,
   "metadata": {
    "colab": {
     "base_uri": "https://localhost:8080/"
    },
    "id": "hsQ7afXnIv-i",
    "outputId": "e24f3731-1d0f-49e6-da28-8eb615fe2677"
   },
   "outputs": [
    {
     "data": {
      "text/plain": [
       "True"
      ]
     },
     "execution_count": 239,
     "metadata": {},
     "output_type": "execute_result"
    }
   ],
   "source": [
    "wine_list = pd.concat([white_wine, red_wine])\n",
    "wine_list.size == red_wine.size + white_wine.size #confirm that the size matches what we expect"
   ]
  },
  {
   "cell_type": "code",
   "execution_count": 240,
   "metadata": {
    "colab": {
     "base_uri": "https://localhost:8080/"
    },
    "id": "zu_jyXA3_tDi",
    "outputId": "29501f2b-d851-4fc7-dce6-49c5937661c2"
   },
   "outputs": [
    {
     "name": "stdout",
     "output_type": "stream",
     "text": [
      "y_wine shape: (6497,)\n",
      "X_wine shape: (6497, 12)\n"
     ]
    }
   ],
   "source": [
    "y_wine = wine_list['winetype'] #my y-variable\n",
    "X_wine = wine_list.loc[:, wine_list.columns != 'winetype'] #my x-variable (everything but test scores)\n",
    "\n",
    "print(\"y_wine shape:\", y_wine.shape)\n",
    "print(\"X_wine shape:\", X_wine.shape)"
   ]
  },
  {
   "cell_type": "code",
   "execution_count": 241,
   "metadata": {
    "colab": {
     "base_uri": "https://localhost:8080/"
    },
    "id": "wfVbF3R-67JR",
    "outputId": "67558291-b0f8-4bb1-b9af-2b656cc361e7"
   },
   "outputs": [
    {
     "data": {
      "text/plain": [
       "Index(['fixed acidity', 'volatile acidity', 'citric acid', 'residual sugar',\n",
       "       'chlorides', 'free sulfur dioxide', 'total sulfur dioxide', 'density',\n",
       "       'pH', 'sulphates', 'alcohol', 'quality', 'winetype'],\n",
       "      dtype='object')"
      ]
     },
     "execution_count": 241,
     "metadata": {},
     "output_type": "execute_result"
    }
   ],
   "source": [
    "wine_list.columns"
   ]
  },
  {
   "cell_type": "code",
   "execution_count": 242,
   "metadata": {
    "colab": {
     "base_uri": "https://localhost:8080/",
     "height": 363
    },
    "id": "jb35mHtO_6Z4",
    "outputId": "ac5ab5d2-d8f2-4fa0-a564-49e9422251bf"
   },
   "outputs": [
    {
     "data": {
      "text/html": [
       "<div>\n",
       "<style scoped>\n",
       "    .dataframe tbody tr th:only-of-type {\n",
       "        vertical-align: middle;\n",
       "    }\n",
       "\n",
       "    .dataframe tbody tr th {\n",
       "        vertical-align: top;\n",
       "    }\n",
       "\n",
       "    .dataframe thead th {\n",
       "        text-align: right;\n",
       "    }\n",
       "</style>\n",
       "<table border=\"1\" class=\"dataframe\">\n",
       "  <thead>\n",
       "    <tr style=\"text-align: right;\">\n",
       "      <th></th>\n",
       "      <th>fixed acidity</th>\n",
       "      <th>volatile acidity</th>\n",
       "      <th>citric acid</th>\n",
       "      <th>residual sugar</th>\n",
       "      <th>chlorides</th>\n",
       "      <th>free sulfur dioxide</th>\n",
       "      <th>total sulfur dioxide</th>\n",
       "      <th>density</th>\n",
       "      <th>pH</th>\n",
       "      <th>sulphates</th>\n",
       "      <th>alcohol</th>\n",
       "      <th>quality</th>\n",
       "    </tr>\n",
       "  </thead>\n",
       "  <tbody>\n",
       "    <tr>\n",
       "      <th>0</th>\n",
       "      <td>7.0</td>\n",
       "      <td>0.27</td>\n",
       "      <td>0.36</td>\n",
       "      <td>20.7</td>\n",
       "      <td>0.045</td>\n",
       "      <td>45.0</td>\n",
       "      <td>170.0</td>\n",
       "      <td>1.0010</td>\n",
       "      <td>3.00</td>\n",
       "      <td>0.45</td>\n",
       "      <td>8.8</td>\n",
       "      <td>6</td>\n",
       "    </tr>\n",
       "    <tr>\n",
       "      <th>1</th>\n",
       "      <td>6.3</td>\n",
       "      <td>0.30</td>\n",
       "      <td>0.34</td>\n",
       "      <td>1.6</td>\n",
       "      <td>0.049</td>\n",
       "      <td>14.0</td>\n",
       "      <td>132.0</td>\n",
       "      <td>0.9940</td>\n",
       "      <td>3.30</td>\n",
       "      <td>0.49</td>\n",
       "      <td>9.5</td>\n",
       "      <td>6</td>\n",
       "    </tr>\n",
       "    <tr>\n",
       "      <th>2</th>\n",
       "      <td>8.1</td>\n",
       "      <td>0.28</td>\n",
       "      <td>0.40</td>\n",
       "      <td>6.9</td>\n",
       "      <td>0.050</td>\n",
       "      <td>30.0</td>\n",
       "      <td>97.0</td>\n",
       "      <td>0.9951</td>\n",
       "      <td>3.26</td>\n",
       "      <td>0.44</td>\n",
       "      <td>10.1</td>\n",
       "      <td>6</td>\n",
       "    </tr>\n",
       "    <tr>\n",
       "      <th>3</th>\n",
       "      <td>7.2</td>\n",
       "      <td>0.23</td>\n",
       "      <td>0.32</td>\n",
       "      <td>8.5</td>\n",
       "      <td>0.058</td>\n",
       "      <td>47.0</td>\n",
       "      <td>186.0</td>\n",
       "      <td>0.9956</td>\n",
       "      <td>3.19</td>\n",
       "      <td>0.40</td>\n",
       "      <td>9.9</td>\n",
       "      <td>6</td>\n",
       "    </tr>\n",
       "    <tr>\n",
       "      <th>4</th>\n",
       "      <td>7.2</td>\n",
       "      <td>0.23</td>\n",
       "      <td>0.32</td>\n",
       "      <td>8.5</td>\n",
       "      <td>0.058</td>\n",
       "      <td>47.0</td>\n",
       "      <td>186.0</td>\n",
       "      <td>0.9956</td>\n",
       "      <td>3.19</td>\n",
       "      <td>0.40</td>\n",
       "      <td>9.9</td>\n",
       "      <td>6</td>\n",
       "    </tr>\n",
       "    <tr>\n",
       "      <th>5</th>\n",
       "      <td>8.1</td>\n",
       "      <td>0.28</td>\n",
       "      <td>0.40</td>\n",
       "      <td>6.9</td>\n",
       "      <td>0.050</td>\n",
       "      <td>30.0</td>\n",
       "      <td>97.0</td>\n",
       "      <td>0.9951</td>\n",
       "      <td>3.26</td>\n",
       "      <td>0.44</td>\n",
       "      <td>10.1</td>\n",
       "      <td>6</td>\n",
       "    </tr>\n",
       "    <tr>\n",
       "      <th>6</th>\n",
       "      <td>6.2</td>\n",
       "      <td>0.32</td>\n",
       "      <td>0.16</td>\n",
       "      <td>7.0</td>\n",
       "      <td>0.045</td>\n",
       "      <td>30.0</td>\n",
       "      <td>136.0</td>\n",
       "      <td>0.9949</td>\n",
       "      <td>3.18</td>\n",
       "      <td>0.47</td>\n",
       "      <td>9.6</td>\n",
       "      <td>6</td>\n",
       "    </tr>\n",
       "    <tr>\n",
       "      <th>7</th>\n",
       "      <td>7.0</td>\n",
       "      <td>0.27</td>\n",
       "      <td>0.36</td>\n",
       "      <td>20.7</td>\n",
       "      <td>0.045</td>\n",
       "      <td>45.0</td>\n",
       "      <td>170.0</td>\n",
       "      <td>1.0010</td>\n",
       "      <td>3.00</td>\n",
       "      <td>0.45</td>\n",
       "      <td>8.8</td>\n",
       "      <td>6</td>\n",
       "    </tr>\n",
       "    <tr>\n",
       "      <th>8</th>\n",
       "      <td>6.3</td>\n",
       "      <td>0.30</td>\n",
       "      <td>0.34</td>\n",
       "      <td>1.6</td>\n",
       "      <td>0.049</td>\n",
       "      <td>14.0</td>\n",
       "      <td>132.0</td>\n",
       "      <td>0.9940</td>\n",
       "      <td>3.30</td>\n",
       "      <td>0.49</td>\n",
       "      <td>9.5</td>\n",
       "      <td>6</td>\n",
       "    </tr>\n",
       "    <tr>\n",
       "      <th>9</th>\n",
       "      <td>8.1</td>\n",
       "      <td>0.22</td>\n",
       "      <td>0.43</td>\n",
       "      <td>1.5</td>\n",
       "      <td>0.044</td>\n",
       "      <td>28.0</td>\n",
       "      <td>129.0</td>\n",
       "      <td>0.9938</td>\n",
       "      <td>3.22</td>\n",
       "      <td>0.45</td>\n",
       "      <td>11.0</td>\n",
       "      <td>6</td>\n",
       "    </tr>\n",
       "  </tbody>\n",
       "</table>\n",
       "</div>"
      ],
      "text/plain": [
       "   fixed acidity  volatile acidity  citric acid  ...  sulphates  alcohol  quality\n",
       "0            7.0              0.27         0.36  ...       0.45      8.8        6\n",
       "1            6.3              0.30         0.34  ...       0.49      9.5        6\n",
       "2            8.1              0.28         0.40  ...       0.44     10.1        6\n",
       "3            7.2              0.23         0.32  ...       0.40      9.9        6\n",
       "4            7.2              0.23         0.32  ...       0.40      9.9        6\n",
       "5            8.1              0.28         0.40  ...       0.44     10.1        6\n",
       "6            6.2              0.32         0.16  ...       0.47      9.6        6\n",
       "7            7.0              0.27         0.36  ...       0.45      8.8        6\n",
       "8            6.3              0.30         0.34  ...       0.49      9.5        6\n",
       "9            8.1              0.22         0.43  ...       0.45     11.0        6\n",
       "\n",
       "[10 rows x 12 columns]"
      ]
     },
     "execution_count": 242,
     "metadata": {},
     "output_type": "execute_result"
    }
   ],
   "source": [
    "X_wine.head(10) #let's look at our data set to see if we have any categorical variables that we need to change; I chose to leave Quality as a continuous variable"
   ]
  },
  {
   "cell_type": "markdown",
   "metadata": {
    "id": "gjxXvx6i6uTn"
   },
   "source": [
    "## **2.1 Visualize the univariate distribution of the target feature and each of the three explanatory variables that you think are likely to have a relationship with the target feature.**"
   ]
  },
  {
   "cell_type": "code",
   "execution_count": 243,
   "metadata": {
    "colab": {
     "base_uri": "https://localhost:8080/",
     "height": 357
    },
    "id": "CnSunqM36zOt",
    "outputId": "b06a571b-87fc-4658-9edb-4daaf6459893"
   },
   "outputs": [
    {
     "data": {
      "text/plain": [
       "(array([  63., 1151., 3248., 1339.,  382.,  177.,   82.,   41.,    7.,\n",
       "           7.]),\n",
       " array([ 3.8 ,  5.01,  6.22,  7.43,  8.64,  9.85, 11.06, 12.27, 13.48,\n",
       "        14.69, 15.9 ]),\n",
       " <a list of 10 Patch objects>)"
      ]
     },
     "execution_count": 243,
     "metadata": {},
     "output_type": "execute_result"
    },
    {
     "data": {
      "image/png": "[encoded data removed]",
      "text/plain": [
       "<Figure size 432x288 with 1 Axes>"
      ]
     },
     "metadata": {
      "needs_background": "light"
     },
     "output_type": "display_data"
    }
   ],
   "source": [
    "mpl.hist(wine_list['fixed acidity'])"
   ]
  },
  {
   "cell_type": "code",
   "execution_count": 244,
   "metadata": {
    "colab": {
     "base_uri": "https://localhost:8080/",
     "height": 357
    },
    "id": "zDAYO4Bz7woU",
    "outputId": "d3138266-d402-4fe7-8602-9bad23fe0c09"
   },
   "outputs": [
    {
     "data": {
      "text/plain": [
       "(array([  16.,  334., 1233., 2111., 1663.,  802.,  263.,   59.,   12.,\n",
       "           4.]),\n",
       " array([2.72 , 2.849, 2.978, 3.107, 3.236, 3.365, 3.494, 3.623, 3.752,\n",
       "        3.881, 4.01 ]),\n",
       " <a list of 10 Patch objects>)"
      ]
     },
     "execution_count": 244,
     "metadata": {},
     "output_type": "execute_result"
    },
    {
     "data": {
      "image/png": "[encoded data removed]",
      "text/plain": [
       "<Figure size 432x288 with 1 Axes>"
      ]
     },
     "metadata": {
      "needs_background": "light"
     },
     "output_type": "display_data"
    }
   ],
   "source": [
    "mpl.hist(wine_list['pH'])"
   ]
  },
  {
   "cell_type": "code",
   "execution_count": 245,
   "metadata": {
    "colab": {
     "base_uri": "https://localhost:8080/",
     "height": 357
    },
    "id": "VPqvmhxe7zVW",
    "outputId": "f9f10501-782c-4ece-a712-e3616484d0c5"
   },
   "outputs": [
    {
     "data": {
      "text/plain": [
       "(array([1.088e+03, 9.790e+02, 2.049e+03, 1.514e+03, 7.210e+02, 1.340e+02,\n",
       "        8.000e+00, 2.000e+00, 1.000e+00, 1.000e+00]),\n",
       " array([  6. ,  49.4,  92.8, 136.2, 179.6, 223. , 266.4, 309.8, 353.2,\n",
       "        396.6, 440. ]),\n",
       " <a list of 10 Patch objects>)"
      ]
     },
     "execution_count": 245,
     "metadata": {},
     "output_type": "execute_result"
    },
    {
     "data": {
      "image/png": "[encoded data removed]",
      "text/plain": [
       "<Figure size 432x288 with 1 Axes>"
      ]
     },
     "metadata": {
      "needs_background": "light"
     },
     "output_type": "display_data"
    }
   ],
   "source": [
    "mpl.hist(wine_list['total sulfur dioxide'])"
   ]
  },
  {
   "cell_type": "markdown",
   "metadata": {
    "id": "KdEpupRQIv1H"
   },
   "source": [
    "## **2.2 Split data into training and test set. Build models that evaluate the relationship between all available X variables in the data set and the target variable. Evaluate Logistic Regression, Penalized Logistic Regression, and KNN for classification using cross-validation. How different are the results? How does scaling the data with StandardScaler influence the results?**\n",
    "\n",
    "> ### The results improved after I scaled using StandardScaler, especially my KNN Classifier, whose mean cross validation score increased from 0.94 to 0.99.\n",
    "\n",
    "> ### Beyond the CV mean scores, the accuracy test scores for all three models also improved once I scaled the data with StandardScaler.  The largest improvement occurred in KNN Classification."
   ]
  },
  {
   "cell_type": "code",
   "execution_count": 246,
   "metadata": {
    "colab": {
     "base_uri": "https://localhost:8080/"
    },
    "id": "ztFg5WfdGMBg",
    "outputId": "65034720-b667-42b9-daf6-a51abd3743d9"
   },
   "outputs": [
    {
     "name": "stdout",
     "output_type": "stream",
     "text": [
      "[(4872, 12), (1625, 12), (4872,), (1625,)]\n"
     ]
    }
   ],
   "source": [
    "from sklearn.model_selection import train_test_split\n",
    "\n",
    "X_train, X_test, y_train, y_test = train_test_split(X_wine, y_wine, random_state = 40)\n",
    "\n",
    "#review the training and test dimensions to confirm that my data set is the appropriate size\n",
    "view_my_list = [X_train.shape, X_test.shape, y_train.shape, y_test.shape]\n",
    "print(view_my_list)"
   ]
  },
  {
   "cell_type": "markdown",
   "metadata": {
    "id": "lxWR_nteL9_n"
   },
   "source": [
    "Knn Classifier"
   ]
  },
  {
   "cell_type": "code",
   "execution_count": 247,
   "metadata": {
    "colab": {
     "base_uri": "https://localhost:8080/"
    },
    "id": "PGaFVis8L9eC",
    "outputId": "e99e7982-6acd-4569-b95d-cd0180c40702"
   },
   "outputs": [
    {
     "name": "stdout",
     "output_type": "stream",
     "text": [
      "KNN Classifier Test Score:  0.940923076923077\n"
     ]
    }
   ],
   "source": [
    "from sklearn.neighbors import KNeighborsClassifier\n",
    "knn_classifier = KNeighborsClassifier().fit(X_train, y_train)\n",
    "\n",
    "print(\"KNN Classifier Test Score: \", knn_classifier.score(X_test, y_test))"
   ]
  },
  {
   "cell_type": "markdown",
   "metadata": {
    "id": "ld_yn6uPHsUC"
   },
   "source": [
    "Logistic Regression (no penalty)"
   ]
  },
  {
   "cell_type": "code",
   "execution_count": 248,
   "metadata": {
    "colab": {
     "base_uri": "https://localhost:8080/"
    },
    "id": "r-l5vZP9HsEJ",
    "outputId": "465bd52b-c9bc-444f-a0a7-23f7f800325a"
   },
   "outputs": [
    {
     "name": "stdout",
     "output_type": "stream",
     "text": [
      "logistic_regression.coef_: [[  1.50657303  12.81078716  -0.5262792   -0.07203927  38.46186029\n",
      "    0.06280919  -0.07246361 -22.44452395  10.22323576   8.55377074\n",
      "   -0.42576179   0.16754752]]\n",
      "logistic_regression.intercept_: [-26.35131888]\n",
      "Number of features used: 12\n",
      "Logistic Regression Test Score:  0.9852307692307692\n"
     ]
    }
   ],
   "source": [
    "from sklearn.linear_model import LogisticRegression\n",
    "logistic_regression = LogisticRegression(penalty='none', max_iter = 10000).fit(X_train, y_train)\n",
    "\n",
    "print(\"logistic_regression.coef_: {}\".format(logistic_regression.coef_))\n",
    "print(\"logistic_regression.intercept_: {}\".format(logistic_regression.intercept_))\n",
    "print(\"Number of features used: {}\".format(np.sum(logistic_regression.coef_ != 0)))\n",
    "print(\"Logistic Regression Test Score: \", logistic_regression.score(X_test, y_test))"
   ]
  },
  {
   "cell_type": "markdown",
   "metadata": {
    "id": "4Ex5Y3_6INHe"
   },
   "source": [
    "Logistic Regression (default l2 Penalty)"
   ]
  },
  {
   "cell_type": "code",
   "execution_count": 249,
   "metadata": {
    "colab": {
     "base_uri": "https://localhost:8080/"
    },
    "id": "pClD5ZQyINNm",
    "outputId": "b2ded84b-766b-4718-b12b-0e69beb682d4"
   },
   "outputs": [
    {
     "name": "stdout",
     "output_type": "stream",
     "text": [
      "logistic_regression_l2.coef_: [[ 0.70175114  8.22197148 -0.77122507 -0.14764468  2.12940347  0.04995036\n",
      "  -0.06517805 -2.53551609  2.11717464  6.38325319 -0.83840905 -0.06564089]]\n",
      "logistic_regression_l2.intercept_: [-2.75122359]\n",
      "Number of features used: 12\n",
      "Logistic Regresion L2 Test Score:  0.9735384615384616\n"
     ]
    }
   ],
   "source": [
    "logistic_regression_l2 = LogisticRegression(penalty='l2', solver='liblinear').fit(X_train, y_train)\n",
    "\n",
    "print(\"logistic_regression_l2.coef_: {}\".format(logistic_regression_l2.coef_))\n",
    "print(\"logistic_regression_l2.intercept_: {}\".format(logistic_regression_l2.intercept_))\n",
    "print(\"Number of features used: {}\".format(np.sum(logistic_regression_l2.coef_ != 0)))\n",
    "print(\"Logistic Regresion L2 Test Score: \", logistic_regression_l2.score(X_test, y_test))"
   ]
  },
  {
   "cell_type": "markdown",
   "metadata": {
    "id": "dlQroZXcMNCC"
   },
   "source": [
    "Model scores before scaling"
   ]
  },
  {
   "cell_type": "code",
   "execution_count": 250,
   "metadata": {
    "colab": {
     "base_uri": "https://localhost:8080/"
    },
    "id": "kedSQ4qFGdCZ",
    "outputId": "2bab8e0f-f42d-42dc-e849-71251ee80496"
   },
   "outputs": [
    {
     "name": "stdout",
     "output_type": "stream",
     "text": [
      "Training set CV scores:\n",
      "KNN Classifier CV Mean Score: 0.94\n",
      "Logistic Regression CV Mean Score: 0.99\n",
      "Logistic Regression Penalty CV Mean Score: 0.98\n"
     ]
    }
   ],
   "source": [
    "#Print the default cross validation scores for each model\n",
    "print(\"Training set CV scores:\")\n",
    "print(\"KNN Classifier CV Mean Score: {:.2f}\".format(np.mean(cross_val_score(KNeighborsClassifier(), X_train, y_train, scoring=\"accuracy\"))))\n",
    "print(\"Logistic Regression CV Mean Score: {:.2f}\".format(np.mean(cross_val_score(LogisticRegression(penalty='none', max_iter = 10000), X_train, y_train, scoring=\"accuracy\"))))\n",
    "print(\"Logistic Regression Penalty CV Mean Score: {:.2f}\".format(np.mean(cross_val_score(LogisticRegression(penalty='l2', solver='liblinear'), X_train, y_train, scoring=\"accuracy\"))))"
   ]
  },
  {
   "cell_type": "markdown",
   "metadata": {
    "id": "l3ehUyKYHP6Y"
   },
   "source": [
    "Now, I scale my training and test data and rerun my models"
   ]
  },
  {
   "cell_type": "code",
   "execution_count": 251,
   "metadata": {
    "id": "GsiAradjHJlQ"
   },
   "outputs": [],
   "source": [
    "from sklearn.preprocessing import StandardScaler\n",
    "\n",
    "scaler = StandardScaler()\n",
    "scaler.fit(X_train)\n",
    "X_scaled = scaler.transform(X_train)\n",
    "\n",
    "X_test_scaled = scaler.transform(X_test)"
   ]
  },
  {
   "cell_type": "markdown",
   "metadata": {
    "id": "5u-pCKDkSblO"
   },
   "source": [
    "Test and Train Scores for each of my scaled models"
   ]
  },
  {
   "cell_type": "code",
   "execution_count": 252,
   "metadata": {
    "colab": {
     "base_uri": "https://localhost:8080/"
    },
    "id": "-6Bhcl1NMd-3",
    "outputId": "bb340e81-31f3-489e-9b10-fe7e67bfe142"
   },
   "outputs": [
    {
     "name": "stdout",
     "output_type": "stream",
     "text": [
      "KNN Classifier Test Score:  0.992\n",
      "Logistic Regression (no penalty) Test Score:  0.992\n",
      "Logistic Regression (L2 Penalty) Test Score:  0.992\n",
      "\n",
      "KNN Classifier Train Score:  0.9948686371100164\n",
      "Logistic Regression (no penalty) Train Score:  0.9946633825944171\n",
      "Logistic Regression (L2 Penalty) Train Score:  0.9950738916256158\n"
     ]
    }
   ],
   "source": [
    "knn_classifier_scaled = KNeighborsClassifier().fit(X_scaled, y_train)\n",
    "logistic_regression_scaled = LogisticRegression(penalty = 'none').fit(X_scaled, y_train)\n",
    "logistic_regression_penalty_scaled = LogisticRegression(penalty='l2', solver='liblinear').fit(X_scaled, y_train)\n",
    "\n",
    "print(\"KNN Classifier Test Score: \",knn_classifier_scaled.score(X_test_scaled, y_test))\n",
    "print(\"Logistic Regression (no penalty) Test Score: \",logistic_regression_scaled.score(X_test_scaled, y_test))\n",
    "print(\"Logistic Regression (L2 Penalty) Test Score: \", logistic_regression_penalty_scaled.score(X_test_scaled, y_test))\n",
    "\n",
    "print(\"\\nKNN Classifier Train Score: \", knn_classifier_scaled.score(X_scaled, y_train))\n",
    "print(\"Logistic Regression (no penalty) Train Score: \", logistic_regression_scaled.score(X_scaled, y_train))\n",
    "print(\"Logistic Regression (L2 Penalty) Train Score: \", logistic_regression_penalty_scaled.score(X_scaled, y_train))"
   ]
  },
  {
   "cell_type": "markdown",
   "metadata": {
    "id": "qyFAFatzSgoh"
   },
   "source": [
    "Cross Val Scores for my scaled models"
   ]
  },
  {
   "cell_type": "code",
   "execution_count": 253,
   "metadata": {
    "colab": {
     "base_uri": "https://localhost:8080/"
    },
    "id": "2tSJo7J7NKCg",
    "outputId": "c30d09fb-ba94-42ef-e0b4-23e3e55ca6aa"
   },
   "outputs": [
    {
     "name": "stdout",
     "output_type": "stream",
     "text": [
      "Training set scores:\n",
      "KNN Classifier CV Mean Score: 0.99\n",
      "Logistic Regression CV Mean Score: 0.99\n",
      "Logistic Regression Penalty CV Mean Score: 0.99\n"
     ]
    }
   ],
   "source": [
    "#Print the default cross validation scores for each model\n",
    "print(\"Training set scores:\")\n",
    "print(\"KNN Classifier CV Mean Score: {:.2f}\".format(np.mean(cross_val_score(KNeighborsClassifier(), X_scaled, y_train, scoring=\"accuracy\"))))\n",
    "print(\"Logistic Regression CV Mean Score: {:.2f}\".format(np.mean(cross_val_score(LogisticRegression(penalty='none'), X_scaled, y_train, scoring=\"accuracy\"))))\n",
    "print(\"Logistic Regression Penalty CV Mean Score: {:.2f}\".format(np.mean(cross_val_score(LogisticRegression(penalty='l2', solver='liblinear'), X_scaled, y_train, scoring=\"accuracy\"))))"
   ]
  },
  {
   "cell_type": "markdown",
   "metadata": {
    "id": "NOqaYqgkJgCL"
   },
   "source": [
    "## **2.3 Tune the parameters where possible using GridSearchCV. Do the results improve?**\n",
    "\n",
    "\n",
    "\n",
    "> ### Yes, the test score improved by 0.001 in accuracy for the KNN Classifier and Penalized Logistic Regression once I applied the best parameters found by GridSearchCV.  With the mean cross-validation scores, the KNN classifier accuracy improved from 0.94 to 0.99, while the Logistic Regression with penalty maintained the same accuracy score after GridSearchCV.\n",
    "\n",
    "\n",
    "\n",
    "\n"
   ]
  },
  {
   "cell_type": "markdown",
   "metadata": {
    "id": "QoLzNTJiTGeJ"
   },
   "source": [
    "**Logistic Regression (no penalty) GridSearchCV:** I did not run GridSearchCV on my Logistic Regression where penalty = 'none' because the error message from Python said that I cannot adjust C if my penalty is set to none."
   ]
  },
  {
   "cell_type": "markdown",
   "metadata": {
    "id": "HG5fkuqbTbPA"
   },
   "source": [
    "**Penalty Logistic Regression GridSearchCV**"
   ]
  },
  {
   "cell_type": "code",
   "execution_count": 254,
   "metadata": {
    "colab": {
     "base_uri": "https://localhost:8080/"
    },
    "id": "LXKeIeOoTfdx",
    "outputId": "7988a3de-b776-4816-a967-170c8956abd0"
   },
   "outputs": [
    {
     "name": "stdout",
     "output_type": "stream",
     "text": [
      "best mean cross-validation score: 0.995\n",
      "best parameters: {'C': 0.6250551925273976, 'penalty': 'l1'}\n",
      "CV Mean Score: 0.99\n",
      "test-set score: 0.994\n"
     ]
    }
   ],
   "source": [
    "param_grid = {'C': np.logspace(-10, 10, base = 10), 'penalty': ['l1','l2']}\n",
    "#i chose not to include elasticnet to ensure convergence\n",
    "\n",
    "#chose to use liblinear as solver since it allows l1 and l2 penalties to ensure convergence\n",
    "pen_logreg_gridmodel = GridSearchCV(LogisticRegression(solver = 'liblinear'), param_grid=param_grid, cv=10)\n",
    "\n",
    "#use meta model methods to fit score and predict model:\n",
    "pen_logreg_gridmodel.fit(X_scaled, y_train)\n",
    "\n",
    "#extract best score and parameter by calling objects \"best_score_\" and \"best_params_\"\n",
    "print(\"best mean cross-validation score: {:.3f}\".format(pen_logreg_gridmodel.best_score_))\n",
    "print(\"best parameters: {}\".format(pen_logreg_gridmodel.best_params_))\n",
    "print(\"CV Mean Score: {:.2f}\".format(np.mean(cross_val_score(LogisticRegression(solver = 'liblinear', **pen_logreg_gridmodel.best_params_), X_scaled, y_train, scoring=\"accuracy\"))))\n",
    "print(\"test-set score: {:.3f}\".format(pen_logreg_gridmodel.score(X_test_scaled, y_test)))"
   ]
  },
  {
   "cell_type": "markdown",
   "metadata": {
    "id": "Um99xSt4TN5P"
   },
   "source": [
    "**KNN Classifier GridSearchCV**"
   ]
  },
  {
   "cell_type": "code",
   "execution_count": 255,
   "metadata": {
    "colab": {
     "base_uri": "https://localhost:8080/"
    },
    "id": "Rn0C0h07Jt61",
    "outputId": "03bb94ea-759c-402d-b7c9-3632c3968d51"
   },
   "outputs": [
    {
     "name": "stdout",
     "output_type": "stream",
     "text": [
      "best mean cross-validation score: 0.994\n",
      "best parameters: {'n_neighbors': 1}\n",
      "CV Mean Score: 0.99\n",
      "test-set score: 0.993\n"
     ]
    }
   ],
   "source": [
    "param_grid = {'n_neighbors': np.arange(1, 30, 1)}\n",
    "\n",
    "knn_gridmodel = GridSearchCV(KNeighborsClassifier(), param_grid=param_grid, cv=10)\n",
    "\n",
    "#use meta model methods to fit score and predict model:\n",
    "knn_gridmodel.fit(X_scaled, y_train)\n",
    "\n",
    "#extract best score and parameter by calling objects \"best_score_\" and \"best_params_\"\n",
    "print(\"best mean cross-validation score: {:.3f}\".format(knn_gridmodel.best_score_))\n",
    "print(\"best parameters: {}\".format(knn_gridmodel.best_params_))\n",
    "print(\"CV Mean Score: {:.2f}\".format(np.mean(cross_val_score(KNeighborsClassifier(**knn_gridmodel.best_params_), X_scaled, y_train, scoring=\"accuracy\"))))\n",
    "print(\"test-set score: {:.3f}\".format(knn_gridmodel.score(X_test_scaled, y_test)))"
   ]
  },
  {
   "cell_type": "markdown",
   "metadata": {
    "id": "23NTRk_4JoZF"
   },
   "source": [
    "## **2.4 Change the cross-validation strategy in GridSearchCV from ‘stratified k-fold’ to ‘kfold’ with shuffling. Do the parameters for models that can be tuned change? Do they change if you change the random seed of the shuffling? Or if you change the random state of the split into training and test data?**\n",
    "\n",
    "\n",
    "\n",
    "> ### To answer this question, I will begin with rerunning my three models (KNN Classifier, Logistic Regression w/ and w/o penalty), converting them from stratified kfold to 'kfold with shuffling' to determine any changes in scores and best parameters.  Afterwards, I will change the seed to determine if there are any changes when shuffling; there were no changes to my parameters or mean scores though there were some slight differences in individual GridSearchCV scores.  I did not run the Logistic Regression with no penalty since I cannot alter the C parameter when the penalty is set to 'none'.\n",
    "\n",
    "> ### Through my results, I observed that shuffling altered my parameters for KNN Classification and Logistic Regression.   Employing stratified kfold, it found the best n_neighbors to be 1, while shuffled k-fold led to an optimal neighbor count of 12.  The best C parameter for my Penalized Logistic Regression were also different (0.625 vs 0.244) between the stratified and shuffled k-fold methods. For the KNN Classifier and Penalized Logistic Regression, stratified kfold actually yielded slightly (0.001) better mean cross-validation and test scores.\n",
    "\n",
    "> ### In selecting a different seed for kfold shuffling, I noticed different ideal parameters for my Penalized Logistic Regression; the best penalty parameter actually changed from l1 to l2.  The accuracy test scores and the mean cross-validation scores also changed when I selected a different seed: my KNN Classifier's test score improved while the Penalized Logistic Regression's test score fell.\n",
    "\n",
    "> ### When choosing a different seed for train_test_split, it did not change the performance of my models in their mean cross-validation score or their test scores.  The best parameters found by GridSearchCV also did not change.\n",
    "\n"
   ]
  },
  {
   "cell_type": "markdown",
   "metadata": {
    "id": "VUN7woskWWE7"
   },
   "source": [
    "KNN Classifier - KFold with Shuffling vs Stratified KFold Analysis"
   ]
  },
  {
   "cell_type": "code",
   "execution_count": 256,
   "metadata": {
    "colab": {
     "base_uri": "https://localhost:8080/"
    },
    "id": "JkLXfVTyAanL",
    "outputId": "29fad3dd-8358-463d-d876-9165ae5de611"
   },
   "outputs": [
    {
     "name": "stdout",
     "output_type": "stream",
     "text": [
      "KNN SKFold best mean cross-validation score: 0.994\n",
      "KNN KFold best mean cross-validation score: 0.993\n",
      "\n",
      "best parameters: {'n_neighbors': 1}\n",
      "best parameters: {'n_neighbors': 12}\n",
      "\n",
      "StratifiedKFold:\n",
      "[0.99795082 0.99590164 0.98973306 0.99383984 0.99178645 0.99383984\n",
      " 0.99589322 0.99383984 0.99383984 0.99383984]\n",
      "KFold:\n",
      "[0.99180328 0.99795082 0.98562628 0.99794661 0.99383984 0.99383984\n",
      " 0.99383984 0.98973306 0.99383984 0.99589322]\n",
      "\n",
      "Stratified KFold CV Mean Score: 0.99\n",
      "Shuffled KFold CV Mean Score: 0.99\n",
      "\n",
      "Stratified KFold test-set score: 0.993\n",
      "Shuffled KFold test-set score: 0.991\n"
     ]
    }
   ],
   "source": [
    "from sklearn.model_selection import cross_val_score\n",
    "from sklearn.model_selection import RepeatedKFold\n",
    "from sklearn.model_selection import StratifiedKFold\n",
    "\n",
    "from sklearn.model_selection import KFold\n",
    "import numpy as np\n",
    "\n",
    "skfold = StratifiedKFold(n_splits=10)\n",
    "kfold = KFold(n_splits=10, shuffle=True, random_state = 50)\n",
    "\n",
    "param_grid = {'n_neighbors': np.arange(1, 30, 1)}\n",
    "\n",
    "#set up GridSearchCV to compare stratified kfold and k-fold\n",
    "knn_skfold_gridmodel = GridSearchCV(KNeighborsClassifier(), param_grid=param_grid, cv=skfold)\n",
    "knn_shuffle_kfold_gridmodel = GridSearchCV(KNeighborsClassifier(), param_grid=param_grid, cv=kfold)\n",
    "\n",
    "#use meta model methods to fit score and predict model:\n",
    "knn_skfold_gridmodel.fit(X_scaled, y_train)\n",
    "knn_shuffle_kfold_gridmodel.fit(X_scaled, y_train)\n",
    "\n",
    "#extract best score and parameter by calling objects \"best_score_\" and \"best_params_\"\n",
    "print(\"KNN SKFold best mean cross-validation score: {:.3f}\".format(knn_skfold_gridmodel.best_score_))\n",
    "print(\"KNN KFold best mean cross-validation score: {:.3f}\".format(knn_shuffle_kfold_gridmodel.best_score_))\n",
    "\n",
    "print(\"\\nbest parameters: {}\".format(knn_skfold_gridmodel.best_params_))\n",
    "print(\"best parameters: {}\".format(knn_shuffle_kfold_gridmodel.best_params_))\n",
    "\n",
    "print(\"\\nStratifiedKFold:\\n{}\".format(cross_val_score(KNeighborsClassifier(**knn_skfold_gridmodel.best_params_), X_scaled, y_train, cv=skfold, scoring = \"accuracy\")))\n",
    "print(\"KFold:\\n{}\".format(cross_val_score(KNeighborsClassifier(**knn_shuffle_kfold_gridmodel.best_params_), X_scaled, y_train, cv=kfold, scoring = \"accuracy\")))\n",
    "\n",
    "print(\"\\nStratified KFold CV Mean Score: {:.2f}\".format(np.mean(cross_val_score(KNeighborsClassifier(**knn_skfold_gridmodel.best_params_), X_scaled, y_train, cv = skfold, scoring=\"accuracy\"))))\n",
    "print(\"Shuffled KFold CV Mean Score: {:.2f}\".format(np.mean(cross_val_score(KNeighborsClassifier(**knn_shuffle_kfold_gridmodel.best_params_), X_scaled, y_train, cv = kfold, scoring=\"accuracy\"))))\n",
    "\n",
    "print(\"\\nStratified KFold test-set score: {:.3f}\".format(knn_skfold_gridmodel.score(X_test_scaled, y_test)))\n",
    "print(\"Shuffled KFold test-set score: {:.3f}\".format(knn_shuffle_kfold_gridmodel.score(X_test_scaled, y_test)))"
   ]
  },
  {
   "cell_type": "markdown",
   "metadata": {
    "id": "uP7tAZarW8sH"
   },
   "source": [
    "Logistic Regression (with penalty) - KFold with Shuffling vs Stratified KFold Analysis\n"
   ]
  },
  {
   "cell_type": "code",
   "execution_count": 257,
   "metadata": {
    "colab": {
     "base_uri": "https://localhost:8080/"
    },
    "id": "jmzm_Vc2gtzP",
    "outputId": "45f137d0-491a-4e76-dbbe-b32dfd87936f"
   },
   "outputs": [
    {
     "name": "stdout",
     "output_type": "stream",
     "text": [
      "LogReg SKFold best mean cross-validation score: 0.995\n",
      "LogReg KFold best mean cross-validation score: 0.994\n",
      "\n",
      "best parameters: {'C': 0.6250551925273976, 'penalty': 'l1'}\n",
      "best parameters: {'C': 0.2442053094548655, 'penalty': 'l1'}\n",
      "StratifiedKFold:\n",
      "[0.99795082 0.99795082 0.98973306 0.99178645 0.99589322 0.99383984\n",
      " 0.99589322 0.99589322 0.99383984 0.99383984]\n",
      "KFold:\n",
      "[0.99180328 0.99590164 0.99178645 0.99794661 0.99589322 0.99589322\n",
      " 0.99589322 0.98767967 0.99794661 0.99383984]\n",
      "Stratified KFold CV Mean Score: 0.99\n",
      "Shuffled KFold CV Mean Score: 0.99\n",
      "\n",
      "Stratified KFold test-set score: 0.994\n",
      "Shuffled KFold test-set score: 0.993\n"
     ]
    }
   ],
   "source": [
    "skfold = StratifiedKFold(n_splits=10)\n",
    "kfold = KFold(n_splits=10, shuffle=True, random_state = 50)\n",
    "\n",
    "param_grid = {'C': np.logspace(-10, 10, base = 10), 'penalty': ['l1','l2']}\n",
    "\n",
    "#set up GridSearchCV to compare stratified kfold and k-fold\n",
    "logreg_skfold_gridmodel = GridSearchCV(LogisticRegression(solver = 'liblinear'), param_grid=param_grid, cv=skfold)\n",
    "logreg_shuffle_kfold_gridmodel = GridSearchCV(LogisticRegression(solver = 'liblinear'), param_grid=param_grid, cv=kfold)\n",
    "\n",
    "#use meta model methods to fit score and predict model:\n",
    "logreg_skfold_gridmodel.fit(X_scaled, y_train)\n",
    "logreg_shuffle_kfold_gridmodel.fit(X_scaled, y_train)\n",
    "\n",
    "#extract best score and parameter by calling objects \"best_score_\" and \"best_params_\"\n",
    "print(\"LogReg SKFold best mean cross-validation score: {:.3f}\".format(logreg_skfold_gridmodel.best_score_))\n",
    "print(\"LogReg KFold best mean cross-validation score: {:.3f}\".format(logreg_shuffle_kfold_gridmodel.best_score_))\n",
    "\n",
    "print(\"\\nbest parameters: {}\".format(logreg_skfold_gridmodel.best_params_))\n",
    "print(\"best parameters: {}\".format(logreg_shuffle_kfold_gridmodel.best_params_))\n",
    "\n",
    "print(\"StratifiedKFold:\\n{}\".format(cross_val_score(LogisticRegression(solver = 'liblinear', **logreg_skfold_gridmodel.best_params_), X_scaled, y_train, cv=skfold, scoring = \"accuracy\")))\n",
    "print(\"KFold:\\n{}\".format(cross_val_score(LogisticRegression(solver = 'liblinear', **logreg_shuffle_kfold_gridmodel.best_params_), X_scaled, y_train, cv=kfold, scoring = \"accuracy\")))\n",
    "\n",
    "print(\"Stratified KFold CV Mean Score: {:.2f}\".format(np.mean(cross_val_score(LogisticRegression(solver = 'liblinear', **logreg_skfold_gridmodel.best_params_), X_scaled, y_train, cv = skfold, scoring=\"accuracy\"))))\n",
    "print(\"Shuffled KFold CV Mean Score: {:.2f}\".format(np.mean(cross_val_score(LogisticRegression(solver = 'liblinear', **logreg_shuffle_kfold_gridmodel.best_params_), X_scaled, y_train, cv = kfold, scoring=\"accuracy\"))))\n",
    "\n",
    "print(\"\\nStratified KFold test-set score: {:.3f}\".format(logreg_skfold_gridmodel.score(X_test_scaled, y_test)))\n",
    "print(\"Shuffled KFold test-set score: {:.3f}\".format(logreg_shuffle_kfold_gridmodel.score(X_test_scaled, y_test)))"
   ]
  },
  {
   "cell_type": "markdown",
   "metadata": {
    "id": "83pEAmJLBq6J"
   },
   "source": [
    "Try a different seed to see how results differ when shuffling."
   ]
  },
  {
   "cell_type": "code",
   "execution_count": 258,
   "metadata": {
    "colab": {
     "base_uri": "https://localhost:8080/"
    },
    "id": "OTLjHEPk7aQ8",
    "outputId": "8161d8ab-8a64-41cf-f7ba-8b94f328dcf8"
   },
   "outputs": [
    {
     "name": "stdout",
     "output_type": "stream",
     "text": [
      "KNN Shuffle KFold best mean cross-validation score: 0.994\n",
      "LogReg Shuffle KFold best mean cross-validation score: 0.994\n",
      "\n",
      "KNN Shuffle KFold:\n",
      "[0.99795082 0.99385246 0.99589322 0.99383984 0.99589322 0.99589322\n",
      " 0.99383984 0.98973306 0.99178645 0.99383984]\n",
      "LogReg Shuffle KFold:\n",
      "[0.9897541  1.         0.99178645 0.99383984 0.99589322 0.99383984\n",
      " 0.99794661 0.9835729  0.99383984 0.99589322]\n",
      "\n",
      "KNN best parameters: {'n_neighbors': 1}\n",
      "LogReg best parameters: {'C': 0.2442053094548655, 'penalty': 'l2'}\n",
      "\n",
      "KNN Statified KFold CV Mean Score: 0.99\n",
      "LogReg Statified KFold CV Mean Score: 0.99\n",
      "\n",
      "KNN Shuffled KFold test-set score: 0.993\n",
      "LogReg Shuffled KFold test-set score: 0.991\n"
     ]
    }
   ],
   "source": [
    "#use random_state = 30 instead of 50\n",
    "kfold = KFold(n_splits=10, shuffle=True, random_state = 30)\n",
    "\n",
    "#set up parameters for evaluation\n",
    "knn_param_grid = {'n_neighbors': np.arange(1, 30, 1)}\n",
    "logreg_param_grid = {'C': np.logspace(-10, 10, base = 10), 'penalty': ['l1','l2']}\n",
    "\n",
    "#set up gridsearchcv\n",
    "knn_shuffle_kfold_gridmodel2 = GridSearchCV(KNeighborsClassifier(), param_grid=knn_param_grid, cv=kfold)\n",
    "logreg_shuffle_kfold_gridmodel2 = GridSearchCV(LogisticRegression(solver = 'liblinear'), param_grid=logreg_param_grid, cv=kfold)\n",
    "\n",
    "#use meta model methods to fit score and predict model:\n",
    "knn_shuffle_kfold_gridmodel2.fit(X_scaled, y_train)\n",
    "logreg_shuffle_kfold_gridmodel2.fit(X_scaled, y_train)\n",
    "\n",
    "#extract best score and parameter by calling objects \"best_score_\" and \"best_params_\"\n",
    "print(\"KNN Shuffle KFold best mean cross-validation score: {:.3f}\".format(knn_shuffle_kfold_gridmodel2.best_score_))\n",
    "print(\"LogReg Shuffle KFold best mean cross-validation score: {:.3f}\".format(logreg_shuffle_kfold_gridmodel2.best_score_))\n",
    "\n",
    "print(\"\\nKNN Shuffle KFold:\\n{}\".format(cross_val_score(KNeighborsClassifier(**knn_shuffle_kfold_gridmodel2.best_params_), X_scaled, y_train, cv=kfold, scoring = \"accuracy\")))\n",
    "print(\"LogReg Shuffle KFold:\\n{}\".format(cross_val_score(LogisticRegression(solver = 'liblinear', **logreg_shuffle_kfold_gridmodel2.best_params_), X_scaled, y_train, cv=kfold, scoring = \"accuracy\")))\n",
    "\n",
    "print(\"\\nKNN best parameters: {}\".format(knn_shuffle_kfold_gridmodel2.best_params_))\n",
    "print(\"LogReg best parameters: {}\".format(logreg_shuffle_kfold_gridmodel2.best_params_))\n",
    "\n",
    "print(\"\\nKNN Statified KFold CV Mean Score: {:.2f}\".format(np.mean(cross_val_score(KNeighborsClassifier(**knn_shuffle_kfold_gridmodel2.best_params_), X_scaled, y_train, cv = skfold, scoring=\"accuracy\"))))\n",
    "print(\"LogReg Statified KFold CV Mean Score: {:.2f}\".format(np.mean(cross_val_score(LogisticRegression(solver = 'liblinear', **logreg_shuffle_kfold_gridmodel2.best_params_), X_scaled, y_train, cv = kfold, scoring=\"accuracy\"))))\n",
    "\n",
    "print(\"\\nKNN Shuffled KFold test-set score: {:.3f}\".format(knn_shuffle_kfold_gridmodel2.score(X_test_scaled, y_test)))\n",
    "print(\"LogReg Shuffled KFold test-set score: {:.3f}\".format(logreg_shuffle_kfold_gridmodel2.score(X_test_scaled, y_test)))"
   ]
  },
  {
   "cell_type": "markdown",
   "metadata": {
    "id": "CoGCtmv9NBV_"
   },
   "source": [
    "Now I will try a different random state seed for my train_test_split to see if it yields different results."
   ]
  },
  {
   "cell_type": "code",
   "execution_count": 259,
   "metadata": {
    "colab": {
     "base_uri": "https://localhost:8080/"
    },
    "id": "FHQR5cMxM-Ji",
    "outputId": "7371bac3-5d44-4dee-f9f5-3b5a7162ef7c"
   },
   "outputs": [
    {
     "name": "stdout",
     "output_type": "stream",
     "text": [
      "New Seed - KNN Classifier Test Score:  0.992\n",
      "New Seed - Logistic Regression (no penalty) Test Score:  0.992\n",
      "New Seed - Logistic Regression (L2 Penalty) Test Score:  0.992\n",
      "\n",
      "New Seed - KNN Classifier Train Score:  0.9948686371100164\n",
      "New Seed - Logistic Regression (no penalty) Train Score:  0.9946633825944171\n",
      "New Seed - Logistic Regression (L2 Penalty) Train Score:  0.9950738916256158\n"
     ]
    }
   ],
   "source": [
    "from sklearn.model_selection import train_test_split\n",
    "\n",
    "X_train_newseed, X_test_newseed, y_train_newseed, y_test_newseed = train_test_split(X_wine, y_wine, random_state = 10)\n",
    "\n",
    "scaler = StandardScaler()\n",
    "scaler.fit(X_train_newseed)\n",
    "X_scaled_newseed = scaler.transform(X_train_newseed)\n",
    "\n",
    "X_test_scaled_newseed = scaler.transform(X_test_newseed)\n",
    "\n",
    "knn_classifier_scaled = KNeighborsClassifier().fit(X_scaled, y_train)\n",
    "logistic_regression_penalty_scaled = LogisticRegression(penalty='l2', solver='liblinear').fit(X_scaled, y_train)\n",
    "logistic_regression_scaled = LogisticRegression(penalty = 'none').fit(X_scaled, y_train)\n",
    "\n",
    "print(\"New Seed - KNN Classifier Test Score: \",knn_classifier_scaled.score(X_test_scaled, y_test))\n",
    "print(\"New Seed - Logistic Regression (no penalty) Test Score: \",logistic_regression_scaled.score(X_test_scaled, y_test))\n",
    "print(\"New Seed - Logistic Regression (L2 Penalty) Test Score: \", logistic_regression_penalty_scaled.score(X_test_scaled, y_test))\n",
    "\n",
    "print(\"\\nNew Seed - KNN Classifier Train Score: \", knn_classifier_scaled.score(X_scaled, y_train))\n",
    "print(\"New Seed - Logistic Regression (no penalty) Train Score: \", logistic_regression_scaled.score(X_scaled, y_train))\n",
    "print(\"New Seed - Logistic Regression (L2 Penalty) Train Score: \", logistic_regression_penalty_scaled.score(X_scaled, y_train))"
   ]
  },
  {
   "cell_type": "markdown",
   "metadata": {
    "id": "qohAPTI2uGJN"
   },
   "source": [
    "KNN Classification - with the new train_test_split seed"
   ]
  },
  {
   "cell_type": "code",
   "execution_count": 260,
   "metadata": {
    "colab": {
     "base_uri": "https://localhost:8080/"
    },
    "id": "Bf7w7Ai7t8YO",
    "outputId": "7ddd2293-a4a7-4425-b2b3-1fae6176983a"
   },
   "outputs": [
    {
     "name": "stdout",
     "output_type": "stream",
     "text": [
      "KNN Classification with Penalties - New Seed\n",
      "best mean cross-validation score: 0.994\n",
      "best parameters: {'n_neighbors': 1}\n",
      "CV Mean Score: 0.99\n",
      "test-set score: 0.993\n"
     ]
    }
   ],
   "source": [
    "print(\"KNN Classification with Penalties - New Seed\")\n",
    "\n",
    "param_grid = {'n_neighbors': np.arange(1, 30, 1)}\n",
    "\n",
    "knn_gridmodel = GridSearchCV(KNeighborsClassifier(), param_grid=param_grid, cv=10)\n",
    "\n",
    "#use meta model methods to fit score and predict model:\n",
    "knn_gridmodel.fit(X_scaled, y_train)\n",
    "\n",
    "#extract best score and parameter by calling objects \"best_score_\" and \"best_params_\"\n",
    "print(\"best mean cross-validation score: {:.3f}\".format(knn_gridmodel.best_score_))\n",
    "print(\"best parameters: {}\".format(knn_gridmodel.best_params_))\n",
    "print(\"CV Mean Score: {:.2f}\".format(np.mean(cross_val_score(KNeighborsClassifier(**knn_gridmodel.best_params_), X_scaled, y_train, scoring=\"accuracy\"))))\n",
    "print(\"test-set score: {:.3f}\".format(knn_gridmodel.score(X_test_scaled, y_test)))"
   ]
  },
  {
   "cell_type": "markdown",
   "metadata": {
    "id": "sUk1Y7aQt-Y1"
   },
   "source": [
    "Logistic Regression with Penalties - with the new train_test_split seed"
   ]
  },
  {
   "cell_type": "code",
   "execution_count": 261,
   "metadata": {
    "colab": {
     "base_uri": "https://localhost:8080/"
    },
    "id": "hqpYbHuVtbl9",
    "outputId": "a3871e65-13a6-4163-c75c-1700e9ecb934"
   },
   "outputs": [
    {
     "name": "stdout",
     "output_type": "stream",
     "text": [
      "Logistic Regression with Penalties - New Seed\n",
      "New Seed - best mean cross-validation score: 0.994\n",
      "New Seed - best parameters: {'C': 0.6250551925273976, 'penalty': 'l1'}\n",
      "New Seed - CV Mean Score: 0.99\n",
      "New Seed - test-set score: 0.994\n"
     ]
    }
   ],
   "source": [
    "print(\"Logistic Regression with Penalties - New Seed\")\n",
    "\n",
    "param_grid = {'C': np.logspace(-10, 10, base = 10), 'penalty': ['l1','l2']}\n",
    "#i chose not to include elasticnet to ensure convergence\n",
    "\n",
    "#chose to use liblinear as solver since it allows l1 and l2 penalties to ensure convergence\n",
    "pen_logreg_gridmodel3 = GridSearchCV(LogisticRegression(solver = 'liblinear'), param_grid=param_grid, cv=10)\n",
    "\n",
    "#use meta model methods to fit score and predict model:\n",
    "pen_logreg_gridmodel3.fit(X_scaled, y_train)\n",
    "\n",
    "#extract best score and parameter by calling objects \"best_score_\" and \"best_params_\"\n",
    "print(\"New Seed - best mean cross-validation score: {:.3f}\".format(pen_logreg_gridmodel3.best_score_))\n",
    "print(\"New Seed - best parameters: {}\".format(pen_logreg_gridmodel3.best_params_))\n",
    "print(\"New Seed - CV Mean Score: {:.2f}\".format(np.mean(cross_val_score(LogisticRegression(solver = 'liblinear', **pen_logreg_gridmodel3.best_params_), X_scaled, y_train, scoring=\"accuracy\"))))\n",
    "print(\"New Seed - test-set score: {:.3f}\".format(pen_logreg_gridmodel3.score(X_test_scaled, y_test)))"
   ]
  },
  {
   "cell_type": "markdown",
   "metadata": {
    "id": "tcAv-haXJuSL"
   },
   "source": [
    "## **2.5 Lastly, compare the coefficients for Logistic Regression and Penalized Logistic Regression and discuss which final model you would choose to predict new data.**"
   ]
  },
  {
   "cell_type": "markdown",
   "metadata": {
    "id": "8HapbkK3iaI8"
   },
   "source": [
    "> ### In evaluating the various coefficients between the non-penalized and penalized logistic regression, the coefficients are similar in terms of the positive/negative signs and the values are quite close together.  None of the coefficients are very close to zero.\n",
    "\n",
    "> ### I would choose the Penalized Logistic Regression over the Logistic Regression to predict data.  A major driver in my reasoning is the Penalized Logistic Regression's ability to use GridSearchCV to find the best parameters to improve the test score accuracy (which is the most important metric).  Since a Logistic Regression where the penalty is set to none cannot have the C-value adjusted (which determines the weighting of the penalties), we lack sufficient flexibility to alter parameters that might improve our model performance.  When we can optimize parameters, we indeed yield better test scores, evident below where the Penalized Logistic Regression yields a test score of 0.994, while the Logistic Regression with and without penalties set to default parameters only yield a 0.992 accuracy score."
   ]
  },
  {
   "cell_type": "code",
   "execution_count": 262,
   "metadata": {
    "colab": {
     "base_uri": "https://localhost:8080/"
    },
    "id": "miGvE_gDXVwe",
    "outputId": "2b814460-c2d7-4f5d-a302-d4a1964d4a61"
   },
   "outputs": [
    {
     "name": "stdout",
     "output_type": "stream",
     "text": [
      "Logistic Regression (no penalty, no GridSearchCV) Coefficients:  [[ 0.10602193  1.24871537 -0.38794936 -4.20229338  0.99269865  1.26363999\n",
      "  -3.33097033  4.52237408  0.12336125  0.54917263  1.59109273  0.3560238 ]]\n",
      "\n",
      "Penalized Logistic Regression (no GridSearchCV) Coefficients:  [[ 0.51049139  1.27364702 -0.32844997 -2.70958719  0.96903133  0.8684229\n",
      "  -2.91542925  3.12527614  0.44775437  0.62712811  0.92991097  0.32352519]]\n",
      "\n",
      "Penalized Logistic Regression (with GridSearchCV with parameters) Coefficients:  [[ 0.13531502  1.21449516 -0.2915767  -3.36385083  0.88999408  0.91294289\n",
      "  -2.97365978  3.86024169  0.20703025  0.55665497  1.21956112  0.3233836 ]]\n",
      "\n",
      "LogReg test-set score (without GridSearchCV): 0.992\n",
      "Penalized LogReg test-set score (without GridSearchCV): 0.992\n",
      "Penalized LogReg test-set score (with GridSearchCV parameters): 0.994\n"
     ]
    }
   ],
   "source": [
    "#For the purposes of my argument about which type of Logistic Regression is ideal, I need to run a Penalized\n",
    "#Logistic Regression model that incorporates the best parameters from GridSearchCV\n",
    "logreg_with_bestparams = LogisticRegression(solver = \"liblinear\", **pen_logreg_gridmodel.best_params_).fit(X_scaled, y_train)\n",
    "\n",
    "#Identify the coefficients\n",
    "print(\"Logistic Regression (no penalty, no GridSearchCV) Coefficients: \", logistic_regression_scaled.coef_)\n",
    "print(\"\\nPenalized Logistic Regression (no GridSearchCV) Coefficients: \", logistic_regression_penalty_scaled.coef_)\n",
    "print(\"\\nPenalized Logistic Regression (with GridSearchCV with parameters) Coefficients: \", logreg_with_bestparams.coef_)\n",
    "\n",
    "#Identify best scores\n",
    "print(\"\\nLogReg test-set score (without GridSearchCV): {:.3f}\".format(logistic_regression_scaled.score(X_test_scaled, y_test)))\n",
    "print(\"Penalized LogReg test-set score (without GridSearchCV): {:.3f}\".format(logistic_regression_penalty_scaled.score(X_test_scaled, y_test)))\n",
    "print(\"Penalized LogReg test-set score (with GridSearchCV parameters): {:.3f}\".format(logreg_with_bestparams.score(X_test_scaled, y_test)))"
   ]
  }
 ],
 "metadata": {
  "colab": {
   "collapsed_sections": [],
   "name": "Machine Learning Assignment",
   "provenance": []
  },
  "kernelspec": {
   "display_name": "Python 3",
   "language": "python",
   "name": "python3"
  },
  "language_info": {
   "codemirror_mode": {
    "name": "ipython",
    "version": 3
   },
   "file_extension": ".py",
   "mimetype": "text/x-python",
   "name": "python",
   "nbconvert_exporter": "python",
   "pygments_lexer": "ipython3",
   "version": "3.8.8"
  }
 },
 "nbformat": 4,
 "nbformat_minor": 1
}
