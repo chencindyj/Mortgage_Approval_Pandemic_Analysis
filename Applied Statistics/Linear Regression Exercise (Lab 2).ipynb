{
 "cells": [
  {
   "cell_type": "markdown",
   "id": "5ac5595d",
   "metadata": {},
   "source": [
    "# Lab #2\n",
    "### Cindy Chen"
   ]
  },
  {
   "cell_type": "markdown",
   "id": "f055857c",
   "metadata": {},
   "source": [
    "__The data set I am using for this lab is 2020 HMDA US individual mortgage applications where each row is a unique application. It incorporates 99 variables, documenting demographic and financial information about the applicant, mortgage details, as well as approval/denial outcomes. This data set interests me due to recent discourse around redlining and racial discrimination in mortgage approvals even though the process is largely \"automated\" via algorithms.__"
   ]
  },
  {
   "cell_type": "code",
   "execution_count": 260,
   "id": "5e16af04",
   "metadata": {},
   "outputs": [],
   "source": [
    "#load all the packages I need for this lab\n",
    "import pandas as pd\n",
    "import numpy as np\n",
    "import seaborn as sb\n",
    "import matplotlib.pyplot as mpl\n",
    "import os\n",
    "import statsmodels.formula.api as smf\n",
    "import statsmodels.api as sm"
   ]
  },
  {
   "cell_type": "code",
   "execution_count": 261,
   "id": "2c0573d6",
   "metadata": {},
   "outputs": [
    {
     "data": {
      "text/html": [
       "<div>\n",
       "<style scoped>\n",
       "    .dataframe tbody tr th:only-of-type {\n",
       "        vertical-align: middle;\n",
       "    }\n",
       "\n",
       "    .dataframe tbody tr th {\n",
       "        vertical-align: top;\n",
       "    }\n",
       "\n",
       "    .dataframe thead th {\n",
       "        text-align: right;\n",
       "    }\n",
       "</style>\n",
       "<table border=\"1\" class=\"dataframe\">\n",
       "  <thead>\n",
       "    <tr style=\"text-align: right;\">\n",
       "      <th></th>\n",
       "      <th>activity_year</th>\n",
       "      <th>lei</th>\n",
       "      <th>derived_msa_md</th>\n",
       "      <th>state_code</th>\n",
       "      <th>county_code</th>\n",
       "      <th>census_tract</th>\n",
       "      <th>conforming_loan_limit</th>\n",
       "      <th>derived_loan_product_type</th>\n",
       "      <th>derived_dwelling_category</th>\n",
       "      <th>derived_ethnicity</th>\n",
       "      <th>...</th>\n",
       "      <th>denial_reason_2</th>\n",
       "      <th>denial_reason_3</th>\n",
       "      <th>denial_reason_4</th>\n",
       "      <th>tract_population</th>\n",
       "      <th>tract_minority_population_percent</th>\n",
       "      <th>ffiec_msa_md_median_family_income</th>\n",
       "      <th>tract_to_msa_income_percentage</th>\n",
       "      <th>tract_owner_occupied_units</th>\n",
       "      <th>tract_one_to_four_family_homes</th>\n",
       "      <th>tract_median_age_of_housing_units</th>\n",
       "    </tr>\n",
       "  </thead>\n",
       "  <tbody>\n",
       "    <tr>\n",
       "      <th>0</th>\n",
       "      <td>2020</td>\n",
       "      <td>549300HTRLFU2IIL4380</td>\n",
       "      <td>12940</td>\n",
       "      <td>LA</td>\n",
       "      <td>22037.0</td>\n",
       "      <td>2.203795e+10</td>\n",
       "      <td>C</td>\n",
       "      <td>Conventional:First Lien</td>\n",
       "      <td>Single Family (1-4 Units):Site-Built</td>\n",
       "      <td>Not Hispanic or Latino</td>\n",
       "      <td>...</td>\n",
       "      <td>3.0</td>\n",
       "      <td>NaN</td>\n",
       "      <td>NaN</td>\n",
       "      <td>7086</td>\n",
       "      <td>53.82</td>\n",
       "      <td>73800</td>\n",
       "      <td>81.0</td>\n",
       "      <td>1589</td>\n",
       "      <td>2010</td>\n",
       "      <td>28</td>\n",
       "    </tr>\n",
       "    <tr>\n",
       "      <th>1</th>\n",
       "      <td>2020</td>\n",
       "      <td>549300HTRLFU2IIL4380</td>\n",
       "      <td>99999</td>\n",
       "      <td>TX</td>\n",
       "      <td>48467.0</td>\n",
       "      <td>4.846795e+10</td>\n",
       "      <td>C</td>\n",
       "      <td>Conventional:First Lien</td>\n",
       "      <td>Single Family (1-4 Units):Site-Built</td>\n",
       "      <td>Not Hispanic or Latino</td>\n",
       "      <td>...</td>\n",
       "      <td>NaN</td>\n",
       "      <td>NaN</td>\n",
       "      <td>NaN</td>\n",
       "      <td>7182</td>\n",
       "      <td>11.04</td>\n",
       "      <td>59100</td>\n",
       "      <td>120.0</td>\n",
       "      <td>2180</td>\n",
       "      <td>3048</td>\n",
       "      <td>29</td>\n",
       "    </tr>\n",
       "    <tr>\n",
       "      <th>2</th>\n",
       "      <td>2020</td>\n",
       "      <td>549300HTRLFU2IIL4380</td>\n",
       "      <td>99999</td>\n",
       "      <td>TX</td>\n",
       "      <td>48337.0</td>\n",
       "      <td>4.833795e+10</td>\n",
       "      <td>C</td>\n",
       "      <td>Conventional:First Lien</td>\n",
       "      <td>Single Family (1-4 Units):Site-Built</td>\n",
       "      <td>Not Hispanic or Latino</td>\n",
       "      <td>...</td>\n",
       "      <td>NaN</td>\n",
       "      <td>NaN</td>\n",
       "      <td>NaN</td>\n",
       "      <td>4654</td>\n",
       "      <td>12.01</td>\n",
       "      <td>59100</td>\n",
       "      <td>114.0</td>\n",
       "      <td>1753</td>\n",
       "      <td>2709</td>\n",
       "      <td>32</td>\n",
       "    </tr>\n",
       "    <tr>\n",
       "      <th>3</th>\n",
       "      <td>2020</td>\n",
       "      <td>549300HTRLFU2IIL4380</td>\n",
       "      <td>99999</td>\n",
       "      <td>TX</td>\n",
       "      <td>48379.0</td>\n",
       "      <td>4.837995e+10</td>\n",
       "      <td>C</td>\n",
       "      <td>Conventional:First Lien</td>\n",
       "      <td>Single Family (1-4 Units):Site-Built</td>\n",
       "      <td>Not Hispanic or Latino</td>\n",
       "      <td>...</td>\n",
       "      <td>NaN</td>\n",
       "      <td>NaN</td>\n",
       "      <td>NaN</td>\n",
       "      <td>6083</td>\n",
       "      <td>9.58</td>\n",
       "      <td>59100</td>\n",
       "      <td>113.0</td>\n",
       "      <td>2076</td>\n",
       "      <td>2995</td>\n",
       "      <td>23</td>\n",
       "    </tr>\n",
       "    <tr>\n",
       "      <th>4</th>\n",
       "      <td>2020</td>\n",
       "      <td>549300HTRLFU2IIL4380</td>\n",
       "      <td>26420</td>\n",
       "      <td>TX</td>\n",
       "      <td>48291.0</td>\n",
       "      <td>4.829170e+10</td>\n",
       "      <td>C</td>\n",
       "      <td>Conventional:First Lien</td>\n",
       "      <td>Single Family (1-4 Units):Site-Built</td>\n",
       "      <td>Not Hispanic or Latino</td>\n",
       "      <td>...</td>\n",
       "      <td>NaN</td>\n",
       "      <td>NaN</td>\n",
       "      <td>NaN</td>\n",
       "      <td>5394</td>\n",
       "      <td>17.95</td>\n",
       "      <td>80000</td>\n",
       "      <td>89.0</td>\n",
       "      <td>1798</td>\n",
       "      <td>2627</td>\n",
       "      <td>25</td>\n",
       "    </tr>\n",
       "    <tr>\n",
       "      <th>5</th>\n",
       "      <td>2020</td>\n",
       "      <td>549300HTRLFU2IIL4380</td>\n",
       "      <td>99999</td>\n",
       "      <td>TX</td>\n",
       "      <td>48249.0</td>\n",
       "      <td>4.824995e+10</td>\n",
       "      <td>C</td>\n",
       "      <td>Conventional:First Lien</td>\n",
       "      <td>Single Family (1-4 Units):Site-Built</td>\n",
       "      <td>Hispanic or Latino</td>\n",
       "      <td>...</td>\n",
       "      <td>3.0</td>\n",
       "      <td>NaN</td>\n",
       "      <td>NaN</td>\n",
       "      <td>7209</td>\n",
       "      <td>79.11</td>\n",
       "      <td>59100</td>\n",
       "      <td>128.0</td>\n",
       "      <td>1589</td>\n",
       "      <td>2393</td>\n",
       "      <td>44</td>\n",
       "    </tr>\n",
       "    <tr>\n",
       "      <th>6</th>\n",
       "      <td>2020</td>\n",
       "      <td>549300HTRLFU2IIL4380</td>\n",
       "      <td>99999</td>\n",
       "      <td>TX</td>\n",
       "      <td>48363.0</td>\n",
       "      <td>4.836300e+10</td>\n",
       "      <td>C</td>\n",
       "      <td>Conventional:First Lien</td>\n",
       "      <td>Single Family (1-4 Units):Site-Built</td>\n",
       "      <td>Not Hispanic or Latino</td>\n",
       "      <td>...</td>\n",
       "      <td>NaN</td>\n",
       "      <td>NaN</td>\n",
       "      <td>NaN</td>\n",
       "      <td>2897</td>\n",
       "      <td>16.26</td>\n",
       "      <td>59100</td>\n",
       "      <td>117.0</td>\n",
       "      <td>857</td>\n",
       "      <td>2832</td>\n",
       "      <td>34</td>\n",
       "    </tr>\n",
       "    <tr>\n",
       "      <th>7</th>\n",
       "      <td>2020</td>\n",
       "      <td>549300HTRLFU2IIL4380</td>\n",
       "      <td>99999</td>\n",
       "      <td>OK</td>\n",
       "      <td>40001.0</td>\n",
       "      <td>4.000138e+10</td>\n",
       "      <td>C</td>\n",
       "      <td>Conventional:First Lien</td>\n",
       "      <td>Single Family (1-4 Units):Site-Built</td>\n",
       "      <td>Not Hispanic or Latino</td>\n",
       "      <td>...</td>\n",
       "      <td>NaN</td>\n",
       "      <td>NaN</td>\n",
       "      <td>NaN</td>\n",
       "      <td>4584</td>\n",
       "      <td>59.79</td>\n",
       "      <td>57500</td>\n",
       "      <td>88.0</td>\n",
       "      <td>1351</td>\n",
       "      <td>1945</td>\n",
       "      <td>34</td>\n",
       "    </tr>\n",
       "    <tr>\n",
       "      <th>8</th>\n",
       "      <td>2020</td>\n",
       "      <td>549300HTRLFU2IIL4380</td>\n",
       "      <td>99999</td>\n",
       "      <td>LA</td>\n",
       "      <td>22027.0</td>\n",
       "      <td>2.202795e+10</td>\n",
       "      <td>C</td>\n",
       "      <td>Conventional:First Lien</td>\n",
       "      <td>Single Family (1-4 Units):Site-Built</td>\n",
       "      <td>Not Hispanic or Latino</td>\n",
       "      <td>...</td>\n",
       "      <td>3.0</td>\n",
       "      <td>NaN</td>\n",
       "      <td>NaN</td>\n",
       "      <td>2741</td>\n",
       "      <td>57.57</td>\n",
       "      <td>50400</td>\n",
       "      <td>94.0</td>\n",
       "      <td>599</td>\n",
       "      <td>1334</td>\n",
       "      <td>49</td>\n",
       "    </tr>\n",
       "    <tr>\n",
       "      <th>9</th>\n",
       "      <td>2020</td>\n",
       "      <td>549300HTRLFU2IIL4380</td>\n",
       "      <td>26420</td>\n",
       "      <td>TX</td>\n",
       "      <td>48201.0</td>\n",
       "      <td>4.820133e+10</td>\n",
       "      <td>C</td>\n",
       "      <td>Conventional:First Lien</td>\n",
       "      <td>Single Family (1-4 Units):Site-Built</td>\n",
       "      <td>Hispanic or Latino</td>\n",
       "      <td>...</td>\n",
       "      <td>3.0</td>\n",
       "      <td>NaN</td>\n",
       "      <td>NaN</td>\n",
       "      <td>11288</td>\n",
       "      <td>92.36</td>\n",
       "      <td>80000</td>\n",
       "      <td>92.0</td>\n",
       "      <td>2662</td>\n",
       "      <td>3192</td>\n",
       "      <td>11</td>\n",
       "    </tr>\n",
       "  </tbody>\n",
       "</table>\n",
       "<p>10 rows × 99 columns</p>\n",
       "</div>"
      ],
      "text/plain": [
       "   activity_year                   lei  derived_msa_md state_code  \\\n",
       "0           2020  549300HTRLFU2IIL4380           12940         LA   \n",
       "1           2020  549300HTRLFU2IIL4380           99999         TX   \n",
       "2           2020  549300HTRLFU2IIL4380           99999         TX   \n",
       "3           2020  549300HTRLFU2IIL4380           99999         TX   \n",
       "4           2020  549300HTRLFU2IIL4380           26420         TX   \n",
       "5           2020  549300HTRLFU2IIL4380           99999         TX   \n",
       "6           2020  549300HTRLFU2IIL4380           99999         TX   \n",
       "7           2020  549300HTRLFU2IIL4380           99999         OK   \n",
       "8           2020  549300HTRLFU2IIL4380           99999         LA   \n",
       "9           2020  549300HTRLFU2IIL4380           26420         TX   \n",
       "\n",
       "   county_code  census_tract conforming_loan_limit derived_loan_product_type  \\\n",
       "0      22037.0  2.203795e+10                     C   Conventional:First Lien   \n",
       "1      48467.0  4.846795e+10                     C   Conventional:First Lien   \n",
       "2      48337.0  4.833795e+10                     C   Conventional:First Lien   \n",
       "3      48379.0  4.837995e+10                     C   Conventional:First Lien   \n",
       "4      48291.0  4.829170e+10                     C   Conventional:First Lien   \n",
       "5      48249.0  4.824995e+10                     C   Conventional:First Lien   \n",
       "6      48363.0  4.836300e+10                     C   Conventional:First Lien   \n",
       "7      40001.0  4.000138e+10                     C   Conventional:First Lien   \n",
       "8      22027.0  2.202795e+10                     C   Conventional:First Lien   \n",
       "9      48201.0  4.820133e+10                     C   Conventional:First Lien   \n",
       "\n",
       "              derived_dwelling_category       derived_ethnicity  ...  \\\n",
       "0  Single Family (1-4 Units):Site-Built  Not Hispanic or Latino  ...   \n",
       "1  Single Family (1-4 Units):Site-Built  Not Hispanic or Latino  ...   \n",
       "2  Single Family (1-4 Units):Site-Built  Not Hispanic or Latino  ...   \n",
       "3  Single Family (1-4 Units):Site-Built  Not Hispanic or Latino  ...   \n",
       "4  Single Family (1-4 Units):Site-Built  Not Hispanic or Latino  ...   \n",
       "5  Single Family (1-4 Units):Site-Built      Hispanic or Latino  ...   \n",
       "6  Single Family (1-4 Units):Site-Built  Not Hispanic or Latino  ...   \n",
       "7  Single Family (1-4 Units):Site-Built  Not Hispanic or Latino  ...   \n",
       "8  Single Family (1-4 Units):Site-Built  Not Hispanic or Latino  ...   \n",
       "9  Single Family (1-4 Units):Site-Built      Hispanic or Latino  ...   \n",
       "\n",
       "  denial_reason_2 denial_reason_3  denial_reason_4  tract_population  \\\n",
       "0             3.0             NaN              NaN              7086   \n",
       "1             NaN             NaN              NaN              7182   \n",
       "2             NaN             NaN              NaN              4654   \n",
       "3             NaN             NaN              NaN              6083   \n",
       "4             NaN             NaN              NaN              5394   \n",
       "5             3.0             NaN              NaN              7209   \n",
       "6             NaN             NaN              NaN              2897   \n",
       "7             NaN             NaN              NaN              4584   \n",
       "8             3.0             NaN              NaN              2741   \n",
       "9             3.0             NaN              NaN             11288   \n",
       "\n",
       "   tract_minority_population_percent  ffiec_msa_md_median_family_income  \\\n",
       "0                              53.82                              73800   \n",
       "1                              11.04                              59100   \n",
       "2                              12.01                              59100   \n",
       "3                               9.58                              59100   \n",
       "4                              17.95                              80000   \n",
       "5                              79.11                              59100   \n",
       "6                              16.26                              59100   \n",
       "7                              59.79                              57500   \n",
       "8                              57.57                              50400   \n",
       "9                              92.36                              80000   \n",
       "\n",
       "   tract_to_msa_income_percentage  tract_owner_occupied_units  \\\n",
       "0                            81.0                        1589   \n",
       "1                           120.0                        2180   \n",
       "2                           114.0                        1753   \n",
       "3                           113.0                        2076   \n",
       "4                            89.0                        1798   \n",
       "5                           128.0                        1589   \n",
       "6                           117.0                         857   \n",
       "7                            88.0                        1351   \n",
       "8                            94.0                         599   \n",
       "9                            92.0                        2662   \n",
       "\n",
       "   tract_one_to_four_family_homes  tract_median_age_of_housing_units  \n",
       "0                            2010                                 28  \n",
       "1                            3048                                 29  \n",
       "2                            2709                                 32  \n",
       "3                            2995                                 23  \n",
       "4                            2627                                 25  \n",
       "5                            2393                                 44  \n",
       "6                            2832                                 34  \n",
       "7                            1945                                 34  \n",
       "8                            1334                                 49  \n",
       "9                            3192                                 11  \n",
       "\n",
       "[10 rows x 99 columns]"
      ]
     },
     "execution_count": 261,
     "metadata": {},
     "output_type": "execute_result"
    }
   ],
   "source": [
    "#my dataset is 9 GB so I am only brgining in 8,000 rows... otherwise I don't have enough RAM\n",
    "os.chdir(\"~/2020_lar/\")\n",
    "mortgage = pd.read_csv(\"2020_lar.txt\", sep = \"|\", header = 0, nrows=8000)\n",
    "\n",
    "#preview of the first 10 rows of the data set\n",
    "mortgage.head(10)"
   ]
  },
  {
   "cell_type": "markdown",
   "id": "f709e22d",
   "metadata": {},
   "source": [
    "__1. Recode 1 *sort of* continuous variable into categories.  Tell me what you did and explain the variable(s).__"
   ]
  },
  {
   "cell_type": "markdown",
   "id": "a279cc37",
   "metadata": {},
   "source": [
    "The continuous variable I have chosen is the interest rate on the proposed mortgage, listed under the variable \"interest_rate\". To create the categories, I converted the column from an object to numeric data type so that I could see descriptive statistics about my data.  This guides the bin widths and the reasonable range that I set for my categories.  Since my interest rate range spanned 2.0 to 10.0, I decided to create three bins labelled \"1\", \"2\", and \"3\".  I decided to create my first bin of '1' with a threshold just below the mean interest rate, because my descriptive statistics suggested that interest rates are skewed to the right.  Since I know there are NaN values in my data, I also made sure to check that the NaNs are preserved in my new column called \"interest_rate_range\".\n",
    "\n",
    "In observing the value counts and descriptive statsistics of the 'interest_rate_range' column, I can see that the majority (32.1%) of sample mortgages have interest rates that belong in my interest_rate_range of '1' (and are at least or below 3.0%), which are the lowest and thus most favorable mortgage rates."
   ]
  },
  {
   "cell_type": "code",
   "execution_count": 262,
   "id": "a7475d2a",
   "metadata": {},
   "outputs": [
    {
     "name": "stdout",
     "output_type": "stream",
     "text": [
      "10.0\n",
      "2.0\n",
      "count    5144.000000\n",
      "mean        3.528931\n",
      "std         0.955839\n",
      "min         2.000000\n",
      "25%         2.990000\n",
      "50%         3.375000\n",
      "75%         3.750000\n",
      "max        10.000000\n",
      "Name: interest_rate, dtype: float64\n"
     ]
    }
   ],
   "source": [
    "#investigate the data type of my column in case I need to change it\n",
    "mortgage['interest_rate'].dtype\n",
    "\n",
    "#confirm the number of \"na\" entries I expect in my data set\n",
    "len(mortgage[mortgage['interest_rate'].isna() == True])\n",
    "\n",
    "#convert interest_rate column from object to numeric\n",
    "mortgage['interest_rate'] = pd.to_numeric(mortgage['interest_rate'], errors = 'coerce')\n",
    "\n",
    "#find the minimum and maximum interest rates so that I can set appropriate bins when I create categories\n",
    "print(mortgage['interest_rate'].max())\n",
    "print(mortgage['interest_rate'].min())\n",
    "print(mortgage['interest_rate'].describe())"
   ]
  },
  {
   "cell_type": "code",
   "execution_count": 263,
   "id": "40c7ea2d",
   "metadata": {},
   "outputs": [
    {
     "data": {
      "text/plain": [
       "Text(0.5, 0, 'interest rate')"
      ]
     },
     "execution_count": 263,
     "metadata": {},
     "output_type": "execute_result"
    },
    {
     "data": {
      "image/png": "[encoded data removed]",
      "text/plain": [
       "<Figure size 432x288 with 1 Axes>"
      ]
     },
     "metadata": {
      "needs_background": "light"
     },
     "output_type": "display_data"
    }
   ],
   "source": [
    "#visualization of right skew\n",
    "mpl.hist(mortgage['interest_rate'])\n",
    "mpl.xlabel('interest rate')"
   ]
  },
  {
   "cell_type": "code",
   "execution_count": 264,
   "id": "3e60a6dd",
   "metadata": {},
   "outputs": [
    {
     "data": {
      "text/html": [
       "<div>\n",
       "<style scoped>\n",
       "    .dataframe tbody tr th:only-of-type {\n",
       "        vertical-align: middle;\n",
       "    }\n",
       "\n",
       "    .dataframe tbody tr th {\n",
       "        vertical-align: top;\n",
       "    }\n",
       "\n",
       "    .dataframe thead th {\n",
       "        text-align: right;\n",
       "    }\n",
       "</style>\n",
       "<table border=\"1\" class=\"dataframe\">\n",
       "  <thead>\n",
       "    <tr style=\"text-align: right;\">\n",
       "      <th></th>\n",
       "      <th>interest_rate</th>\n",
       "      <th>interest_rate_range</th>\n",
       "    </tr>\n",
       "  </thead>\n",
       "  <tbody>\n",
       "    <tr>\n",
       "      <th>0</th>\n",
       "      <td>NaN</td>\n",
       "      <td>NaN</td>\n",
       "    </tr>\n",
       "    <tr>\n",
       "      <th>1</th>\n",
       "      <td>NaN</td>\n",
       "      <td>NaN</td>\n",
       "    </tr>\n",
       "    <tr>\n",
       "      <th>2</th>\n",
       "      <td>9.47</td>\n",
       "      <td>3.0</td>\n",
       "    </tr>\n",
       "    <tr>\n",
       "      <th>3</th>\n",
       "      <td>9.47</td>\n",
       "      <td>3.0</td>\n",
       "    </tr>\n",
       "    <tr>\n",
       "      <th>4</th>\n",
       "      <td>NaN</td>\n",
       "      <td>NaN</td>\n",
       "    </tr>\n",
       "    <tr>\n",
       "      <th>5</th>\n",
       "      <td>NaN</td>\n",
       "      <td>NaN</td>\n",
       "    </tr>\n",
       "    <tr>\n",
       "      <th>6</th>\n",
       "      <td>9.47</td>\n",
       "      <td>3.0</td>\n",
       "    </tr>\n",
       "    <tr>\n",
       "      <th>7</th>\n",
       "      <td>NaN</td>\n",
       "      <td>NaN</td>\n",
       "    </tr>\n",
       "    <tr>\n",
       "      <th>8</th>\n",
       "      <td>NaN</td>\n",
       "      <td>NaN</td>\n",
       "    </tr>\n",
       "    <tr>\n",
       "      <th>9</th>\n",
       "      <td>NaN</td>\n",
       "      <td>NaN</td>\n",
       "    </tr>\n",
       "  </tbody>\n",
       "</table>\n",
       "</div>"
      ],
      "text/plain": [
       "   interest_rate  interest_rate_range\n",
       "0            NaN                  NaN\n",
       "1            NaN                  NaN\n",
       "2           9.47                  3.0\n",
       "3           9.47                  3.0\n",
       "4            NaN                  NaN\n",
       "5            NaN                  NaN\n",
       "6           9.47                  3.0\n",
       "7            NaN                  NaN\n",
       "8            NaN                  NaN\n",
       "9            NaN                  NaN"
      ]
     },
     "execution_count": 264,
     "metadata": {},
     "output_type": "execute_result"
    }
   ],
   "source": [
    "#set up the conditions for values in the interest_rate column where I have data (this doesn't include NaNs)\n",
    "conditions = [\n",
    "    (mortgage['interest_rate'] <= 3),\n",
    "    (mortgage['interest_rate'] <= 7),\n",
    "    (mortgage['interest_rate'] <= 10)]\n",
    "\n",
    "#create the bins\n",
    "equivalent_levels = [1, 2, 3]\n",
    "\n",
    "#create a new column\n",
    "mortgage['interest_rate_range'] = np.select(conditions, equivalent_levels, default = np.nan) \n",
    "\n",
    "#run the first 10 rows of these columns to make sure that entries appear as we expect\n",
    "mortgage[['interest_rate','interest_rate_range']].head(10)"
   ]
  },
  {
   "cell_type": "code",
   "execution_count": 265,
   "id": "707e8153",
   "metadata": {},
   "outputs": [
    {
     "data": {
      "text/plain": [
       "count    5144.000000\n",
       "mean        1.693624\n",
       "std         0.492438\n",
       "min         1.000000\n",
       "25%         1.000000\n",
       "50%         2.000000\n",
       "75%         2.000000\n",
       "max         3.000000\n",
       "Name: interest_rate_range, dtype: float64"
      ]
     },
     "execution_count": 265,
     "metadata": {},
     "output_type": "execute_result"
    }
   ],
   "source": [
    "mortgage.interest_rate_range.describe()"
   ]
  },
  {
   "cell_type": "code",
   "execution_count": 266,
   "id": "6185a690",
   "metadata": {},
   "outputs": [
    {
     "data": {
      "text/plain": [
       "2.0    3414\n",
       "1.0    1653\n",
       "3.0      77\n",
       "Name: interest_rate_range, dtype: int64"
      ]
     },
     "execution_count": 266,
     "metadata": {},
     "output_type": "execute_result"
    }
   ],
   "source": [
    "mortgage.interest_rate_range.value_counts()"
   ]
  },
  {
   "cell_type": "code",
   "execution_count": 267,
   "id": "91b9c832",
   "metadata": {},
   "outputs": [
    {
     "name": "stdout",
     "output_type": "stream",
     "text": [
      "Proportion under Level 1: 32.1 %\n"
     ]
    }
   ],
   "source": [
    "#out of curiosity, I want to know the proportion of mortgages (where an interest rate is available)\n",
    "#are considered '1' in my range\n",
    "print(\"Proportion under Level 1:\",\n",
    "      np.round(len(mortgage[mortgage['interest_rate_range'] == 1])/\n",
    "               len(mortgage.dropna(subset = ['interest_rate_range'])), decimals = 3)\n",
    "                                                              * 100, \"%\")"
   ]
  },
  {
   "cell_type": "markdown",
   "id": "bacf76bf",
   "metadata": {},
   "source": [
    "__2. Recode 1 another variable and attach value labels.  Tell me what you did and explain the variable(s).__"
   ]
  },
  {
   "cell_type": "markdown",
   "id": "9090596a",
   "metadata": {},
   "source": [
    "The second variable I will recode by attaching value labels is 'action_taken'.  This variable denotes whether a mortgage was approved or not approved (which includes denials and withdrawn applications).  In terms of my methodology, I recorded any 'action_taken' value labelled as '1' to be \"approved\" and any other value to be \"not approved\", as described in the HMDA data schema.  Since there are eight (8) possible values under 'action_taken', this recode is particularly helpful in my analysis because it elegantly organizes the final outcome of the mortgage application into 'approved' or not.\n",
    "\n",
    "After recoding, I can see that the majority (66.7%) of applications in my sample of 8000 mortgage applications were approved."
   ]
  },
  {
   "cell_type": "code",
   "execution_count": 268,
   "id": "af5c1943",
   "metadata": {},
   "outputs": [
    {
     "data": {
      "text/html": [
       "<div>\n",
       "<style scoped>\n",
       "    .dataframe tbody tr th:only-of-type {\n",
       "        vertical-align: middle;\n",
       "    }\n",
       "\n",
       "    .dataframe tbody tr th {\n",
       "        vertical-align: top;\n",
       "    }\n",
       "\n",
       "    .dataframe thead th {\n",
       "        text-align: right;\n",
       "    }\n",
       "</style>\n",
       "<table border=\"1\" class=\"dataframe\">\n",
       "  <thead>\n",
       "    <tr style=\"text-align: right;\">\n",
       "      <th></th>\n",
       "      <th>action_taken</th>\n",
       "      <th>approved</th>\n",
       "    </tr>\n",
       "  </thead>\n",
       "  <tbody>\n",
       "    <tr>\n",
       "      <th>0</th>\n",
       "      <td>3</td>\n",
       "      <td>not approved</td>\n",
       "    </tr>\n",
       "    <tr>\n",
       "      <th>1</th>\n",
       "      <td>3</td>\n",
       "      <td>not approved</td>\n",
       "    </tr>\n",
       "    <tr>\n",
       "      <th>2</th>\n",
       "      <td>1</td>\n",
       "      <td>approved</td>\n",
       "    </tr>\n",
       "    <tr>\n",
       "      <th>3</th>\n",
       "      <td>1</td>\n",
       "      <td>approved</td>\n",
       "    </tr>\n",
       "    <tr>\n",
       "      <th>4</th>\n",
       "      <td>3</td>\n",
       "      <td>not approved</td>\n",
       "    </tr>\n",
       "    <tr>\n",
       "      <th>5</th>\n",
       "      <td>3</td>\n",
       "      <td>not approved</td>\n",
       "    </tr>\n",
       "    <tr>\n",
       "      <th>6</th>\n",
       "      <td>1</td>\n",
       "      <td>approved</td>\n",
       "    </tr>\n",
       "    <tr>\n",
       "      <th>7</th>\n",
       "      <td>3</td>\n",
       "      <td>not approved</td>\n",
       "    </tr>\n",
       "    <tr>\n",
       "      <th>8</th>\n",
       "      <td>3</td>\n",
       "      <td>not approved</td>\n",
       "    </tr>\n",
       "    <tr>\n",
       "      <th>9</th>\n",
       "      <td>3</td>\n",
       "      <td>not approved</td>\n",
       "    </tr>\n",
       "  </tbody>\n",
       "</table>\n",
       "</div>"
      ],
      "text/plain": [
       "   action_taken      approved\n",
       "0             3  not approved\n",
       "1             3  not approved\n",
       "2             1      approved\n",
       "3             1      approved\n",
       "4             3  not approved\n",
       "5             3  not approved\n",
       "6             1      approved\n",
       "7             3  not approved\n",
       "8             3  not approved\n",
       "9             3  not approved"
      ]
     },
     "execution_count": 268,
     "metadata": {},
     "output_type": "execute_result"
    }
   ],
   "source": [
    "#recode action taken into a binary label\n",
    "conditions = [\n",
    "    (mortgage['action_taken'] == 1),\n",
    "    (mortgage['action_taken'] > 1)]\n",
    "\n",
    "#create the labels\n",
    "labels = [\"approved\", \"not approved\"]\n",
    "\n",
    "#create a new column\n",
    "mortgage['approved'] = np.select(conditions, labels, default = np.nan) \n",
    "\n",
    "#run the first 10 rows of these columns to make sure that entries appear as we expect\n",
    "mortgage[['action_taken','approved']].head(10)"
   ]
  },
  {
   "cell_type": "code",
   "execution_count": 269,
   "id": "3fc2d982",
   "metadata": {},
   "outputs": [
    {
     "data": {
      "text/plain": [
       "approved        5334\n",
       "not approved    2666\n",
       "Name: approved, dtype: int64"
      ]
     },
     "execution_count": 269,
     "metadata": {},
     "output_type": "execute_result"
    }
   ],
   "source": [
    "mortgage.approved.value_counts()"
   ]
  },
  {
   "cell_type": "code",
   "execution_count": 270,
   "id": "814a9a71",
   "metadata": {},
   "outputs": [
    {
     "name": "stdout",
     "output_type": "stream",
     "text": [
      "approval rate:  66.7 %\n"
     ]
    }
   ],
   "source": [
    "print(\"approval rate: \",\n",
    "      round(len(mortgage[mortgage['approved'] == 'approved']) /\n",
    "            len(mortgage['approved']), 3) * 100, \"%\")"
   ]
  },
  {
   "cell_type": "code",
   "execution_count": 282,
   "id": "73422485",
   "metadata": {},
   "outputs": [
    {
     "data": {
      "text/plain": [
       "(array([2666.,    0.,    0.,    0.,    0.,    0.,    0.,    0.,    0.,\n",
       "        5334.]),\n",
       " array([0. , 0.1, 0.2, 0.3, 0.4, 0.5, 0.6, 0.7, 0.8, 0.9, 1. ]),\n",
       " <BarContainer object of 10 artists>)"
      ]
     },
     "execution_count": 282,
     "metadata": {},
     "output_type": "execute_result"
    },
    {
     "data": {
      "image/png": "[encoded data removed]",
      "text/plain": [
       "<Figure size 432x288 with 1 Axes>"
      ]
     },
     "metadata": {
      "needs_background": "light"
     },
     "output_type": "display_data"
    }
   ],
   "source": [
    "mpl.hist(mortgage['approved'])"
   ]
  },
  {
   "cell_type": "markdown",
   "id": "31e58a95",
   "metadata": {},
   "source": [
    "__3. Use one (or both) of your recoded variables to do a cross-tabulation (as you had done last week, with prop.table, doBy, or ddply). Explain your results.__"
   ]
  },
  {
   "cell_type": "markdown",
   "id": "f5864092",
   "metadata": {},
   "source": [
    "I will now create a cross-tabulation between income and interest rate.   I chose to incorporate only 'interest_rate' (which I previously created) in my cross-tabulation and exclude the 'action_taken' recode, because I am very interested in seeing the relationship between an applicant's income and the interest rate of their proposed mortgage.  However, it requires me to recode 'income'. In terms of my methodology, I first made sure that income is a continuous numeric variable, which means that I can recode it into ranges. Afterwards, I found descriptive statistics to help met set the bins, and then I created the new variable, which I call \"income_levels\", which incorporates 5 value labels.\n",
    "\n",
    "Through this exercise, I notice that income can range from -\\\\$4,000 to \\\\$8.8 million, and the average income is \\\\$107,551.  These numbers make sense intuitively as $110,000 seems like a realistic mean income for a dual-income household."
   ]
  },
  {
   "cell_type": "markdown",
   "id": "b3be7658",
   "metadata": {},
   "source": [
    "Through my cross-tabulation, I can observe several fascinating insights.\n",
    "\n",
    "* Lower income brackets have a greater share of mortgages with the most favorable interest rates.  We can see this is in the first row of the cross-tab where 32.33% of income_levels = 2 applicants (who make between 0 and \\\\$40K) enjoyed interest rates below 3.0%; the share of applicants enjoying the lowest interest rate range steady declines as the income level increases.  This might be explained by the fact that those with lower incomes might be more conservative / less risky with the mortgage amount that they request to borrow, so banks can extend them more favorable terms.  Another explanation may be that there are government programs in place to grant lower-income homebuyers better interest rates as to promote home ownership.\n",
    "\n",
    "\n",
    "* Nobody in income_level = 5 (people who made above $500K) received interest rates above 7.0% (as stipulated by the range denoted by interest_rate_range = 3).\n",
    "\n",
    "\n",
    "* Interestingly, a larger portion of those in income_levels = 4.0 (making between \\\\$110,000 and \\\\$500,000 dollars in annual income) received interest_rates in the third tier (the least favorable interest rates) compared to those in lower income levels.  We can see this as only 0.64% of income_levels = 2 and 1.40% of income_levels = 3 received interest rates in the highest range, while 1.92% of income_levels = 4 were in the same ordeal.  If the relationship between income levels and interest rates holds (where higher income applicants enjoy better interest rates), then this would be an anomaly.  When I ran an additional cross-tab on the applicant count, I can see that the number of applicants in the third and fourth income tiers are quite large, so the distribution of applications is not drastically skewed due to a few outliers.  This suggests that people in the fourth income tier are more likely to live beyond their means; their desire to buy a larger home and willingness to take on a bigger (riskier) mortgage leads to less favorable interest rates than their income bracket would typically ensure.  Likewise, data quality issues in the form of missing interest rates is not a convincing explanation for why we notice a jump in high interest rates among income_levels = 4, because income levels 3 and 4 are missing data at the same proportion of 33% (as illustrated below)."
   ]
  },
  {
   "cell_type": "code",
   "execution_count": 271,
   "id": "ea573a03",
   "metadata": {},
   "outputs": [
    {
     "data": {
      "text/plain": [
       "dtype('float64')"
      ]
     },
     "execution_count": 271,
     "metadata": {},
     "output_type": "execute_result"
    }
   ],
   "source": [
    "#evaluate the data type of my column; confirm that it's 'float64'\n",
    "mortgage['income'].dtype"
   ]
  },
  {
   "cell_type": "code",
   "execution_count": 272,
   "id": "9ea22df5",
   "metadata": {},
   "outputs": [
    {
     "data": {
      "text/plain": [
       "count    7738.000000\n",
       "mean      107.550788\n",
       "std       141.720717\n",
       "min        -4.000000\n",
       "25%        55.000000\n",
       "50%        84.000000\n",
       "75%       130.000000\n",
       "max      8800.000000\n",
       "Name: income, dtype: float64"
      ]
     },
     "execution_count": 272,
     "metadata": {},
     "output_type": "execute_result"
    }
   ],
   "source": [
    "#I assume that the mortgages are in the 1000's even though I can't find this detail in the schema.  However, this\n",
    "#would make sense given the mean income.\n",
    "mortgage['income'].describe() #min income of -$4,000, max income of $8,800,000, and mean income of $107,551"
   ]
  },
  {
   "cell_type": "code",
   "execution_count": 273,
   "id": "66aeb8c8",
   "metadata": {},
   "outputs": [
    {
     "data": {
      "text/html": [
       "<div>\n",
       "<style scoped>\n",
       "    .dataframe tbody tr th:only-of-type {\n",
       "        vertical-align: middle;\n",
       "    }\n",
       "\n",
       "    .dataframe tbody tr th {\n",
       "        vertical-align: top;\n",
       "    }\n",
       "\n",
       "    .dataframe thead th {\n",
       "        text-align: right;\n",
       "    }\n",
       "</style>\n",
       "<table border=\"1\" class=\"dataframe\">\n",
       "  <thead>\n",
       "    <tr style=\"text-align: right;\">\n",
       "      <th></th>\n",
       "      <th>income</th>\n",
       "      <th>income_levels</th>\n",
       "    </tr>\n",
       "  </thead>\n",
       "  <tbody>\n",
       "    <tr>\n",
       "      <th>0</th>\n",
       "      <td>33.0</td>\n",
       "      <td>2.0</td>\n",
       "    </tr>\n",
       "    <tr>\n",
       "      <th>1</th>\n",
       "      <td>108.0</td>\n",
       "      <td>3.0</td>\n",
       "    </tr>\n",
       "    <tr>\n",
       "      <th>2</th>\n",
       "      <td>68.0</td>\n",
       "      <td>3.0</td>\n",
       "    </tr>\n",
       "    <tr>\n",
       "      <th>3</th>\n",
       "      <td>93.0</td>\n",
       "      <td>3.0</td>\n",
       "    </tr>\n",
       "    <tr>\n",
       "      <th>4</th>\n",
       "      <td>20.0</td>\n",
       "      <td>2.0</td>\n",
       "    </tr>\n",
       "    <tr>\n",
       "      <th>5</th>\n",
       "      <td>11.0</td>\n",
       "      <td>2.0</td>\n",
       "    </tr>\n",
       "    <tr>\n",
       "      <th>6</th>\n",
       "      <td>125.0</td>\n",
       "      <td>4.0</td>\n",
       "    </tr>\n",
       "    <tr>\n",
       "      <th>7</th>\n",
       "      <td>52.0</td>\n",
       "      <td>3.0</td>\n",
       "    </tr>\n",
       "    <tr>\n",
       "      <th>8</th>\n",
       "      <td>45.0</td>\n",
       "      <td>3.0</td>\n",
       "    </tr>\n",
       "    <tr>\n",
       "      <th>9</th>\n",
       "      <td>59.0</td>\n",
       "      <td>3.0</td>\n",
       "    </tr>\n",
       "  </tbody>\n",
       "</table>\n",
       "</div>"
      ],
      "text/plain": [
       "   income  income_levels\n",
       "0    33.0            2.0\n",
       "1   108.0            3.0\n",
       "2    68.0            3.0\n",
       "3    93.0            3.0\n",
       "4    20.0            2.0\n",
       "5    11.0            2.0\n",
       "6   125.0            4.0\n",
       "7    52.0            3.0\n",
       "8    45.0            3.0\n",
       "9    59.0            3.0"
      ]
     },
     "execution_count": 273,
     "metadata": {},
     "output_type": "execute_result"
    }
   ],
   "source": [
    "conditions2 = [(mortgage['income'] < 0),\n",
    "             (mortgage['income'] <= 40),\n",
    "             (mortgage['income'] <= 110),\n",
    "             (mortgage['income'] <= 500),\n",
    "             (mortgage['income'] > 500)]\n",
    "\n",
    "my_levels2 = [1, 2, 3, 4, 5]\n",
    "\n",
    "#create the new column\n",
    "mortgage['income_levels'] = np.select(conditions2, my_levels2, default = np.nan)\n",
    "\n",
    "#view my new column to make sure it's showing up as expected\n",
    "mortgage[['income', 'income_levels']].head(10)"
   ]
  },
  {
   "cell_type": "code",
   "execution_count": 274,
   "id": "a5f821e7",
   "metadata": {},
   "outputs": [
    {
     "data": {
      "text/html": [
       "<div>\n",
       "<style scoped>\n",
       "    .dataframe tbody tr th:only-of-type {\n",
       "        vertical-align: middle;\n",
       "    }\n",
       "\n",
       "    .dataframe tbody tr th {\n",
       "        vertical-align: top;\n",
       "    }\n",
       "\n",
       "    .dataframe thead th {\n",
       "        text-align: right;\n",
       "    }\n",
       "</style>\n",
       "<table border=\"1\" class=\"dataframe\">\n",
       "  <thead>\n",
       "    <tr style=\"text-align: right;\">\n",
       "      <th>income_levels</th>\n",
       "      <th>2.0</th>\n",
       "      <th>3.0</th>\n",
       "      <th>4.0</th>\n",
       "      <th>5.0</th>\n",
       "    </tr>\n",
       "    <tr>\n",
       "      <th>interest_rate_range</th>\n",
       "      <th></th>\n",
       "      <th></th>\n",
       "      <th></th>\n",
       "      <th></th>\n",
       "    </tr>\n",
       "  </thead>\n",
       "  <tbody>\n",
       "    <tr>\n",
       "      <th>1.0</th>\n",
       "      <td>32.33</td>\n",
       "      <td>31.91</td>\n",
       "      <td>30.74</td>\n",
       "      <td>28.57</td>\n",
       "    </tr>\n",
       "    <tr>\n",
       "      <th>2.0</th>\n",
       "      <td>67.02</td>\n",
       "      <td>66.69</td>\n",
       "      <td>67.34</td>\n",
       "      <td>71.43</td>\n",
       "    </tr>\n",
       "    <tr>\n",
       "      <th>3.0</th>\n",
       "      <td>0.64</td>\n",
       "      <td>1.40</td>\n",
       "      <td>1.92</td>\n",
       "      <td>0.00</td>\n",
       "    </tr>\n",
       "  </tbody>\n",
       "</table>\n",
       "</div>"
      ],
      "text/plain": [
       "income_levels          2.0    3.0    4.0    5.0\n",
       "interest_rate_range                            \n",
       "1.0                  32.33  31.91  30.74  28.57\n",
       "2.0                  67.02  66.69  67.34  71.43\n",
       "3.0                   0.64   1.40   1.92   0.00"
      ]
     },
     "execution_count": 274,
     "metadata": {},
     "output_type": "execute_result"
    }
   ],
   "source": [
    "interest_vs_income = pd.crosstab(mortgage.interest_rate_range, mortgage.income_levels)\n",
    "np.round(interest_vs_income.astype('float').div(interest_vs_income.sum(axis=0), axis=1) * 100, decimals = 2)"
   ]
  },
  {
   "cell_type": "code",
   "execution_count": 275,
   "id": "894b93ee",
   "metadata": {},
   "outputs": [
    {
     "data": {
      "text/html": [
       "<div>\n",
       "<style scoped>\n",
       "    .dataframe tbody tr th:only-of-type {\n",
       "        vertical-align: middle;\n",
       "    }\n",
       "\n",
       "    .dataframe tbody tr th {\n",
       "        vertical-align: top;\n",
       "    }\n",
       "\n",
       "    .dataframe thead th {\n",
       "        text-align: right;\n",
       "    }\n",
       "</style>\n",
       "<table border=\"1\" class=\"dataframe\">\n",
       "  <thead>\n",
       "    <tr style=\"text-align: right;\">\n",
       "      <th>income_levels</th>\n",
       "      <th>2.0</th>\n",
       "      <th>3.0</th>\n",
       "      <th>4.0</th>\n",
       "      <th>5.0</th>\n",
       "    </tr>\n",
       "    <tr>\n",
       "      <th>interest_rate_range</th>\n",
       "      <th></th>\n",
       "      <th></th>\n",
       "      <th></th>\n",
       "      <th></th>\n",
       "    </tr>\n",
       "  </thead>\n",
       "  <tbody>\n",
       "    <tr>\n",
       "      <th>1.0</th>\n",
       "      <td>151</td>\n",
       "      <td>912</td>\n",
       "      <td>529</td>\n",
       "      <td>4</td>\n",
       "    </tr>\n",
       "    <tr>\n",
       "      <th>2.0</th>\n",
       "      <td>313</td>\n",
       "      <td>1906</td>\n",
       "      <td>1159</td>\n",
       "      <td>10</td>\n",
       "    </tr>\n",
       "    <tr>\n",
       "      <th>3.0</th>\n",
       "      <td>3</td>\n",
       "      <td>40</td>\n",
       "      <td>33</td>\n",
       "      <td>0</td>\n",
       "    </tr>\n",
       "  </tbody>\n",
       "</table>\n",
       "</div>"
      ],
      "text/plain": [
       "income_levels        2.0   3.0   4.0  5.0\n",
       "interest_rate_range                      \n",
       "1.0                  151   912   529    4\n",
       "2.0                  313  1906  1159   10\n",
       "3.0                    3    40    33    0"
      ]
     },
     "execution_count": 275,
     "metadata": {},
     "output_type": "execute_result"
    }
   ],
   "source": [
    "#I want to run a cross tab on the count so I can get context on why those in income_level = 4 observe a higher\n",
    "#rate of applicants receiving the least favorable interest rates.\n",
    "pd.crosstab(mortgage.interest_rate_range, mortgage.income_levels)"
   ]
  },
  {
   "cell_type": "code",
   "execution_count": 276,
   "id": "5748078f",
   "metadata": {},
   "outputs": [
    {
     "data": {
      "text/plain": [
       "3.0    1397\n",
       "4.0     853\n",
       "2.0     403\n",
       "5.0      24\n",
       "1.0       1\n",
       "Name: income_levels, dtype: int64"
      ]
     },
     "execution_count": 276,
     "metadata": {},
     "output_type": "execute_result"
    }
   ],
   "source": [
    "#Among the data where I am missing interest rates, I wanted to see the distribution of it to see if that \n",
    "#might explain why the income_level of 4 has a bigger proportion of applicants with the highest interest rates\n",
    "#compared to those in income_level = 3.\n",
    "missing_data = mortgage[mortgage['interest_rate_range'].isna() == True]\n",
    "missing_data = missing_data[['interest_rate_range', 'income_levels']]\n",
    "missing_data.income_levels.value_counts()"
   ]
  },
  {
   "cell_type": "code",
   "execution_count": 277,
   "id": "4f99c050",
   "metadata": {},
   "outputs": [
    {
     "name": "stdout",
     "output_type": "stream",
     "text": [
      "income_levels = 2 missing data proportion:  46.0 %\n",
      "income_levels = 3 missing data proportion:  33.0 %\n",
      "income_levels = 4 missing data proportion:  33.0 %\n"
     ]
    }
   ],
   "source": [
    "print(\"income_levels = 2 missing data proportion: \",\n",
    "      np.round(len(missing_data[missing_data['income_levels'] == 2])/len(mortgage[mortgage['income_levels'] == 2]), 2)\n",
    "      * 100, \"%\")\n",
    "\n",
    "print(\"income_levels = 3 missing data proportion: \",\n",
    "      np.round(len(missing_data[missing_data['income_levels'] == 3])/len(mortgage[mortgage['income_levels'] == 3]), 2)\n",
    "      * 100, \"%\")\n",
    "\n",
    "print(\"income_levels = 4 missing data proportion: \",\n",
    "      np.round(len(missing_data[missing_data['income_levels'] == 4])/len(mortgage[mortgage['income_levels'] == 4]), 2)\n",
    "      * 100, \"%\")"
   ]
  },
  {
   "cell_type": "markdown",
   "id": "abf9e08b",
   "metadata": {},
   "source": [
    "__4. Run a linear regression with 1 independent and 1 dependent variable.  Make all of the recodes necessary to make the model as easy to interpret as possible.  And explain your results.__"
   ]
  },
  {
   "cell_type": "markdown",
   "id": "1434c259",
   "metadata": {},
   "source": [
    "I chose to run a linear regression on income and loan amount.  My hypothesis is that an applicant's income is correlated with the loan amount that they request.  My null hypothesis would be that there is no relationship between an applicant's income and the loan amount they request.\n",
    "\n",
    "__Conclusion:__ I can reject my null hypothesis.  My P-value is rounded to 0.000, which is below a threshold of 0.05 (and therefore leads me to reject the null), but my R-squared is pretty low (0.078) so this model cannot explain a majority of the randomness.  However, my coefficient of 277.83 seems realistic, as it suggests that for every thousand dollars of income, an applicant typically requests an additional \\\\$277 to their mortgage.  This seems plausible since the intercept starts at \\\\$194,400."
   ]
  },
  {
   "cell_type": "code",
   "execution_count": 278,
   "id": "191ecaef",
   "metadata": {},
   "outputs": [
    {
     "name": "stdout",
     "output_type": "stream",
     "text": [
      "                            OLS Regression Results                            \n",
      "==============================================================================\n",
      "Dep. Variable:            loan_amount   R-squared:                       0.078\n",
      "Model:                            OLS   Adj. R-squared:                  0.078\n",
      "Method:                 Least Squares   F-statistic:                     658.1\n",
      "Date:                Thu, 21 Oct 2021   Prob (F-statistic):          2.26e-139\n",
      "Time:                        20:19:17   Log-Likelihood:            -1.0239e+05\n",
      "No. Observations:                7738   AIC:                         2.048e+05\n",
      "Df Residuals:                    7736   BIC:                         2.048e+05\n",
      "Df Model:                           1                                         \n",
      "Covariance Type:            nonrobust                                         \n",
      "==============================================================================\n",
      "                 coef    std err          t      P>|t|      [0.025      0.975]\n",
      "------------------------------------------------------------------------------\n",
      "Intercept   1.944e+05   1926.645    100.890      0.000    1.91e+05    1.98e+05\n",
      "income       277.8270     10.830     25.654      0.000     256.598     299.056\n",
      "==============================================================================\n",
      "Omnibus:                     1869.044   Durbin-Watson:                   1.226\n",
      "Prob(Omnibus):                  0.000   Jarque-Bera (JB):           119320.573\n",
      "Skew:                           0.058   Prob(JB):                         0.00\n",
      "Kurtosis:                      22.237   Cond. No.                         223.\n",
      "==============================================================================\n",
      "\n",
      "Notes:\n",
      "[1] Standard Errors assume that the covariance matrix of the errors is correctly specified.\n"
     ]
    }
   ],
   "source": [
    "lm = smf.ols(formula = 'loan_amount ~ income', data = mortgage).fit()\n",
    "print(lm.summary())"
   ]
  },
  {
   "cell_type": "markdown",
   "id": "0b6b8ae0",
   "metadata": {},
   "source": [
    "\n",
    "__5. Plot two variables, either as a scatter plot or boxplot.  Explain your results.__"
   ]
  },
  {
   "cell_type": "markdown",
   "id": "fcf6368c",
   "metadata": {},
   "source": [
    "I decided to create a boxplot showing the applicant age group (already categorized in the data set) and the property value (which I will have to convert into a numeric variable).  I am very curious about the mortgage sizes that various age groups qualified for.  My hypothesis is that younger age groups and the oldest age groups request mortgages for lower property values, since young people want to buy a starter home and retirees want to downsize.\n",
    "\n",
    "* In analyzing the boxplot, I can see that the narrowest range in mortgage amounts and the lowest median mortgage amount occurs in the \"<25\" age group. This makes sense as their credit history is still quite limited and they likely don't have high incomes to qualify for large mortgages.\n",
    "\n",
    "\n",
    "* Meanwhile, there are lots of outliers in mortgage amounts among the 45-54 age group based on the number of dots outside the bars.  However, they are quite close together so there aren't any extreme outliers in loan amounts.\n",
    "\n",
    "\n",
    "* My hypothesis around downsizing might not hold, because this trend is not very pronounced in the data.  In the age groups \"65-74\" and \">74\", the median property value is not significantly lower than the median for younger age groups.  While the upper quartiles and upper whiskers are narrower than younger age groups, the lower quartiles and lower whiskers remain consistent with younger age groups, suggesting that retirees aren't downsizing as aggressively as I hypothesized.  We also see some major outliers in the >74 age where people with accumulated wealth are buying multi-million dollar homes that are much more expensive than what others are purchasing."
   ]
  },
  {
   "cell_type": "code",
   "execution_count": 279,
   "id": "7896851c",
   "metadata": {},
   "outputs": [
    {
     "name": "stdout",
     "output_type": "stream",
     "text": [
      "property value dtype:  object\n",
      "applicant age dtype:  object\n",
      "new property value:  float64\n"
     ]
    }
   ],
   "source": [
    "#confirm that the variables I plan to use in my scatterplot are in a data type that can be plotted\n",
    "print(\"property value dtype: \", mortgage['property_value'].dtype)\n",
    "print(\"applicant age dtype: \", mortgage['applicant_age'].dtype)\n",
    "\n",
    "#since property value is composed of numbers that haven't been set to numeric, I will coerce the data type\n",
    "mortgage['property_value'] = pd.to_numeric(mortgage['property_value'], errors = 'coerce')\n",
    "print(\"new property value: \", mortgage['property_value'].dtype)"
   ]
  },
  {
   "cell_type": "code",
   "execution_count": 280,
   "id": "53f6acbc",
   "metadata": {},
   "outputs": [
    {
     "data": {
      "text/plain": [
       "<AxesSubplot:xlabel='applicant_age', ylabel='property_value'>"
      ]
     },
     "execution_count": 280,
     "metadata": {},
     "output_type": "execute_result"
    },
    {
     "data": {
      "image/png": "[encoded data removed]",
      "text/plain": [
       "<Figure size 432x288 with 1 Axes>"
      ]
     },
     "metadata": {
      "needs_background": "light"
     },
     "output_type": "display_data"
    }
   ],
   "source": [
    "sb.boxplot(x = 'applicant_age', y = 'property_value', data = mortgage,\n",
    "          order = ['<25', '25-34', '35-44', '45-54', '55-64', '65-74', '>74', '8888'])"
   ]
  },
  {
   "cell_type": "code",
   "execution_count": 281,
   "id": "47d0cf77",
   "metadata": {},
   "outputs": [
    {
     "data": {
      "text/plain": [
       "[(0.0, 1500000.0)]"
      ]
     },
     "execution_count": 281,
     "metadata": {},
     "output_type": "execute_result"
    },
    {
     "data": {
      "image/png": "[encoded data removed]",
      "text/plain": [
       "<Figure size 432x288 with 1 Axes>"
      ]
     },
     "metadata": {
      "needs_background": "light"
     },
     "output_type": "display_data"
    }
   ],
   "source": [
    "#I set a limit on my dependent variable range so that it ignores major outliers and it's easier to see\n",
    "#differences in each age group's boxes\n",
    "sb.boxplot(x = 'applicant_age', y = 'property_value', data = mortgage,\n",
    "          order = ['<25', '25-34', '35-44', '45-54', '55-64', '65-74', '>74', '8888']).set(ylim = (0, 1500000))"
   ]
  },
  {
   "cell_type": "markdown",
   "id": "72ddf9c1",
   "metadata": {},
   "source": [
    "__6. Tell me two theories/ideas you might want to test in this course. Do you have a dataset for these ideas/theories already? Do you have it in R-readable format already? What is your main independent variable? What is your main dependent variable?__"
   ]
  },
  {
   "cell_type": "markdown",
   "id": "3baa962f",
   "metadata": {},
   "source": [
    "I would be interested in using this same data set, the HMDA (Home Mortgage Disclosure Act) data set on mortgage applications and approvals.  However, I am concerned about how I can work with this set given its 9 GB size, despite the fact that it is in a readable .txt format.  For instance, do I have to access a virtual computer or use a computer in a lab on campus to process it?\n",
    "\n",
    "I'm interested in seeing whether the pandemic-induced real estate frenzy (in terms of heightened demand for single-family homes) shows any patterns that suggest redlining or racial bias in who gets approved for mortgages in that area.  My hypothesis is that census tracts that had much higher than average housing demand in 2020 demonstrated greater racial discrimination in who was denied/approved for a mortgage as to 'curate' certain neighborhood demographics.  My main independent variables would be location (in the form of 'county_code' or 'census_tract'), and 'derived_race'.  Meanwhile, my main dependent variable would be the column labelled \"Action Taken\" that stipulates the outcome of the mortgage application.\n",
    "\n",
    "Meanwhile, my second theory is that young people (under 25) employ different strategies by race to gain mortgage approval.  For instance, successful applicants who are White might be more likely to involve a cosigner who is their parent, while successful applicants who are Black might be more likely to qualify for mortgages based on lower debt-to-income ratios without the help of a cosigner, due to racial disparities in intergenerational wealth.  My primary independent variables would be 'debt_to_income_ratio', 'derived_race', and 'co_applicant_credit_score_type' (the best proxy for the existence of a co-signer that we have).  My dependent variable would be 'loan_amount'."
   ]
  }
 ],
 "metadata": {
  "kernelspec": {
   "display_name": "Python 3",
   "language": "python",
   "name": "python3"
  },
  "language_info": {
   "codemirror_mode": {
    "name": "ipython",
    "version": 3
   },
   "file_extension": ".py",
   "mimetype": "text/x-python",
   "name": "python",
   "nbconvert_exporter": "python",
   "pygments_lexer": "ipython3",
   "version": "3.8.8"
  }
 },
 "nbformat": 4,
 "nbformat_minor": 5
}
