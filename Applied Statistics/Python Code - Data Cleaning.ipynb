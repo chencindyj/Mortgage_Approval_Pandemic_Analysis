{
 "cells": [
  {
   "cell_type": "code",
   "execution_count": 1,
   "id": "340a82ac",
   "metadata": {},
   "outputs": [
    {
     "data": {
      "text/html": [
       "<style type='text/css'>\n",
       ".datatable table.frame { margin-bottom: 0; }\n",
       ".datatable table.frame thead { border-bottom: none; }\n",
       ".datatable table.frame tr.coltypes td {  color: #FFFFFF;  line-height: 6px;  padding: 0 0.5em;}\n",
       ".datatable .bool    { background: #DDDD99; }\n",
       ".datatable .object  { background: #565656; }\n",
       ".datatable .int     { background: #5D9E5D; }\n",
       ".datatable .float   { background: #4040CC; }\n",
       ".datatable .str     { background: #CC4040; }\n",
       ".datatable .time    { background: #40CC40; }\n",
       ".datatable .row_index {  background: var(--jp-border-color3);  border-right: 1px solid var(--jp-border-color0);  color: var(--jp-ui-font-color3);  font-size: 9px;}\n",
       ".datatable .frame tbody td { text-align: left; }\n",
       ".datatable .frame tr.coltypes .row_index {  background: var(--jp-border-color0);}\n",
       ".datatable th:nth-child(2) { padding-left: 12px; }\n",
       ".datatable .hellipsis {  color: var(--jp-cell-editor-border-color);}\n",
       ".datatable .vellipsis {  background: var(--jp-layout-color0);  color: var(--jp-cell-editor-border-color);}\n",
       ".datatable .na {  color: var(--jp-cell-editor-border-color);  font-size: 80%;}\n",
       ".datatable .sp {  opacity: 0.25;}\n",
       ".datatable .footer { font-size: 9px; }\n",
       ".datatable .frame_dimensions {  background: var(--jp-border-color3);  border-top: 1px solid var(--jp-border-color0);  color: var(--jp-ui-font-color3);  display: inline-block;  opacity: 0.6;  padding: 1px 10px 1px 5px;}\n",
       ".datatable .frame thead tr.colnames {  background-image: url('data:image/png;base64,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');  background-repeat: repeat-x;  background-size: 14px;  height: 28px;}\n",
       "</style>\n"
      ],
      "text/plain": [
       "<IPython.core.display.HTML object>"
      ]
     },
     "metadata": {},
     "output_type": "display_data"
    }
   ],
   "source": [
    "import pandas as pd\n",
    "import numpy as np\n",
    "import statsmodels.api as sm\n",
    "import statsmodels.formula.api as smf\n",
    "import os\n",
    "import matplotlib.pyplot as plt\n",
    "import datatable as dt"
   ]
  },
  {
   "cell_type": "markdown",
   "id": "652247fd",
   "metadata": {},
   "source": [
    "Load the data"
   ]
  },
  {
   "cell_type": "code",
   "execution_count": 3,
   "id": "85781431",
   "metadata": {},
   "outputs": [],
   "source": [
    "#these files are too large to load into Github; they can be retrieved from the HMDA raw data\n",
    "lar2020 = pd.read_csv(\"2020_lar/2020_lar_ohio_family_loans.csv\", sep = \" \", dtype = str)\n",
    "lar2019 = pd.read_csv(\"2019_lar/2019_lar_ohio_family_loans.csv\", sep = \" \", dtype = str)\n",
    "lar2018 = pd.read_csv(\"2018_lar/2018_lar_ohio_family_loans.csv\", sep = \" \", dtype = str)\n",
    "\n",
    "#filter to only certain columns\n",
    "filter_list = ['activity_year',\n",
    "               'county_code',\n",
    "               'applicant_sex',\n",
    "               'co_applicant_race_1',\n",
    "               'co_applicant_sex',\n",
    "               'applicant_age',\n",
    "               'co_applicant_age',\n",
    "               'debt_to_income_ratio',\n",
    "               'combined_loan_to_value_ratio',\n",
    "               'applicant_race_1',\n",
    "               'loan_amount',\n",
    "               'income',\n",
    "               'loan_term',\n",
    "               'property_value',\n",
    "               'action_taken', \n",
    "               'ffiec_msa_md_median_family_income',\n",
    "               'tract_to_msa_income_percentage',\n",
    "              'loan_purpose']\n",
    "lar2020 = lar2020.loc[:, filter_list]\n",
    "lar2019 = lar2019.loc[:, filter_list]\n",
    "lar2018 = lar2018.loc[:, filter_list]"
   ]
  },
  {
   "cell_type": "markdown",
   "id": "b76e0605",
   "metadata": {},
   "source": [
    "Append the separate data files into a single table"
   ]
  },
  {
   "cell_type": "code",
   "execution_count": 4,
   "id": "210a0094",
   "metadata": {},
   "outputs": [],
   "source": [
    "mortgage = lar2020.append(lar2019, ignore_index = True)\n",
    "mortgage = mortgage.append(lar2018, ignore_index = True)"
   ]
  },
  {
   "cell_type": "markdown",
   "id": "cdf2e205",
   "metadata": {},
   "source": [
    "Filter data to refine the scope of analysis"
   ]
  },
  {
   "cell_type": "code",
   "execution_count": 5,
   "id": "9190cd9b",
   "metadata": {},
   "outputs": [],
   "source": [
    "mortgage = mortgage[mortgage['loan_purpose'] == '1'] #i only want mortgages that are for buying homes, not refinancings\n",
    "mortgage.drop(['loan_purpose'], axis = 1, inplace = True)"
   ]
  },
  {
   "cell_type": "markdown",
   "id": "56ffc0d6",
   "metadata": {},
   "source": [
    "Transform certain columns into the proper data type for analysis."
   ]
  },
  {
   "cell_type": "code",
   "execution_count": 6,
   "id": "1e38d4e7",
   "metadata": {},
   "outputs": [],
   "source": [
    "mortgage['activity_year'] = pd.to_numeric(mortgage['activity_year'], errors = 'coerce')\n",
    "mortgage['property_value'] = pd.to_numeric(mortgage['property_value'], errors = 'coerce')\n",
    "mortgage['ffiec_msa_md_median_family_income'] = pd.to_numeric(mortgage['ffiec_msa_md_median_family_income'], errors = 'coerce')\n",
    "mortgage['loan_amount'] = pd.to_numeric(mortgage['loan_amount'], errors = 'coerce')\n",
    "mortgage['loan_term'] = pd.to_numeric(mortgage['loan_term'], errors = 'coerce')\n",
    "mortgage['combined_loan_to_value_ratio'] = pd.to_numeric(mortgage['combined_loan_to_value_ratio'], errors = 'coerce')\n",
    "mortgage['income'] = pd.to_numeric(mortgage['income'], errors = 'coerce')"
   ]
  },
  {
   "cell_type": "markdown",
   "id": "4fe8eeba",
   "metadata": {},
   "source": [
    "Filter out null values"
   ]
  },
  {
   "cell_type": "code",
   "execution_count": 7,
   "id": "7bbec0b6",
   "metadata": {},
   "outputs": [],
   "source": [
    "mortgage = mortgage[mortgage['loan_term'] != '8888']\n",
    "mortgage = mortgage[mortgage['loan_term'].isnull() == False]\n",
    "mortgage = mortgage[mortgage['property_value'].isnull() == False]\n",
    "mortgage = mortgage[mortgage['income'].isnull() == False]\n",
    "mortgage = mortgage[mortgage['debt_to_income_ratio'].isnull() == False]\n",
    "mortgage = mortgage[mortgage['action_taken'].isnull() == False]\n",
    "mortgage = mortgage[mortgage['combined_loan_to_value_ratio'].isnull() == False]"
   ]
  },
  {
   "cell_type": "markdown",
   "id": "ff9f2c20",
   "metadata": {},
   "source": [
    "Recode Dependent Variable \"action_taken\""
   ]
  },
  {
   "cell_type": "code",
   "execution_count": 8,
   "id": "b31d5686",
   "metadata": {},
   "outputs": [],
   "source": [
    "mortgage['action_taken'] = pd.to_numeric(mortgage['action_taken'], errors = 'coerce')\n",
    "#filter out everything that's not a mortgage decision\n",
    "mortgage = mortgage[mortgage['action_taken'] < 4]\n",
    "conditions = [(mortgage['action_taken'] <= 2), (mortgage['action_taken'] == 3)]\n",
    "recoded_conditions = [1, 0]\n",
    "mortgage['action_taken'] = np.select(conditions, recoded_conditions, default = np.nan)"
   ]
  },
  {
   "cell_type": "markdown",
   "id": "6fbf7e64",
   "metadata": {},
   "source": [
    "Recode Race Variable"
   ]
  },
  {
   "cell_type": "code",
   "execution_count": 9,
   "id": "ab1c3bd2",
   "metadata": {},
   "outputs": [],
   "source": [
    "mortgage['applicant_race_1'] = pd.to_numeric(mortgage['applicant_race_1'], errors = 'coerce')\n",
    "\n",
    "#remove any entries that are 6, 7, 8 because it means that there is no race data\n",
    "mortgage = mortgage[(mortgage['applicant_race_1'].isnull() == False)]\n",
    "mortgage = mortgage[(mortgage['applicant_race_1'] != 7)]\n",
    "mortgage = mortgage[(mortgage['applicant_race_1'] != 6)]"
   ]
  },
  {
   "cell_type": "code",
   "execution_count": 10,
   "id": "52ec0547",
   "metadata": {},
   "outputs": [],
   "source": [
    "conditions = [(mortgage['applicant_race_1'] == 5), (mortgage['applicant_race_1'] != 5)]\n",
    "recoded_conditions = [1, 0]\n",
    "mortgage['applicant_race_1'] = np.select(conditions, recoded_conditions, default = np.nan)\n",
    "mortgage['applicant_race_1'] = mortgage['applicant_race_1'].astype(object) #convert back to categorical"
   ]
  },
  {
   "cell_type": "markdown",
   "id": "e2738469",
   "metadata": {},
   "source": [
    "Recode applicant age to an ordinal variable"
   ]
  },
  {
   "cell_type": "code",
   "execution_count": 11,
   "id": "c01ddf71",
   "metadata": {},
   "outputs": [],
   "source": [
    "mortgage = mortgage[mortgage['applicant_age'] != '8888'] #remove 8888 entries from applicant\n",
    "mortgage = mortgage[mortgage['applicant_age'] != '9999'] #remove 9999 entries from applicant\n",
    "mortgage['applicant_age'] = np.where(mortgage['applicant_age'] == '<25', 1,\n",
    "                                     np.where(mortgage['applicant_age'] == '25-34', 2,\n",
    "                                              np.where(mortgage['applicant_age'] == '35-44', 3,\n",
    "                                                       np.where(mortgage['applicant_age'] == '45-54', 4,\n",
    "                                                                np.where(mortgage['applicant_age'] == '>74', 7,\n",
    "                                                                         np.where(mortgage['applicant_age'] == '55-64', 5,\n",
    "                                                                                  np.where(mortgage['applicant_age'] == '65-74', 6,0)))))))"
   ]
  },
  {
   "cell_type": "markdown",
   "id": "d98994c2",
   "metadata": {},
   "source": [
    "Recode the debt-to-income ratio variable into consistent ranges and convert to numeric data type."
   ]
  },
  {
   "cell_type": "code",
   "execution_count": 264,
   "id": "d347975d",
   "metadata": {},
   "outputs": [],
   "source": [
    "conditions = [(mortgage['debt_to_income_ratio'] == '<20%'),\n",
    "              (mortgage['debt_to_income_ratio'] == '20%-<30%'),\n",
    "              (mortgage['debt_to_income_ratio'] == '30%-<36%'),\n",
    "              ((mortgage['debt_to_income_ratio'] == '36') | (mortgage['debt_to_income_ratio'] == '37') |\n",
    "              (mortgage['debt_to_income_ratio'] == '38') | (mortgage['debt_to_income_ratio'] == '39') |\n",
    "              (mortgage['debt_to_income_ratio'] == '40') | (mortgage['debt_to_income_ratio'] == '41') |\n",
    "              (mortgage['debt_to_income_ratio'] == '42') | (mortgage['debt_to_income_ratio'] == '43')),\n",
    "              ((mortgage['debt_to_income_ratio'] == '44') | (mortgage['debt_to_income_ratio'] == '45') |\n",
    "              (mortgage['debt_to_income_ratio'] == '46') | (mortgage['debt_to_income_ratio'] == '47') | \n",
    "              (mortgage['debt_to_income_ratio'] == '48') | (mortgage['debt_to_income_ratio'] == '49')),\n",
    "              (mortgage['debt_to_income_ratio'] == '50%-60%'),\n",
    "             (mortgage['debt_to_income_ratio'] == '>60%'),\n",
    "             (mortgage['debt_to_income_ratio'] == \"Exempt\")]\n",
    "recoded_conditions = [1, 2, 3, 4, 5, 6, 7, \"Exempt\"]\n",
    "mortgage['debt_to_income_ratio'] = np.select(conditions, recoded_conditions, default = np.nan)"
   ]
  },
  {
   "cell_type": "code",
   "execution_count": 265,
   "id": "4c361604",
   "metadata": {},
   "outputs": [],
   "source": [
    "mortgage['debt_to_income_ratio'] = pd.to_numeric(mortgage['debt_to_income_ratio'], errors = 'coerce')"
   ]
  },
  {
   "cell_type": "markdown",
   "id": "39511f51",
   "metadata": {},
   "source": [
    "Recode applicant sex variable and filter out incorrect values"
   ]
  },
  {
   "cell_type": "code",
   "execution_count": 17,
   "id": "4348d5b2",
   "metadata": {},
   "outputs": [],
   "source": [
    "mortgage = mortgage[mortgage['applicant_sex'] != '4'] #removes 4 entries\n",
    "mortgage = mortgage[mortgage['applicant_sex'] != '3'] #removes 1552 entries"
   ]
  },
  {
   "cell_type": "markdown",
   "id": "e9fc27ba",
   "metadata": {},
   "source": [
    "Create a dummy variable to indicate whether a co-applicant exists on the application."
   ]
  },
  {
   "cell_type": "code",
   "execution_count": 18,
   "id": "586de3f6",
   "metadata": {},
   "outputs": [
    {
     "data": {
      "text/html": [
       "<div>\n",
       "<style scoped>\n",
       "    .dataframe tbody tr th:only-of-type {\n",
       "        vertical-align: middle;\n",
       "    }\n",
       "\n",
       "    .dataframe tbody tr th {\n",
       "        vertical-align: top;\n",
       "    }\n",
       "\n",
       "    .dataframe thead th {\n",
       "        text-align: right;\n",
       "    }\n",
       "</style>\n",
       "<table border=\"1\" class=\"dataframe\">\n",
       "  <thead>\n",
       "    <tr style=\"text-align: right;\">\n",
       "      <th></th>\n",
       "      <th>activity_year</th>\n",
       "      <th>county_code</th>\n",
       "      <th>applicant_sex</th>\n",
       "      <th>co_applicant_race_1</th>\n",
       "      <th>co_applicant_sex</th>\n",
       "      <th>applicant_age</th>\n",
       "      <th>co_applicant_age</th>\n",
       "      <th>debt_to_income_ratio</th>\n",
       "      <th>combined_loan_to_value_ratio</th>\n",
       "      <th>applicant_race_1</th>\n",
       "      <th>loan_amount</th>\n",
       "      <th>income</th>\n",
       "      <th>loan_term</th>\n",
       "      <th>property_value</th>\n",
       "      <th>action_taken</th>\n",
       "      <th>ffiec_msa_md_median_family_income</th>\n",
       "      <th>tract_to_msa_income_percentage</th>\n",
       "      <th>coapplicant_exists</th>\n",
       "    </tr>\n",
       "  </thead>\n",
       "  <tbody>\n",
       "    <tr>\n",
       "      <th>0</th>\n",
       "      <td>2020</td>\n",
       "      <td>39023</td>\n",
       "      <td>1</td>\n",
       "      <td>8</td>\n",
       "      <td>5</td>\n",
       "      <td>5</td>\n",
       "      <td>9999</td>\n",
       "      <td>41</td>\n",
       "      <td>50.303</td>\n",
       "      <td>1.0</td>\n",
       "      <td>85000</td>\n",
       "      <td>33.0</td>\n",
       "      <td>360.0</td>\n",
       "      <td>165000.0</td>\n",
       "      <td>1.0</td>\n",
       "      <td>61100</td>\n",
       "      <td>0</td>\n",
       "      <td>1</td>\n",
       "    </tr>\n",
       "    <tr>\n",
       "      <th>1</th>\n",
       "      <td>2020</td>\n",
       "      <td>39049</td>\n",
       "      <td>2</td>\n",
       "      <td>5</td>\n",
       "      <td>1</td>\n",
       "      <td>2</td>\n",
       "      <td>25-34</td>\n",
       "      <td>30%-&lt;36%</td>\n",
       "      <td>85.000</td>\n",
       "      <td>1.0</td>\n",
       "      <td>165000</td>\n",
       "      <td>89.0</td>\n",
       "      <td>360.0</td>\n",
       "      <td>195000.0</td>\n",
       "      <td>1.0</td>\n",
       "      <td>84600</td>\n",
       "      <td>0</td>\n",
       "      <td>0</td>\n",
       "    </tr>\n",
       "    <tr>\n",
       "      <th>2</th>\n",
       "      <td>2020</td>\n",
       "      <td>39153</td>\n",
       "      <td>1</td>\n",
       "      <td>8</td>\n",
       "      <td>5</td>\n",
       "      <td>3</td>\n",
       "      <td>9999</td>\n",
       "      <td>30%-&lt;36%</td>\n",
       "      <td>95.000</td>\n",
       "      <td>1.0</td>\n",
       "      <td>85000</td>\n",
       "      <td>80.0</td>\n",
       "      <td>180.0</td>\n",
       "      <td>85000.0</td>\n",
       "      <td>1.0</td>\n",
       "      <td>76300</td>\n",
       "      <td>0</td>\n",
       "      <td>1</td>\n",
       "    </tr>\n",
       "    <tr>\n",
       "      <th>4</th>\n",
       "      <td>2020</td>\n",
       "      <td>39045</td>\n",
       "      <td>2</td>\n",
       "      <td>8</td>\n",
       "      <td>5</td>\n",
       "      <td>3</td>\n",
       "      <td>9999</td>\n",
       "      <td>50%-60%</td>\n",
       "      <td>96.500</td>\n",
       "      <td>0.0</td>\n",
       "      <td>265000</td>\n",
       "      <td>56.0</td>\n",
       "      <td>360.0</td>\n",
       "      <td>275000.0</td>\n",
       "      <td>1.0</td>\n",
       "      <td>84600</td>\n",
       "      <td>0</td>\n",
       "      <td>1</td>\n",
       "    </tr>\n",
       "    <tr>\n",
       "      <th>5</th>\n",
       "      <td>2020</td>\n",
       "      <td>39049</td>\n",
       "      <td>1</td>\n",
       "      <td>8</td>\n",
       "      <td>5</td>\n",
       "      <td>2</td>\n",
       "      <td>9999</td>\n",
       "      <td>40</td>\n",
       "      <td>75.000</td>\n",
       "      <td>0.0</td>\n",
       "      <td>45000</td>\n",
       "      <td>200.0</td>\n",
       "      <td>360.0</td>\n",
       "      <td>65000.0</td>\n",
       "      <td>1.0</td>\n",
       "      <td>84600</td>\n",
       "      <td>0</td>\n",
       "      <td>1</td>\n",
       "    </tr>\n",
       "    <tr>\n",
       "      <th>8</th>\n",
       "      <td>2020</td>\n",
       "      <td>39049</td>\n",
       "      <td>2</td>\n",
       "      <td>8</td>\n",
       "      <td>5</td>\n",
       "      <td>4</td>\n",
       "      <td>9999</td>\n",
       "      <td>&lt;20%</td>\n",
       "      <td>89.918</td>\n",
       "      <td>0.0</td>\n",
       "      <td>225000</td>\n",
       "      <td>93.0</td>\n",
       "      <td>360.0</td>\n",
       "      <td>245000.0</td>\n",
       "      <td>1.0</td>\n",
       "      <td>84600</td>\n",
       "      <td>0</td>\n",
       "      <td>1</td>\n",
       "    </tr>\n",
       "    <tr>\n",
       "      <th>10</th>\n",
       "      <td>2020</td>\n",
       "      <td>39153</td>\n",
       "      <td>1</td>\n",
       "      <td>8</td>\n",
       "      <td>5</td>\n",
       "      <td>3</td>\n",
       "      <td>9999</td>\n",
       "      <td>44</td>\n",
       "      <td>102.000</td>\n",
       "      <td>1.0</td>\n",
       "      <td>125000</td>\n",
       "      <td>40.0</td>\n",
       "      <td>360.0</td>\n",
       "      <td>135000.0</td>\n",
       "      <td>1.0</td>\n",
       "      <td>76300</td>\n",
       "      <td>0</td>\n",
       "      <td>1</td>\n",
       "    </tr>\n",
       "    <tr>\n",
       "      <th>11</th>\n",
       "      <td>2020</td>\n",
       "      <td>39049</td>\n",
       "      <td>1</td>\n",
       "      <td>8</td>\n",
       "      <td>5</td>\n",
       "      <td>5</td>\n",
       "      <td>9999</td>\n",
       "      <td>20%-&lt;30%</td>\n",
       "      <td>97.000</td>\n",
       "      <td>1.0</td>\n",
       "      <td>215000</td>\n",
       "      <td>50.0</td>\n",
       "      <td>360.0</td>\n",
       "      <td>215000.0</td>\n",
       "      <td>1.0</td>\n",
       "      <td>84600</td>\n",
       "      <td>0</td>\n",
       "      <td>1</td>\n",
       "    </tr>\n",
       "    <tr>\n",
       "      <th>12</th>\n",
       "      <td>2020</td>\n",
       "      <td>39049</td>\n",
       "      <td>1</td>\n",
       "      <td>5</td>\n",
       "      <td>2</td>\n",
       "      <td>4</td>\n",
       "      <td>45-54</td>\n",
       "      <td>47</td>\n",
       "      <td>95.000</td>\n",
       "      <td>1.0</td>\n",
       "      <td>305000</td>\n",
       "      <td>54.0</td>\n",
       "      <td>360.0</td>\n",
       "      <td>325000.0</td>\n",
       "      <td>1.0</td>\n",
       "      <td>84600</td>\n",
       "      <td>0</td>\n",
       "      <td>0</td>\n",
       "    </tr>\n",
       "    <tr>\n",
       "      <th>13</th>\n",
       "      <td>2020</td>\n",
       "      <td>39049</td>\n",
       "      <td>1</td>\n",
       "      <td>8</td>\n",
       "      <td>5</td>\n",
       "      <td>2</td>\n",
       "      <td>9999</td>\n",
       "      <td>38</td>\n",
       "      <td>75.000</td>\n",
       "      <td>1.0</td>\n",
       "      <td>105000</td>\n",
       "      <td>53.0</td>\n",
       "      <td>360.0</td>\n",
       "      <td>135000.0</td>\n",
       "      <td>1.0</td>\n",
       "      <td>84600</td>\n",
       "      <td>0</td>\n",
       "      <td>1</td>\n",
       "    </tr>\n",
       "  </tbody>\n",
       "</table>\n",
       "</div>"
      ],
      "text/plain": [
       "    activity_year county_code applicant_sex co_applicant_race_1  \\\n",
       "0            2020       39023             1                   8   \n",
       "1            2020       39049             2                   5   \n",
       "2            2020       39153             1                   8   \n",
       "4            2020       39045             2                   8   \n",
       "5            2020       39049             1                   8   \n",
       "8            2020       39049             2                   8   \n",
       "10           2020       39153             1                   8   \n",
       "11           2020       39049             1                   8   \n",
       "12           2020       39049             1                   5   \n",
       "13           2020       39049             1                   8   \n",
       "\n",
       "   co_applicant_sex  applicant_age co_applicant_age debt_to_income_ratio  \\\n",
       "0                 5              5             9999                   41   \n",
       "1                 1              2            25-34             30%-<36%   \n",
       "2                 5              3             9999             30%-<36%   \n",
       "4                 5              3             9999              50%-60%   \n",
       "5                 5              2             9999                   40   \n",
       "8                 5              4             9999                 <20%   \n",
       "10                5              3             9999                   44   \n",
       "11                5              5             9999             20%-<30%   \n",
       "12                2              4            45-54                   47   \n",
       "13                5              2             9999                   38   \n",
       "\n",
       "    combined_loan_to_value_ratio applicant_race_1  loan_amount  income  \\\n",
       "0                         50.303              1.0        85000    33.0   \n",
       "1                         85.000              1.0       165000    89.0   \n",
       "2                         95.000              1.0        85000    80.0   \n",
       "4                         96.500              0.0       265000    56.0   \n",
       "5                         75.000              0.0        45000   200.0   \n",
       "8                         89.918              0.0       225000    93.0   \n",
       "10                       102.000              1.0       125000    40.0   \n",
       "11                        97.000              1.0       215000    50.0   \n",
       "12                        95.000              1.0       305000    54.0   \n",
       "13                        75.000              1.0       105000    53.0   \n",
       "\n",
       "    loan_term  property_value  action_taken  \\\n",
       "0       360.0        165000.0           1.0   \n",
       "1       360.0        195000.0           1.0   \n",
       "2       180.0         85000.0           1.0   \n",
       "4       360.0        275000.0           1.0   \n",
       "5       360.0         65000.0           1.0   \n",
       "8       360.0        245000.0           1.0   \n",
       "10      360.0        135000.0           1.0   \n",
       "11      360.0        215000.0           1.0   \n",
       "12      360.0        325000.0           1.0   \n",
       "13      360.0        135000.0           1.0   \n",
       "\n",
       "    ffiec_msa_md_median_family_income tract_to_msa_income_percentage  \\\n",
       "0                               61100                              0   \n",
       "1                               84600                              0   \n",
       "2                               76300                              0   \n",
       "4                               84600                              0   \n",
       "5                               84600                              0   \n",
       "8                               84600                              0   \n",
       "10                              76300                              0   \n",
       "11                              84600                              0   \n",
       "12                              84600                              0   \n",
       "13                              84600                              0   \n",
       "\n",
       "   coapplicant_exists  \n",
       "0                   1  \n",
       "1                   0  \n",
       "2                   1  \n",
       "4                   1  \n",
       "5                   1  \n",
       "8                   1  \n",
       "10                  1  \n",
       "11                  1  \n",
       "12                  0  \n",
       "13                  1  "
      ]
     },
     "execution_count": 18,
     "metadata": {},
     "output_type": "execute_result"
    }
   ],
   "source": [
    "mortgage['coapplicant_exists'] = np.where(mortgage['co_applicant_sex'] == '5', 1, 0)\n",
    "mortgage['coapplicant_exists'] = mortgage['coapplicant_exists'].astype(object)\n",
    "mortgage.head(10)"
   ]
  },
  {
   "cell_type": "markdown",
   "id": "03c69c63",
   "metadata": {},
   "source": [
    "Remove the co-applicant variables that aren't the new dummy variable.  Removing the co-applicant variables reduces the large number of co-applicant-related missing values while avoiding inappropriate imputation."
   ]
  },
  {
   "cell_type": "code",
   "execution_count": 19,
   "id": "c2957712",
   "metadata": {},
   "outputs": [],
   "source": [
    "mortgage.drop(['co_applicant_race_1', 'co_applicant_sex', 'co_applicant_age'], axis = 1, inplace = True)\n",
    "mortgage['activity_year'] = mortgage['activity_year'].astype(object)"
   ]
  },
  {
   "cell_type": "markdown",
   "id": "40879c95",
   "metadata": {},
   "source": [
    "Remove outliers and filter out values that are extreme and don't make much sense."
   ]
  },
  {
   "cell_type": "code",
   "execution_count": 20,
   "id": "d66c8204",
   "metadata": {},
   "outputs": [
    {
     "data": {
      "text/plain": [
       "(423080, 15)"
      ]
     },
     "execution_count": 20,
     "metadata": {},
     "output_type": "execute_result"
    }
   ],
   "source": [
    "mortgage = mortgage[mortgage['property_value'] < 10000000] #take out any homes over $10million because there seems to be some data quality issues, evident in the disproportionate income\n",
    "mortgage = mortgage[mortgage['loan_term'] < 999] #take out any loan terms that don't make any sense (most loans are not more than 999 months)\n",
    "mortgage = mortgage[mortgage['combined_loan_to_value_ratio'] < 200] #remove anything with a 1,000x loan to value ratio\n",
    "mortgage = mortgage[mortgage['income'] < 5000] #remove income greater than $5 million\n",
    "mortgage = mortgage[mortgage['income'] > 0] #remove income greater than $5 million\n",
    "\n",
    "mortgage.shape"
   ]
  },
  {
   "cell_type": "markdown",
   "id": "1a59fb27",
   "metadata": {},
   "source": [
    "Convert the income percentage to numeric data type."
   ]
  },
  {
   "cell_type": "code",
   "execution_count": 270,
   "id": "716d3195",
   "metadata": {},
   "outputs": [],
   "source": [
    "mortgage['tract_to_msa_income_percentage'] = pd.to_numeric(mortgage['tract_to_msa_income_percentage'], errors = 'coerce')"
   ]
  },
  {
   "cell_type": "markdown",
   "id": "f05ccecf",
   "metadata": {},
   "source": [
    "Generate descriptive statistics."
   ]
  },
  {
   "cell_type": "code",
   "execution_count": 271,
   "id": "d6257aba",
   "metadata": {
    "scrolled": true
   },
   "outputs": [
    {
     "data": {
      "text/html": [
       "<div>\n",
       "<style scoped>\n",
       "    .dataframe tbody tr th:only-of-type {\n",
       "        vertical-align: middle;\n",
       "    }\n",
       "\n",
       "    .dataframe tbody tr th {\n",
       "        vertical-align: top;\n",
       "    }\n",
       "\n",
       "    .dataframe thead th {\n",
       "        text-align: right;\n",
       "    }\n",
       "</style>\n",
       "<table border=\"1\" class=\"dataframe\">\n",
       "  <thead>\n",
       "    <tr style=\"text-align: right;\">\n",
       "      <th></th>\n",
       "      <th>applicant_age</th>\n",
       "      <th>debt_to_income_ratio</th>\n",
       "      <th>combined_loan_to_value_ratio</th>\n",
       "      <th>loan_amount</th>\n",
       "      <th>income</th>\n",
       "      <th>loan_term</th>\n",
       "      <th>property_value</th>\n",
       "      <th>action_taken</th>\n",
       "      <th>ffiec_msa_md_median_family_income</th>\n",
       "      <th>tract_to_msa_income_percentage</th>\n",
       "    </tr>\n",
       "  </thead>\n",
       "  <tbody>\n",
       "    <tr>\n",
       "      <th>count</th>\n",
       "      <td>423080.000000</td>\n",
       "      <td>423080.000000</td>\n",
       "      <td>423080.000000</td>\n",
       "      <td>4.230800e+05</td>\n",
       "      <td>423080.000000</td>\n",
       "      <td>423080.000000</td>\n",
       "      <td>4.230800e+05</td>\n",
       "      <td>423080.000000</td>\n",
       "      <td>423080.000000</td>\n",
       "      <td>423080.000000</td>\n",
       "    </tr>\n",
       "    <tr>\n",
       "      <th>mean</th>\n",
       "      <td>3.092725</td>\n",
       "      <td>3.444391</td>\n",
       "      <td>87.861302</td>\n",
       "      <td>1.829590e+05</td>\n",
       "      <td>91.659854</td>\n",
       "      <td>346.169221</td>\n",
       "      <td>2.181314e+05</td>\n",
       "      <td>0.931129</td>\n",
       "      <td>72060.882812</td>\n",
       "      <td>112.886998</td>\n",
       "    </tr>\n",
       "    <tr>\n",
       "      <th>std</th>\n",
       "      <td>1.399390</td>\n",
       "      <td>1.380902</td>\n",
       "      <td>13.490151</td>\n",
       "      <td>1.220969e+05</td>\n",
       "      <td>91.196349</td>\n",
       "      <td>49.741219</td>\n",
       "      <td>1.606860e+05</td>\n",
       "      <td>0.253235</td>\n",
       "      <td>7771.654585</td>\n",
       "      <td>40.042292</td>\n",
       "    </tr>\n",
       "    <tr>\n",
       "      <th>min</th>\n",
       "      <td>1.000000</td>\n",
       "      <td>1.000000</td>\n",
       "      <td>0.200000</td>\n",
       "      <td>5.000000e+03</td>\n",
       "      <td>1.000000</td>\n",
       "      <td>1.000000</td>\n",
       "      <td>5.000000e+03</td>\n",
       "      <td>0.000000</td>\n",
       "      <td>0.000000</td>\n",
       "      <td>0.000000</td>\n",
       "    </tr>\n",
       "    <tr>\n",
       "      <th>25%</th>\n",
       "      <td>2.000000</td>\n",
       "      <td>2.000000</td>\n",
       "      <td>80.000000</td>\n",
       "      <td>1.050000e+05</td>\n",
       "      <td>47.000000</td>\n",
       "      <td>360.000000</td>\n",
       "      <td>1.250000e+05</td>\n",
       "      <td>1.000000</td>\n",
       "      <td>66100.000000</td>\n",
       "      <td>87.000000</td>\n",
       "    </tr>\n",
       "    <tr>\n",
       "      <th>50%</th>\n",
       "      <td>3.000000</td>\n",
       "      <td>4.000000</td>\n",
       "      <td>95.000000</td>\n",
       "      <td>1.550000e+05</td>\n",
       "      <td>69.000000</td>\n",
       "      <td>360.000000</td>\n",
       "      <td>1.750000e+05</td>\n",
       "      <td>1.000000</td>\n",
       "      <td>73700.000000</td>\n",
       "      <td>108.000000</td>\n",
       "    </tr>\n",
       "    <tr>\n",
       "      <th>75%</th>\n",
       "      <td>4.000000</td>\n",
       "      <td>4.000000</td>\n",
       "      <td>96.500000</td>\n",
       "      <td>2.350000e+05</td>\n",
       "      <td>109.000000</td>\n",
       "      <td>360.000000</td>\n",
       "      <td>2.750000e+05</td>\n",
       "      <td>1.000000</td>\n",
       "      <td>77000.000000</td>\n",
       "      <td>134.000000</td>\n",
       "    </tr>\n",
       "    <tr>\n",
       "      <th>max</th>\n",
       "      <td>7.000000</td>\n",
       "      <td>7.000000</td>\n",
       "      <td>197.479000</td>\n",
       "      <td>4.505000e+06</td>\n",
       "      <td>4979.000000</td>\n",
       "      <td>720.000000</td>\n",
       "      <td>9.505000e+06</td>\n",
       "      <td>1.000000</td>\n",
       "      <td>84600.000000</td>\n",
       "      <td>371.000000</td>\n",
       "    </tr>\n",
       "  </tbody>\n",
       "</table>\n",
       "</div>"
      ],
      "text/plain": [
       "       applicant_age  debt_to_income_ratio  combined_loan_to_value_ratio  \\\n",
       "count  423080.000000         423080.000000                 423080.000000   \n",
       "mean        3.092725              3.444391                     87.861302   \n",
       "std         1.399390              1.380902                     13.490151   \n",
       "min         1.000000              1.000000                      0.200000   \n",
       "25%         2.000000              2.000000                     80.000000   \n",
       "50%         3.000000              4.000000                     95.000000   \n",
       "75%         4.000000              4.000000                     96.500000   \n",
       "max         7.000000              7.000000                    197.479000   \n",
       "\n",
       "        loan_amount         income      loan_term  property_value  \\\n",
       "count  4.230800e+05  423080.000000  423080.000000    4.230800e+05   \n",
       "mean   1.829590e+05      91.659854     346.169221    2.181314e+05   \n",
       "std    1.220969e+05      91.196349      49.741219    1.606860e+05   \n",
       "min    5.000000e+03       1.000000       1.000000    5.000000e+03   \n",
       "25%    1.050000e+05      47.000000     360.000000    1.250000e+05   \n",
       "50%    1.550000e+05      69.000000     360.000000    1.750000e+05   \n",
       "75%    2.350000e+05     109.000000     360.000000    2.750000e+05   \n",
       "max    4.505000e+06    4979.000000     720.000000    9.505000e+06   \n",
       "\n",
       "        action_taken  ffiec_msa_md_median_family_income  \\\n",
       "count  423080.000000                      423080.000000   \n",
       "mean        0.931129                       72060.882812   \n",
       "std         0.253235                        7771.654585   \n",
       "min         0.000000                           0.000000   \n",
       "25%         1.000000                       66100.000000   \n",
       "50%         1.000000                       73700.000000   \n",
       "75%         1.000000                       77000.000000   \n",
       "max         1.000000                       84600.000000   \n",
       "\n",
       "       tract_to_msa_income_percentage  \n",
       "count                   423080.000000  \n",
       "mean                       112.886998  \n",
       "std                         40.042292  \n",
       "min                          0.000000  \n",
       "25%                         87.000000  \n",
       "50%                        108.000000  \n",
       "75%                        134.000000  \n",
       "max                        371.000000  "
      ]
     },
     "execution_count": 271,
     "metadata": {},
     "output_type": "execute_result"
    }
   ],
   "source": [
    "mortgage.describe()"
   ]
  },
  {
   "cell_type": "code",
   "execution_count": 272,
   "id": "1730a654",
   "metadata": {},
   "outputs": [
    {
     "data": {
      "text/html": [
       "<div>\n",
       "<style scoped>\n",
       "    .dataframe tbody tr th:only-of-type {\n",
       "        vertical-align: middle;\n",
       "    }\n",
       "\n",
       "    .dataframe tbody tr th {\n",
       "        vertical-align: top;\n",
       "    }\n",
       "\n",
       "    .dataframe thead th {\n",
       "        text-align: right;\n",
       "    }\n",
       "</style>\n",
       "<table border=\"1\" class=\"dataframe\">\n",
       "  <thead>\n",
       "    <tr style=\"text-align: right;\">\n",
       "      <th></th>\n",
       "      <th>activity_year</th>\n",
       "      <th>county_code</th>\n",
       "      <th>applicant_sex</th>\n",
       "      <th>applicant_age</th>\n",
       "      <th>debt_to_income_ratio</th>\n",
       "      <th>combined_loan_to_value_ratio</th>\n",
       "      <th>applicant_race_1</th>\n",
       "      <th>loan_amount</th>\n",
       "      <th>income</th>\n",
       "      <th>loan_term</th>\n",
       "      <th>property_value</th>\n",
       "      <th>action_taken</th>\n",
       "      <th>ffiec_msa_md_median_family_income</th>\n",
       "      <th>tract_to_msa_income_percentage</th>\n",
       "      <th>coapplicant_exists</th>\n",
       "    </tr>\n",
       "  </thead>\n",
       "  <tbody>\n",
       "  </tbody>\n",
       "</table>\n",
       "</div>"
      ],
      "text/plain": [
       "Empty DataFrame\n",
       "Columns: [activity_year, county_code, applicant_sex, applicant_age, debt_to_income_ratio, combined_loan_to_value_ratio, applicant_race_1, loan_amount, income, loan_term, property_value, action_taken, ffiec_msa_md_median_family_income, tract_to_msa_income_percentage, coapplicant_exists]\n",
       "Index: []"
      ]
     },
     "execution_count": 272,
     "metadata": {},
     "output_type": "execute_result"
    }
   ],
   "source": [
    "mortgage[mortgage['debt_to_income_ratio'].isnull() == True]"
   ]
  },
  {
   "cell_type": "code",
   "execution_count": 273,
   "id": "79fce257",
   "metadata": {},
   "outputs": [
    {
     "data": {
      "text/plain": [
       "activity_year                           -1.505879\n",
       "county_code                          61744.521650\n",
       "applicant_sex                            4.663744\n",
       "applicant_age                           -0.231679\n",
       "debt_to_income_ratio                    -0.592597\n",
       "combined_loan_to_value_ratio             5.744776\n",
       "applicant_race_1                         3.607660\n",
       "loan_amount                             32.536827\n",
       "income                                 312.925245\n",
       "loan_term                               11.243320\n",
       "property_value                         119.654355\n",
       "action_taken                             9.593964\n",
       "ffiec_msa_md_median_family_income       15.563868\n",
       "tract_to_msa_income_percentage           1.689566\n",
       "coapplicant_exists                      -1.774568\n",
       "dtype: float64"
      ]
     },
     "execution_count": 273,
     "metadata": {},
     "output_type": "execute_result"
    }
   ],
   "source": [
    "mortgage.kurtosis(axis = 0)"
   ]
  },
  {
   "cell_type": "code",
   "execution_count": 274,
   "id": "d77e82e8",
   "metadata": {},
   "outputs": [
    {
     "data": {
      "text/plain": [
       "activity_year                         -0.053571\n",
       "county_code                         -218.886067\n",
       "applicant_sex                          1.247644\n",
       "applicant_age                          0.664536\n",
       "debt_to_income_ratio                   0.111051\n",
       "combined_loan_to_value_ratio          -1.810005\n",
       "applicant_race_1                      -2.368046\n",
       "loan_amount                            3.276345\n",
       "income                                10.759976\n",
       "loan_term                             -3.432959\n",
       "property_value                         5.322303\n",
       "action_taken                          -3.404984\n",
       "ffiec_msa_md_median_family_income     -1.966847\n",
       "tract_to_msa_income_percentage         0.761813\n",
       "coapplicant_exists                    -0.474806\n",
       "dtype: float64"
      ]
     },
     "execution_count": 274,
     "metadata": {},
     "output_type": "execute_result"
    }
   ],
   "source": [
    "mortgage.skew(axis = 0)"
   ]
  },
  {
   "cell_type": "markdown",
   "id": "22bf15f0",
   "metadata": {},
   "source": [
    "Log-transform the property value, income, and loan amount variables."
   ]
  },
  {
   "cell_type": "code",
   "execution_count": 275,
   "id": "bd9b51bb",
   "metadata": {},
   "outputs": [],
   "source": [
    "#finally, I am going to log transform the property value and income variables\n",
    "mortgage['property_value'] = np.where(mortgage['property_value'] != 0, np.log(mortgage['property_value']), 0)"
   ]
  },
  {
   "cell_type": "code",
   "execution_count": 276,
   "id": "89d1624d",
   "metadata": {},
   "outputs": [],
   "source": [
    "mortgage['income'] = np.where(mortgage['income'] < 1, 1, mortgage['income'])"
   ]
  },
  {
   "cell_type": "code",
   "execution_count": 277,
   "id": "de5791f3",
   "metadata": {},
   "outputs": [],
   "source": [
    "mortgage['income'] = np.where(mortgage['income'] > 1, np.log(mortgage['income']), 0)"
   ]
  },
  {
   "cell_type": "code",
   "execution_count": 278,
   "id": "b51e227d",
   "metadata": {},
   "outputs": [],
   "source": [
    "mortgage['loan_amount'] = np.where(mortgage['loan_amount'] > 1, np.log(mortgage['loan_amount']), 0)"
   ]
  },
  {
   "cell_type": "code",
   "execution_count": 279,
   "id": "755c7892",
   "metadata": {},
   "outputs": [],
   "source": [
    "mortgage.rename(columns = {'property_value':'property_value_log', 'income':'income_log', 'loan_amount': 'loan_amount_log'}, inplace = True)"
   ]
  },
  {
   "cell_type": "markdown",
   "id": "b568717a",
   "metadata": {},
   "source": [
    "Generate certain histograms to understand the data distribution."
   ]
  },
  {
   "cell_type": "code",
   "execution_count": 280,
   "id": "bf12f9e1",
   "metadata": {},
   "outputs": [
    {
     "data": {
      "text/plain": [
       "array([[<AxesSubplot:title={'center':'combined_loan_to_value_ratio'}>]],\n",
       "      dtype=object)"
      ]
     },
     "execution_count": 280,
     "metadata": {},
     "output_type": "execute_result"
    },
    {
     "data": {
      "image/png": "[encoded data removed]",
      "text/plain": [
       "<Figure size 432x288 with 1 Axes>"
      ]
     },
     "metadata": {
      "needs_background": "light"
     },
     "output_type": "display_data"
    }
   ],
   "source": [
    "mortgage.hist(column='combined_loan_to_value_ratio', bins=20)"
   ]
  },
  {
   "cell_type": "code",
   "execution_count": 342,
   "id": "73cda155",
   "metadata": {},
   "outputs": [
    {
     "data": {
      "text/plain": [
       "array([[<AxesSubplot:title={'center':'income_log'}>]], dtype=object)"
      ]
     },
     "execution_count": 342,
     "metadata": {},
     "output_type": "execute_result"
    },
    {
     "data": {
      "image/png": "[encoded data removed]",
      "text/plain": [
       "<Figure size 432x288 with 1 Axes>"
      ]
     },
     "metadata": {
      "needs_background": "light"
     },
     "output_type": "display_data"
    }
   ],
   "source": [
    "mortgage.hist(column='income_log', bins=80)"
   ]
  },
  {
   "cell_type": "markdown",
   "id": "5fc3751a",
   "metadata": {},
   "source": [
    "Generate Cronbach Alpha value to understand the consistency of the scales of my select ordinal variables in measuring mortgage approval likelihood."
   ]
  },
  {
   "cell_type": "code",
   "execution_count": 281,
   "id": "66036f71",
   "metadata": {},
   "outputs": [
    {
     "data": {
      "text/plain": [
       "Index(['activity_year', 'county_code', 'applicant_sex', 'applicant_age',\n",
       "       'debt_to_income_ratio', 'combined_loan_to_value_ratio',\n",
       "       'applicant_race_1', 'loan_amount_log', 'income_log', 'loan_term',\n",
       "       'property_value_log', 'action_taken',\n",
       "       'ffiec_msa_md_median_family_income', 'tract_to_msa_income_percentage',\n",
       "       'coapplicant_exists'],\n",
       "      dtype='object')"
      ]
     },
     "execution_count": 281,
     "metadata": {},
     "output_type": "execute_result"
    }
   ],
   "source": [
    "def cronbach_alpha(items):\n",
    "    items = pd.DataFrame(items)\n",
    "    items_count = items.shape[1]\n",
    "    variance_sum = float(items.var(axis=0, ddof=1).sum())\n",
    "    total_var = float(items.sum(axis=1).var(ddof=1))\n",
    "    \n",
    "    return (items_count / float(items_count - 1) *\n",
    "            (1 - variance_sum / total_var))\n",
    "\n",
    "mortgage.columns"
   ]
  },
  {
   "cell_type": "code",
   "execution_count": 282,
   "id": "9cace71b",
   "metadata": {},
   "outputs": [
    {
     "data": {
      "text/plain": [
       "0.008846125868418042"
      ]
     },
     "execution_count": 282,
     "metadata": {},
     "output_type": "execute_result"
    }
   ],
   "source": [
    "cronbach_alpha(mortgage[['applicant_age', 'debt_to_income_ratio']])"
   ]
  },
  {
   "cell_type": "markdown",
   "id": "83f4baeb",
   "metadata": {},
   "source": [
    "Evaluate Pearson correlation coefficients."
   ]
  },
  {
   "cell_type": "code",
   "execution_count": 283,
   "id": "8c5930d0",
   "metadata": {},
   "outputs": [
    {
     "data": {
      "text/html": [
       "<div>\n",
       "<style scoped>\n",
       "    .dataframe tbody tr th:only-of-type {\n",
       "        vertical-align: middle;\n",
       "    }\n",
       "\n",
       "    .dataframe tbody tr th {\n",
       "        vertical-align: top;\n",
       "    }\n",
       "\n",
       "    .dataframe thead th {\n",
       "        text-align: right;\n",
       "    }\n",
       "</style>\n",
       "<table border=\"1\" class=\"dataframe\">\n",
       "  <thead>\n",
       "    <tr style=\"text-align: right;\">\n",
       "      <th></th>\n",
       "      <th>applicant_age</th>\n",
       "      <th>debt_to_income_ratio</th>\n",
       "      <th>combined_loan_to_value_ratio</th>\n",
       "      <th>loan_amount_log</th>\n",
       "      <th>income_log</th>\n",
       "      <th>loan_term</th>\n",
       "      <th>property_value_log</th>\n",
       "      <th>action_taken</th>\n",
       "      <th>ffiec_msa_md_median_family_income</th>\n",
       "      <th>tract_to_msa_income_percentage</th>\n",
       "    </tr>\n",
       "  </thead>\n",
       "  <tbody>\n",
       "    <tr>\n",
       "      <th>applicant_age</th>\n",
       "      <td>1.000000</td>\n",
       "      <td>0.004443</td>\n",
       "      <td>-0.305437</td>\n",
       "      <td>0.013475</td>\n",
       "      <td>0.123106</td>\n",
       "      <td>-0.109845</td>\n",
       "      <td>0.106493</td>\n",
       "      <td>-0.017936</td>\n",
       "      <td>0.003964</td>\n",
       "      <td>0.074948</td>\n",
       "    </tr>\n",
       "    <tr>\n",
       "      <th>debt_to_income_ratio</th>\n",
       "      <td>0.004443</td>\n",
       "      <td>1.000000</td>\n",
       "      <td>0.193874</td>\n",
       "      <td>0.037932</td>\n",
       "      <td>-0.295610</td>\n",
       "      <td>0.121759</td>\n",
       "      <td>-0.018834</td>\n",
       "      <td>-0.165993</td>\n",
       "      <td>0.000499</td>\n",
       "      <td>-0.045279</td>\n",
       "    </tr>\n",
       "    <tr>\n",
       "      <th>combined_loan_to_value_ratio</th>\n",
       "      <td>-0.305437</td>\n",
       "      <td>0.193874</td>\n",
       "      <td>1.000000</td>\n",
       "      <td>0.041767</td>\n",
       "      <td>-0.194361</td>\n",
       "      <td>0.280888</td>\n",
       "      <td>-0.266406</td>\n",
       "      <td>-0.059016</td>\n",
       "      <td>-0.059152</td>\n",
       "      <td>-0.188457</td>\n",
       "    </tr>\n",
       "    <tr>\n",
       "      <th>loan_amount_log</th>\n",
       "      <td>0.013475</td>\n",
       "      <td>0.037932</td>\n",
       "      <td>0.041767</td>\n",
       "      <td>1.000000</td>\n",
       "      <td>0.564340</td>\n",
       "      <td>0.205654</td>\n",
       "      <td>0.868510</td>\n",
       "      <td>0.080185</td>\n",
       "      <td>0.253872</td>\n",
       "      <td>0.469835</td>\n",
       "    </tr>\n",
       "    <tr>\n",
       "      <th>income_log</th>\n",
       "      <td>0.123106</td>\n",
       "      <td>-0.295610</td>\n",
       "      <td>-0.194361</td>\n",
       "      <td>0.564340</td>\n",
       "      <td>1.000000</td>\n",
       "      <td>-0.099155</td>\n",
       "      <td>0.648132</td>\n",
       "      <td>0.108171</td>\n",
       "      <td>0.170353</td>\n",
       "      <td>0.406004</td>\n",
       "    </tr>\n",
       "    <tr>\n",
       "      <th>loan_term</th>\n",
       "      <td>-0.109845</td>\n",
       "      <td>0.121759</td>\n",
       "      <td>0.280888</td>\n",
       "      <td>0.205654</td>\n",
       "      <td>-0.099155</td>\n",
       "      <td>1.000000</td>\n",
       "      <td>0.007296</td>\n",
       "      <td>-0.002333</td>\n",
       "      <td>0.034557</td>\n",
       "      <td>-0.021938</td>\n",
       "    </tr>\n",
       "    <tr>\n",
       "      <th>property_value_log</th>\n",
       "      <td>0.106493</td>\n",
       "      <td>-0.018834</td>\n",
       "      <td>-0.266406</td>\n",
       "      <td>0.868510</td>\n",
       "      <td>0.648132</td>\n",
       "      <td>0.007296</td>\n",
       "      <td>1.000000</td>\n",
       "      <td>0.093134</td>\n",
       "      <td>0.287164</td>\n",
       "      <td>0.546648</td>\n",
       "    </tr>\n",
       "    <tr>\n",
       "      <th>action_taken</th>\n",
       "      <td>-0.017936</td>\n",
       "      <td>-0.165993</td>\n",
       "      <td>-0.059016</td>\n",
       "      <td>0.080185</td>\n",
       "      <td>0.108171</td>\n",
       "      <td>-0.002333</td>\n",
       "      <td>0.093134</td>\n",
       "      <td>1.000000</td>\n",
       "      <td>0.082421</td>\n",
       "      <td>0.074941</td>\n",
       "    </tr>\n",
       "    <tr>\n",
       "      <th>ffiec_msa_md_median_family_income</th>\n",
       "      <td>0.003964</td>\n",
       "      <td>0.000499</td>\n",
       "      <td>-0.059152</td>\n",
       "      <td>0.253872</td>\n",
       "      <td>0.170353</td>\n",
       "      <td>0.034557</td>\n",
       "      <td>0.287164</td>\n",
       "      <td>0.082421</td>\n",
       "      <td>1.000000</td>\n",
       "      <td>0.130789</td>\n",
       "    </tr>\n",
       "    <tr>\n",
       "      <th>tract_to_msa_income_percentage</th>\n",
       "      <td>0.074948</td>\n",
       "      <td>-0.045279</td>\n",
       "      <td>-0.188457</td>\n",
       "      <td>0.469835</td>\n",
       "      <td>0.406004</td>\n",
       "      <td>-0.021938</td>\n",
       "      <td>0.546648</td>\n",
       "      <td>0.074941</td>\n",
       "      <td>0.130789</td>\n",
       "      <td>1.000000</td>\n",
       "    </tr>\n",
       "  </tbody>\n",
       "</table>\n",
       "</div>"
      ],
      "text/plain": [
       "                                   applicant_age  debt_to_income_ratio  \\\n",
       "applicant_age                           1.000000              0.004443   \n",
       "debt_to_income_ratio                    0.004443              1.000000   \n",
       "combined_loan_to_value_ratio           -0.305437              0.193874   \n",
       "loan_amount_log                         0.013475              0.037932   \n",
       "income_log                              0.123106             -0.295610   \n",
       "loan_term                              -0.109845              0.121759   \n",
       "property_value_log                      0.106493             -0.018834   \n",
       "action_taken                           -0.017936             -0.165993   \n",
       "ffiec_msa_md_median_family_income       0.003964              0.000499   \n",
       "tract_to_msa_income_percentage          0.074948             -0.045279   \n",
       "\n",
       "                                   combined_loan_to_value_ratio  \\\n",
       "applicant_age                                         -0.305437   \n",
       "debt_to_income_ratio                                   0.193874   \n",
       "combined_loan_to_value_ratio                           1.000000   \n",
       "loan_amount_log                                        0.041767   \n",
       "income_log                                            -0.194361   \n",
       "loan_term                                              0.280888   \n",
       "property_value_log                                    -0.266406   \n",
       "action_taken                                          -0.059016   \n",
       "ffiec_msa_md_median_family_income                     -0.059152   \n",
       "tract_to_msa_income_percentage                        -0.188457   \n",
       "\n",
       "                                   loan_amount_log  income_log  loan_term  \\\n",
       "applicant_age                             0.013475    0.123106  -0.109845   \n",
       "debt_to_income_ratio                      0.037932   -0.295610   0.121759   \n",
       "combined_loan_to_value_ratio              0.041767   -0.194361   0.280888   \n",
       "loan_amount_log                           1.000000    0.564340   0.205654   \n",
       "income_log                                0.564340    1.000000  -0.099155   \n",
       "loan_term                                 0.205654   -0.099155   1.000000   \n",
       "property_value_log                        0.868510    0.648132   0.007296   \n",
       "action_taken                              0.080185    0.108171  -0.002333   \n",
       "ffiec_msa_md_median_family_income         0.253872    0.170353   0.034557   \n",
       "tract_to_msa_income_percentage            0.469835    0.406004  -0.021938   \n",
       "\n",
       "                                   property_value_log  action_taken  \\\n",
       "applicant_age                                0.106493     -0.017936   \n",
       "debt_to_income_ratio                        -0.018834     -0.165993   \n",
       "combined_loan_to_value_ratio                -0.266406     -0.059016   \n",
       "loan_amount_log                              0.868510      0.080185   \n",
       "income_log                                   0.648132      0.108171   \n",
       "loan_term                                    0.007296     -0.002333   \n",
       "property_value_log                           1.000000      0.093134   \n",
       "action_taken                                 0.093134      1.000000   \n",
       "ffiec_msa_md_median_family_income            0.287164      0.082421   \n",
       "tract_to_msa_income_percentage               0.546648      0.074941   \n",
       "\n",
       "                                   ffiec_msa_md_median_family_income  \\\n",
       "applicant_age                                               0.003964   \n",
       "debt_to_income_ratio                                        0.000499   \n",
       "combined_loan_to_value_ratio                               -0.059152   \n",
       "loan_amount_log                                             0.253872   \n",
       "income_log                                                  0.170353   \n",
       "loan_term                                                   0.034557   \n",
       "property_value_log                                          0.287164   \n",
       "action_taken                                                0.082421   \n",
       "ffiec_msa_md_median_family_income                           1.000000   \n",
       "tract_to_msa_income_percentage                              0.130789   \n",
       "\n",
       "                                   tract_to_msa_income_percentage  \n",
       "applicant_age                                            0.074948  \n",
       "debt_to_income_ratio                                    -0.045279  \n",
       "combined_loan_to_value_ratio                            -0.188457  \n",
       "loan_amount_log                                          0.469835  \n",
       "income_log                                               0.406004  \n",
       "loan_term                                               -0.021938  \n",
       "property_value_log                                       0.546648  \n",
       "action_taken                                             0.074941  \n",
       "ffiec_msa_md_median_family_income                        0.130789  \n",
       "tract_to_msa_income_percentage                           1.000000  "
      ]
     },
     "execution_count": 283,
     "metadata": {},
     "output_type": "execute_result"
    }
   ],
   "source": [
    "mortgage.corr(method = \"pearson\")"
   ]
  },
  {
   "cell_type": "code",
   "execution_count": 284,
   "id": "7b4dfe94",
   "metadata": {},
   "outputs": [
    {
     "data": {
      "text/plain": [
       "activity_year                         object\n",
       "county_code                           object\n",
       "applicant_sex                         object\n",
       "applicant_age                          int32\n",
       "debt_to_income_ratio                   int64\n",
       "combined_loan_to_value_ratio         float64\n",
       "applicant_race_1                      object\n",
       "loan_amount_log                      float64\n",
       "income_log                           float64\n",
       "loan_term                            float64\n",
       "property_value_log                   float64\n",
       "action_taken                         float64\n",
       "ffiec_msa_md_median_family_income      int64\n",
       "tract_to_msa_income_percentage         int64\n",
       "coapplicant_exists                    object\n",
       "dtype: object"
      ]
     },
     "execution_count": 284,
     "metadata": {},
     "output_type": "execute_result"
    }
   ],
   "source": [
    "mortgage.dtypes"
   ]
  },
  {
   "cell_type": "markdown",
   "id": "157a883a",
   "metadata": {},
   "source": [
    "Model 1: Linear Probability Model, simple"
   ]
  },
  {
   "cell_type": "code",
   "execution_count": 343,
   "id": "60d50e06",
   "metadata": {},
   "outputs": [],
   "source": [
    "lpm1 = sm.formula.ols(formula ='action_taken ~ C(debt_to_income_ratio) + C(activity_year) + C(applicant_age) + C(applicant_sex) + C(applicant_race_1) + C(coapplicant_exists) + income_log + property_value_log + loan_amount_log + combined_loan_to_value_ratio + loan_term + ffiec_msa_md_median_family_income + tract_to_msa_income_percentage',\n",
    "                        data = mortgage).fit(cor_type = \"HC3\")\n",
    "\n",
    "#print(lpm1.summary())"
   ]
  },
  {
   "cell_type": "markdown",
   "id": "a0d57406",
   "metadata": {},
   "source": [
    "Model 2: Try curvilinear relationship - linear"
   ]
  },
  {
   "cell_type": "code",
   "execution_count": 344,
   "id": "db7013e1",
   "metadata": {},
   "outputs": [],
   "source": [
    "curvy = smf.ols(formula = \"action_taken ~ C(debt_to_income_ratio) + C(activity_year) + C(applicant_age) + C(applicant_sex) + C(applicant_race_1) + C(coapplicant_exists) + income_log + np.power(property_value_log,2) + np.power(loan_amount_log,2) + combined_loan_to_value_ratio + loan_term + ffiec_msa_md_median_family_income + tract_to_msa_income_percentage\", data = mortgage).fit()\n",
    "#print (curvy.summary())"
   ]
  },
  {
   "cell_type": "markdown",
   "id": "03e74a4a",
   "metadata": {},
   "source": [
    "Model 3. Logistic Regression where applicant age and debt-to-income ratio are treated as categorical variables, not ordinal."
   ]
  },
  {
   "cell_type": "code",
   "execution_count": 346,
   "id": "6f1a9766",
   "metadata": {},
   "outputs": [
    {
     "name": "stdout",
     "output_type": "stream",
     "text": [
      "Optimization terminated successfully.\n",
      "         Current function value: 0.212994\n",
      "         Iterations 7\n",
      "                           Logit Regression Results                           \n",
      "==============================================================================\n",
      "Dep. Variable:           action_taken   No. Observations:               423080\n",
      "Model:                          Logit   Df Residuals:                   423055\n",
      "Method:                           MLE   Df Model:                           24\n",
      "Date:                Fri, 17 Dec 2021   Pseudo R-squ.:                  0.1504\n",
      "Time:                        21:18:32   Log-Likelihood:                -90113.\n",
      "converged:                       True   LL-Null:                   -1.0607e+05\n",
      "Covariance Type:            nonrobust   LLR p-value:                     0.000\n",
      "=====================================================================================================\n",
      "                                        coef    std err          z      P>|z|      [0.025      0.975]\n",
      "-----------------------------------------------------------------------------------------------------\n",
      "Intercept                            -4.3028      0.180    -23.853      0.000      -4.656      -3.949\n",
      "C(debt_to_income_ratio)[T.2]          0.3205      0.030     10.718      0.000       0.262       0.379\n",
      "C(debt_to_income_ratio)[T.3]          0.2641      0.031      8.636      0.000       0.204       0.324\n",
      "C(debt_to_income_ratio)[T.4]          0.2315      0.029      7.902      0.000       0.174       0.289\n",
      "C(debt_to_income_ratio)[T.5]         -0.0724      0.031     -2.345      0.019      -0.133      -0.012\n",
      "C(debt_to_income_ratio)[T.6]         -1.1248      0.033    -34.499      0.000      -1.189      -1.061\n",
      "C(debt_to_income_ratio)[T.7]         -4.4306      0.049    -90.534      0.000      -4.527      -4.335\n",
      "C(coapplicant_exists)[T.1]           -0.0397      0.016     -2.538      0.011      -0.070      -0.009\n",
      "C(applicant_age)[T.2]                 0.0911      0.025      3.587      0.000       0.041       0.141\n",
      "C(applicant_age)[T.3]                -0.1920      0.026     -7.259      0.000      -0.244      -0.140\n",
      "C(applicant_age)[T.4]                -0.3262      0.027    -11.870      0.000      -0.380      -0.272\n",
      "C(applicant_age)[T.5]                -0.2582      0.030     -8.627      0.000      -0.317      -0.200\n",
      "C(applicant_age)[T.6]                -0.0658      0.038     -1.734      0.083      -0.140       0.009\n",
      "C(applicant_age)[T.7]                -0.2618      0.060     -4.398      0.000      -0.378      -0.145\n",
      "C(activity_year)[T.2019]              0.1361      0.016      8.440      0.000       0.105       0.168\n",
      "C(activity_year)[T.2020]              0.0318      0.016      1.945      0.052      -0.000       0.064\n",
      "C(applicant_sex)[T.2]                 0.0541      0.014      3.876      0.000       0.027       0.082\n",
      "C(applicant_sex)[T.6]                -0.0681      0.204     -0.334      0.738      -0.467       0.331\n",
      "C(applicant_race_1)[T.1.0]            0.5578      0.018     31.566      0.000       0.523       0.592\n",
      "income_log                            0.0632      0.015      4.220      0.000       0.034       0.093\n",
      "property_value_log                    0.4314      0.016     26.890      0.000       0.400       0.463\n",
      "combined_loan_to_value_ratio         -0.0126      0.001    -20.053      0.000      -0.014      -0.011\n",
      "loan_term                             0.0005      0.000      3.565      0.000       0.000       0.001\n",
      "ffiec_msa_md_median_family_income  2.611e-05   7.52e-07     34.726      0.000    2.46e-05    2.76e-05\n",
      "tract_to_msa_income_percentage        0.0024      0.000     11.045      0.000       0.002       0.003\n",
      "=====================================================================================================\n"
     ]
    }
   ],
   "source": [
    "logit1 = sm.formula.logit(formula ='action_taken ~ C(debt_to_income_ratio) + C(coapplicant_exists) + C(applicant_age) + C(activity_year) + C(applicant_sex) + C(applicant_race_1) + income_log + property_value_log + combined_loan_to_value_ratio + loan_term + ffiec_msa_md_median_family_income + tract_to_msa_income_percentage',\n",
    "                        data = mortgage).fit(cor_type = \"HC3\")\n",
    "\n",
    "print(logit1.summary())"
   ]
  },
  {
   "cell_type": "markdown",
   "id": "8a52be54",
   "metadata": {},
   "source": [
    "Convert the logistic model's probabilities"
   ]
  },
  {
   "cell_type": "code",
   "execution_count": 359,
   "id": "9e5a6224",
   "metadata": {},
   "outputs": [
    {
     "data": {
      "text/plain": [
       "Intercept                            0.013530\n",
       "C(debt_to_income_ratio)[T.2]         1.377871\n",
       "C(debt_to_income_ratio)[T.3]         1.302275\n",
       "C(debt_to_income_ratio)[T.4]         1.260544\n",
       "C(debt_to_income_ratio)[T.5]         0.930176\n",
       "C(debt_to_income_ratio)[T.6]         0.324725\n",
       "C(debt_to_income_ratio)[T.7]         0.011907\n",
       "C(coapplicant_exists)[T.1]           0.961042\n",
       "C(applicant_age)[T.2]                1.095385\n",
       "C(applicant_age)[T.3]                0.825284\n",
       "C(applicant_age)[T.4]                0.721662\n",
       "C(applicant_age)[T.5]                0.772424\n",
       "C(applicant_age)[T.6]                0.936316\n",
       "C(applicant_age)[T.7]                0.769702\n",
       "C(activity_year)[T.2019]             1.145819\n",
       "C(activity_year)[T.2020]             1.032354\n",
       "C(applicant_sex)[T.2]                1.055638\n",
       "C(applicant_sex)[T.6]                0.934131\n",
       "C(applicant_race_1)[T.1.0]           1.746884\n",
       "income_log                           1.065277\n",
       "property_value_log                   1.539369\n",
       "combined_loan_to_value_ratio         0.987518\n",
       "loan_term                            1.000505\n",
       "ffiec_msa_md_median_family_income    1.000026\n",
       "tract_to_msa_income_percentage       1.002354\n",
       "dtype: float64"
      ]
     },
     "execution_count": 359,
     "metadata": {},
     "output_type": "execute_result"
    }
   ],
   "source": [
    "np.exp(logit1.params)"
   ]
  },
  {
   "cell_type": "markdown",
   "id": "39df7183",
   "metadata": {},
   "source": [
    "Model 4: Logistic regression where debt-to-income and applicant age are treated as ordinal variables."
   ]
  },
  {
   "cell_type": "code",
   "execution_count": 365,
   "id": "c9b9c512",
   "metadata": {},
   "outputs": [
    {
     "name": "stdout",
     "output_type": "stream",
     "text": [
      "Optimization terminated successfully.\n",
      "         Current function value: 0.228504\n",
      "         Iterations 7\n",
      "                           Logit Regression Results                           \n",
      "==============================================================================\n",
      "Dep. Variable:           action_taken   No. Observations:               423080\n",
      "Model:                          Logit   Df Residuals:                   423065\n",
      "Method:                           MLE   Df Model:                           14\n",
      "Date:                Fri, 17 Dec 2021   Pseudo R-squ.:                 0.08857\n",
      "Time:                        22:45:33   Log-Likelihood:                -96675.\n",
      "converged:                       True   LL-Null:                   -1.0607e+05\n",
      "Covariance Type:            nonrobust   LLR p-value:                     0.000\n",
      "=====================================================================================================\n",
      "                                        coef    std err          z      P>|z|      [0.025      0.975]\n",
      "-----------------------------------------------------------------------------------------------------\n",
      "Intercept                            -3.1067      0.173    -17.924      0.000      -3.446      -2.767\n",
      "C(activity_year)[T.2019]              0.1171      0.015      7.666      0.000       0.087       0.147\n",
      "C(activity_year)[T.2020]              0.0129      0.016      0.832      0.405      -0.018       0.043\n",
      "C(coapplicant_exists)[T.1]            0.0147      0.015      0.998      0.318      -0.014       0.043\n",
      "C(applicant_sex)[T.2]                 0.0763      0.013      5.762      0.000       0.050       0.102\n",
      "C(applicant_sex)[T.6]                -0.0385      0.194     -0.199      0.842      -0.419       0.342\n",
      "C(applicant_race_1)[T.1.0]            0.5767      0.017     34.923      0.000       0.544       0.609\n",
      "debt_to_income_ratio                 -0.4541      0.005    -90.763      0.000      -0.464      -0.444\n",
      "applicant_age                        -0.0783      0.004    -17.410      0.000      -0.087      -0.069\n",
      "income_log                            0.1261      0.014      9.171      0.000       0.099       0.153\n",
      "property_value_log                    0.3860      0.015     25.371      0.000       0.356       0.416\n",
      "combined_loan_to_value_ratio         -0.0077      0.001    -13.284      0.000      -0.009      -0.007\n",
      "loan_term                             0.0014      0.000     10.477      0.000       0.001       0.002\n",
      "ffiec_msa_md_median_family_income   2.74e-05   7.13e-07     38.411      0.000     2.6e-05    2.88e-05\n",
      "tract_to_msa_income_percentage        0.0021      0.000     10.604      0.000       0.002       0.003\n",
      "=====================================================================================================\n"
     ]
    }
   ],
   "source": [
    "#switch the ordinal\n",
    "logit2 = sm.formula.logit(formula ='action_taken ~ debt_to_income_ratio + C(activity_year) + applicant_age + C(coapplicant_exists) + C(applicant_sex) + C(applicant_race_1) + income_log + property_value_log + combined_loan_to_value_ratio + loan_term + ffiec_msa_md_median_family_income + tract_to_msa_income_percentage',\n",
    "                        data = mortgage).fit(cor_type = \"HC3\")\n",
    "\n",
    "print(logit2.summary())"
   ]
  },
  {
   "cell_type": "code",
   "execution_count": 366,
   "id": "cfb1c760",
   "metadata": {},
   "outputs": [
    {
     "data": {
      "text/plain": [
       "Intercept                            0.044749\n",
       "C(activity_year)[T.2019]             1.124260\n",
       "C(activity_year)[T.2020]             1.013004\n",
       "C(coapplicant_exists)[T.1]           1.014781\n",
       "C(applicant_sex)[T.2]                1.079300\n",
       "C(applicant_sex)[T.6]                0.962196\n",
       "C(applicant_race_1)[T.1.0]           1.780160\n",
       "debt_to_income_ratio                 0.635030\n",
       "applicant_age                        0.924709\n",
       "income_log                           1.134393\n",
       "property_value_log                   1.471046\n",
       "combined_loan_to_value_ratio         0.992337\n",
       "loan_term                            1.001387\n",
       "ffiec_msa_md_median_family_income    1.000027\n",
       "tract_to_msa_income_percentage       1.002148\n",
       "dtype: float64"
      ]
     },
     "execution_count": 366,
     "metadata": {},
     "output_type": "execute_result"
    }
   ],
   "source": [
    "np.exp(logit2.params)"
   ]
  },
  {
   "cell_type": "markdown",
   "id": "50962b39",
   "metadata": {},
   "source": [
    "Model 5: Include interaction variables, including quadratic and cubic-transformed variables."
   ]
  },
  {
   "cell_type": "code",
   "execution_count": 375,
   "id": "f040cb07",
   "metadata": {},
   "outputs": [
    {
     "name": "stdout",
     "output_type": "stream",
     "text": [
      "Optimization terminated successfully.\n",
      "         Current function value: 0.228145\n",
      "         Iterations 7\n",
      "                           Logit Regression Results                           \n",
      "==============================================================================\n",
      "Dep. Variable:           action_taken   No. Observations:               423080\n",
      "Model:                          Logit   Df Residuals:                   423064\n",
      "Method:                           MLE   Df Model:                           15\n",
      "Date:                Sat, 18 Dec 2021   Pseudo R-squ.:                 0.09000\n",
      "Time:                        10:15:19   Log-Likelihood:                -96524.\n",
      "converged:                       True   LL-Null:                   -1.0607e+05\n",
      "Covariance Type:            nonrobust   LLR p-value:                     0.000\n",
      "=============================================================================================================\n",
      "                                                coef    std err          z      P>|z|      [0.025      0.975]\n",
      "-------------------------------------------------------------------------------------------------------------\n",
      "Intercept                                    -3.1700      0.167    -18.962      0.000      -3.498      -2.842\n",
      "C(activity_year)[T.2019]                      0.1184      0.015      7.747      0.000       0.088       0.148\n",
      "C(activity_year)[T.2020]                      0.0141      0.016      0.911      0.362      -0.016       0.045\n",
      "C(coapplicant_exists)[T.1]                    0.2078      0.033      6.334      0.000       0.144       0.272\n",
      "C(applicant_sex)[T.2]                         0.0838      0.013      6.291      0.000       0.058       0.110\n",
      "C(applicant_sex)[T.6]                        -0.0319      0.194     -0.165      0.869      -0.412       0.348\n",
      "C(applicant_race_1)[T.1.0]                    0.5689      0.017     34.421      0.000       0.537       0.601\n",
      "debt_to_income_ratio                         -0.4492      0.005    -89.811      0.000      -0.459      -0.439\n",
      "applicant_age                                -0.0477      0.007     -6.384      0.000      -0.062      -0.033\n",
      "applicant_age:C(coapplicant_exists)[T.1]     -0.0583      0.009     -6.372      0.000      -0.076      -0.040\n",
      "income_log                                    0.1319      0.014      9.534      0.000       0.105       0.159\n",
      "property_value_log                            0.3672      0.015     24.010      0.000       0.337       0.397\n",
      "np.power(combined_loan_to_value_ratio, 2) -7.265e-05   3.48e-06    -20.895      0.000   -7.95e-05   -6.58e-05\n",
      "loan_term                                     0.0016      0.000     11.989      0.000       0.001       0.002\n",
      "ffiec_msa_md_median_family_income          2.732e-05   7.14e-07     38.286      0.000    2.59e-05    2.87e-05\n",
      "tract_to_msa_income_percentage                0.0021      0.000     10.209      0.000       0.002       0.002\n",
      "=============================================================================================================\n"
     ]
    }
   ],
   "source": [
    "#with mediators (using census tracts)\n",
    "logit3 = sm.formula.logit(formula ='action_taken ~ debt_to_income_ratio + C(activity_year) + applicant_age*C(coapplicant_exists) + applicant_age + C(coapplicant_exists) + C(applicant_sex) + C(applicant_race_1) + income_log + property_value_log + np.power(combined_loan_to_value_ratio,2) + loan_term + ffiec_msa_md_median_family_income + tract_to_msa_income_percentage',\n",
    "                        data = mortgage).fit(cor_type = \"HC3\")\n",
    "\n",
    "print(logit3.summary())"
   ]
  },
  {
   "cell_type": "code",
   "execution_count": 376,
   "id": "036f4be1",
   "metadata": {},
   "outputs": [
    {
     "data": {
      "text/plain": [
       "Intercept                                    0.042004\n",
       "C(activity_year)[T.2019]                     1.125733\n",
       "C(activity_year)[T.2020]                     1.014249\n",
       "C(coapplicant_exists)[T.1]                   1.231023\n",
       "C(applicant_sex)[T.2]                        1.087372\n",
       "C(applicant_sex)[T.6]                        0.968577\n",
       "C(applicant_race_1)[T.1.0]                   1.766398\n",
       "debt_to_income_ratio                         0.638125\n",
       "applicant_age                                0.953454\n",
       "applicant_age:C(coapplicant_exists)[T.1]     0.943388\n",
       "income_log                                   1.141007\n",
       "property_value_log                           1.443620\n",
       "np.power(combined_loan_to_value_ratio, 2)    0.999927\n",
       "loan_term                                    1.001576\n",
       "ffiec_msa_md_median_family_income            1.000027\n",
       "tract_to_msa_income_percentage               1.002071\n",
       "dtype: float64"
      ]
     },
     "execution_count": 376,
     "metadata": {},
     "output_type": "execute_result"
    }
   ],
   "source": [
    "np.exp(logit3.params)"
   ]
  },
  {
   "cell_type": "markdown",
   "id": "d8eb69a8",
   "metadata": {},
   "source": [
    "Create cross-tables to include in the report."
   ]
  },
  {
   "cell_type": "code",
   "execution_count": 286,
   "id": "49906f39",
   "metadata": {},
   "outputs": [
    {
     "data": {
      "text/html": [
       "<div>\n",
       "<style scoped>\n",
       "    .dataframe tbody tr th:only-of-type {\n",
       "        vertical-align: middle;\n",
       "    }\n",
       "\n",
       "    .dataframe tbody tr th {\n",
       "        vertical-align: top;\n",
       "    }\n",
       "\n",
       "    .dataframe thead th {\n",
       "        text-align: right;\n",
       "    }\n",
       "</style>\n",
       "<table border=\"1\" class=\"dataframe\">\n",
       "  <thead>\n",
       "    <tr style=\"text-align: right;\">\n",
       "      <th>col_0</th>\n",
       "      <th>count</th>\n",
       "    </tr>\n",
       "    <tr>\n",
       "      <th>action_taken</th>\n",
       "      <th></th>\n",
       "    </tr>\n",
       "  </thead>\n",
       "  <tbody>\n",
       "    <tr>\n",
       "      <th>0.0</th>\n",
       "      <td>29138</td>\n",
       "    </tr>\n",
       "    <tr>\n",
       "      <th>1.0</th>\n",
       "      <td>393942</td>\n",
       "    </tr>\n",
       "  </tbody>\n",
       "</table>\n",
       "</div>"
      ],
      "text/plain": [
       "col_0          count\n",
       "action_taken        \n",
       "0.0            29138\n",
       "1.0           393942"
      ]
     },
     "execution_count": 286,
     "metadata": {},
     "output_type": "execute_result"
    }
   ],
   "source": [
    "pd.crosstab(index = mortgage[\"action_taken\"], columns = \"count\")"
   ]
  },
  {
   "cell_type": "code",
   "execution_count": 287,
   "id": "510a223b",
   "metadata": {},
   "outputs": [
    {
     "data": {
      "text/html": [
       "<div>\n",
       "<style scoped>\n",
       "    .dataframe tbody tr th:only-of-type {\n",
       "        vertical-align: middle;\n",
       "    }\n",
       "\n",
       "    .dataframe tbody tr th {\n",
       "        vertical-align: top;\n",
       "    }\n",
       "\n",
       "    .dataframe thead th {\n",
       "        text-align: right;\n",
       "    }\n",
       "</style>\n",
       "<table border=\"1\" class=\"dataframe\">\n",
       "  <thead>\n",
       "    <tr style=\"text-align: right;\">\n",
       "      <th>col_0</th>\n",
       "      <th>count</th>\n",
       "    </tr>\n",
       "    <tr>\n",
       "      <th>coapplicant_exists</th>\n",
       "      <th></th>\n",
       "    </tr>\n",
       "  </thead>\n",
       "  <tbody>\n",
       "    <tr>\n",
       "      <th>0</th>\n",
       "      <td>162678</td>\n",
       "    </tr>\n",
       "    <tr>\n",
       "      <th>1</th>\n",
       "      <td>260402</td>\n",
       "    </tr>\n",
       "  </tbody>\n",
       "</table>\n",
       "</div>"
      ],
      "text/plain": [
       "col_0                count\n",
       "coapplicant_exists        \n",
       "0                   162678\n",
       "1                   260402"
      ]
     },
     "execution_count": 287,
     "metadata": {},
     "output_type": "execute_result"
    }
   ],
   "source": [
    "pd.crosstab(index = mortgage[\"coapplicant_exists\"], columns = \"count\")"
   ]
  },
  {
   "cell_type": "code",
   "execution_count": 291,
   "id": "f27e4967",
   "metadata": {},
   "outputs": [
    {
     "data": {
      "text/html": [
       "<div>\n",
       "<style scoped>\n",
       "    .dataframe tbody tr th:only-of-type {\n",
       "        vertical-align: middle;\n",
       "    }\n",
       "\n",
       "    .dataframe tbody tr th {\n",
       "        vertical-align: top;\n",
       "    }\n",
       "\n",
       "    .dataframe thead th {\n",
       "        text-align: right;\n",
       "    }\n",
       "</style>\n",
       "<table border=\"1\" class=\"dataframe\">\n",
       "  <thead>\n",
       "    <tr style=\"text-align: right;\">\n",
       "      <th>col_0</th>\n",
       "      <th>count</th>\n",
       "    </tr>\n",
       "    <tr>\n",
       "      <th>applicant_age</th>\n",
       "      <th></th>\n",
       "    </tr>\n",
       "  </thead>\n",
       "  <tbody>\n",
       "    <tr>\n",
       "      <th>1</th>\n",
       "      <td>0.081351</td>\n",
       "    </tr>\n",
       "    <tr>\n",
       "      <th>2</th>\n",
       "      <td>0.340921</td>\n",
       "    </tr>\n",
       "    <tr>\n",
       "      <th>3</th>\n",
       "      <td>0.238924</td>\n",
       "    </tr>\n",
       "    <tr>\n",
       "      <th>4</th>\n",
       "      <td>0.162151</td>\n",
       "    </tr>\n",
       "    <tr>\n",
       "      <th>5</th>\n",
       "      <td>0.109428</td>\n",
       "    </tr>\n",
       "    <tr>\n",
       "      <th>6</th>\n",
       "      <td>0.053555</td>\n",
       "    </tr>\n",
       "    <tr>\n",
       "      <th>7</th>\n",
       "      <td>0.013669</td>\n",
       "    </tr>\n",
       "  </tbody>\n",
       "</table>\n",
       "</div>"
      ],
      "text/plain": [
       "col_0             count\n",
       "applicant_age          \n",
       "1              0.081351\n",
       "2              0.340921\n",
       "3              0.238924\n",
       "4              0.162151\n",
       "5              0.109428\n",
       "6              0.053555\n",
       "7              0.013669"
      ]
     },
     "execution_count": 291,
     "metadata": {},
     "output_type": "execute_result"
    }
   ],
   "source": [
    "pd.crosstab(index = mortgage[\"applicant_age\"], columns = \"count\", normalize = True)"
   ]
  },
  {
   "cell_type": "code",
   "execution_count": 289,
   "id": "f89bd3a6",
   "metadata": {},
   "outputs": [
    {
     "data": {
      "text/html": [
       "<div>\n",
       "<style scoped>\n",
       "    .dataframe tbody tr th:only-of-type {\n",
       "        vertical-align: middle;\n",
       "    }\n",
       "\n",
       "    .dataframe tbody tr th {\n",
       "        vertical-align: top;\n",
       "    }\n",
       "\n",
       "    .dataframe thead th {\n",
       "        text-align: right;\n",
       "    }\n",
       "</style>\n",
       "<table border=\"1\" class=\"dataframe\">\n",
       "  <thead>\n",
       "    <tr style=\"text-align: right;\">\n",
       "      <th>col_0</th>\n",
       "      <th>count</th>\n",
       "    </tr>\n",
       "    <tr>\n",
       "      <th>applicant_race_1</th>\n",
       "      <th></th>\n",
       "    </tr>\n",
       "  </thead>\n",
       "  <tbody>\n",
       "    <tr>\n",
       "      <th>0.0</th>\n",
       "      <td>49928</td>\n",
       "    </tr>\n",
       "    <tr>\n",
       "      <th>1.0</th>\n",
       "      <td>373152</td>\n",
       "    </tr>\n",
       "  </tbody>\n",
       "</table>\n",
       "</div>"
      ],
      "text/plain": [
       "col_0              count\n",
       "applicant_race_1        \n",
       "0.0                49928\n",
       "1.0               373152"
      ]
     },
     "execution_count": 289,
     "metadata": {},
     "output_type": "execute_result"
    }
   ],
   "source": [
    "pd.crosstab(index = mortgage[\"applicant_race_1\"], columns = \"count\")"
   ]
  },
  {
   "cell_type": "code",
   "execution_count": 293,
   "id": "830e3c0f",
   "metadata": {},
   "outputs": [
    {
     "data": {
      "text/html": [
       "<div>\n",
       "<style scoped>\n",
       "    .dataframe tbody tr th:only-of-type {\n",
       "        vertical-align: middle;\n",
       "    }\n",
       "\n",
       "    .dataframe tbody tr th {\n",
       "        vertical-align: top;\n",
       "    }\n",
       "\n",
       "    .dataframe thead th {\n",
       "        text-align: right;\n",
       "    }\n",
       "</style>\n",
       "<table border=\"1\" class=\"dataframe\">\n",
       "  <thead>\n",
       "    <tr style=\"text-align: right;\">\n",
       "      <th>col_0</th>\n",
       "      <th>count</th>\n",
       "    </tr>\n",
       "    <tr>\n",
       "      <th>debt_to_income_ratio</th>\n",
       "      <th></th>\n",
       "    </tr>\n",
       "  </thead>\n",
       "  <tbody>\n",
       "    <tr>\n",
       "      <th>1</th>\n",
       "      <td>0.074879</td>\n",
       "    </tr>\n",
       "    <tr>\n",
       "      <th>2</th>\n",
       "      <td>0.218332</td>\n",
       "    </tr>\n",
       "    <tr>\n",
       "      <th>3</th>\n",
       "      <td>0.192713</td>\n",
       "    </tr>\n",
       "    <tr>\n",
       "      <th>4</th>\n",
       "      <td>0.292032</td>\n",
       "    </tr>\n",
       "    <tr>\n",
       "      <th>5</th>\n",
       "      <td>0.157928</td>\n",
       "    </tr>\n",
       "    <tr>\n",
       "      <th>6</th>\n",
       "      <td>0.051867</td>\n",
       "    </tr>\n",
       "    <tr>\n",
       "      <th>7</th>\n",
       "      <td>0.012248</td>\n",
       "    </tr>\n",
       "  </tbody>\n",
       "</table>\n",
       "</div>"
      ],
      "text/plain": [
       "col_0                    count\n",
       "debt_to_income_ratio          \n",
       "1                     0.074879\n",
       "2                     0.218332\n",
       "3                     0.192713\n",
       "4                     0.292032\n",
       "5                     0.157928\n",
       "6                     0.051867\n",
       "7                     0.012248"
      ]
     },
     "execution_count": 293,
     "metadata": {},
     "output_type": "execute_result"
    }
   ],
   "source": [
    "pd.crosstab(index = mortgage[\"debt_to_income_ratio\"], columns = \"count\", normalize = True)"
   ]
  },
  {
   "cell_type": "markdown",
   "id": "6b9f3485",
   "metadata": {},
   "source": [
    "Run a partial f-test on the incorporation of several variables as categorical vs ordinal."
   ]
  },
  {
   "cell_type": "code",
   "execution_count": 354,
   "id": "a3b3854a",
   "metadata": {},
   "outputs": [
    {
     "data": {
      "text/html": [
       "<div>\n",
       "<style scoped>\n",
       "    .dataframe tbody tr th:only-of-type {\n",
       "        vertical-align: middle;\n",
       "    }\n",
       "\n",
       "    .dataframe tbody tr th {\n",
       "        vertical-align: top;\n",
       "    }\n",
       "\n",
       "    .dataframe thead th {\n",
       "        text-align: right;\n",
       "    }\n",
       "</style>\n",
       "<table border=\"1\" class=\"dataframe\">\n",
       "  <thead>\n",
       "    <tr style=\"text-align: right;\">\n",
       "      <th></th>\n",
       "      <th>df_resid</th>\n",
       "      <th>ssr</th>\n",
       "      <th>df_diff</th>\n",
       "      <th>ss_diff</th>\n",
       "      <th>F</th>\n",
       "      <th>Pr(&gt;F)</th>\n",
       "    </tr>\n",
       "  </thead>\n",
       "  <tbody>\n",
       "    <tr>\n",
       "      <th>0</th>\n",
       "      <td>423073.0</td>\n",
       "      <td>26638.995151</td>\n",
       "      <td>0.0</td>\n",
       "      <td>NaN</td>\n",
       "      <td>NaN</td>\n",
       "      <td>NaN</td>\n",
       "    </tr>\n",
       "    <tr>\n",
       "      <th>1</th>\n",
       "      <td>423067.0</td>\n",
       "      <td>23299.803102</td>\n",
       "      <td>6.0</td>\n",
       "      <td>3339.192049</td>\n",
       "      <td>10105.249648</td>\n",
       "      <td>0.0</td>\n",
       "    </tr>\n",
       "  </tbody>\n",
       "</table>\n",
       "</div>"
      ],
      "text/plain": [
       "   df_resid           ssr  df_diff      ss_diff             F  Pr(>F)\n",
       "0  423073.0  26638.995151      0.0          NaN           NaN     NaN\n",
       "1  423067.0  23299.803102      6.0  3339.192049  10105.249648     0.0"
      ]
     },
     "execution_count": 354,
     "metadata": {},
     "output_type": "execute_result"
    }
   ],
   "source": [
    "#DEBT TO INCOME RATIO\n",
    "\n",
    "new_df = pd.concat([mortgage.property_value_log,\n",
    "                    mortgage.income_log,\n",
    "                    mortgage.loan_amount_log,\n",
    "                    mortgage.tract_to_msa_income_percentage,\n",
    "                    mortgage.ffiec_msa_md_median_family_income,\n",
    "                    mortgage.combined_loan_to_value_ratio,\n",
    "                    mortgage.loan_term,\n",
    "                    mortgage.action_taken,\n",
    "                   pd.get_dummies(mortgage.debt_to_income_ratio, prefix = 'debt')], axis = 1)\n",
    "\n",
    "new_df.columns\n",
    "\n",
    "\n",
    "partial_ftest_2 = sm.formula.ols(formula ='action_taken ~ + debt_1 + debt_2 + debt_3 + debt_4 + debt_5 + debt_6 + debt_7 + income_log + property_value_log + combined_loan_to_value_ratio + loan_term + ffiec_msa_md_median_family_income + tract_to_msa_income_percentage',\n",
    "                        data = new_df).fit(cor_type = \"HC3\")\n",
    "\n",
    "partial_ftest_1 = sm.formula.ols(formula ='action_taken ~ income_log + property_value_log + combined_loan_to_value_ratio + loan_term + ffiec_msa_md_median_family_income + tract_to_msa_income_percentage',\n",
    "                        data = mortgage).fit(cor_type = \"HC3\")\n",
    "\n",
    "sm.stats.anova_lm(partial_ftest_1, partial_ftest_2)"
   ]
  },
  {
   "cell_type": "code",
   "execution_count": 349,
   "id": "5a39fb78",
   "metadata": {},
   "outputs": [
    {
     "data": {
      "text/html": [
       "<div>\n",
       "<style scoped>\n",
       "    .dataframe tbody tr th:only-of-type {\n",
       "        vertical-align: middle;\n",
       "    }\n",
       "\n",
       "    .dataframe tbody tr th {\n",
       "        vertical-align: top;\n",
       "    }\n",
       "\n",
       "    .dataframe thead th {\n",
       "        text-align: right;\n",
       "    }\n",
       "</style>\n",
       "<table border=\"1\" class=\"dataframe\">\n",
       "  <thead>\n",
       "    <tr style=\"text-align: right;\">\n",
       "      <th></th>\n",
       "      <th>df_resid</th>\n",
       "      <th>ssr</th>\n",
       "      <th>df_diff</th>\n",
       "      <th>ss_diff</th>\n",
       "      <th>F</th>\n",
       "      <th>Pr(&gt;F)</th>\n",
       "    </tr>\n",
       "  </thead>\n",
       "  <tbody>\n",
       "    <tr>\n",
       "      <th>0</th>\n",
       "      <td>423073.0</td>\n",
       "      <td>26638.995151</td>\n",
       "      <td>0.0</td>\n",
       "      <td>NaN</td>\n",
       "      <td>NaN</td>\n",
       "      <td>NaN</td>\n",
       "    </tr>\n",
       "    <tr>\n",
       "      <th>1</th>\n",
       "      <td>423071.0</td>\n",
       "      <td>26633.119291</td>\n",
       "      <td>2.0</td>\n",
       "      <td>5.87586</td>\n",
       "      <td>46.669446</td>\n",
       "      <td>5.419417e-21</td>\n",
       "    </tr>\n",
       "  </tbody>\n",
       "</table>\n",
       "</div>"
      ],
      "text/plain": [
       "   df_resid           ssr  df_diff  ss_diff          F        Pr(>F)\n",
       "0  423073.0  26638.995151      0.0      NaN        NaN           NaN\n",
       "1  423071.0  26633.119291      2.0  5.87586  46.669446  5.419417e-21"
      ]
     },
     "execution_count": 349,
     "metadata": {},
     "output_type": "execute_result"
    }
   ],
   "source": [
    "#ACTIVITY YEAR\n",
    "new_df = pd.concat([mortgage.property_value_log,\n",
    "                    mortgage.income_log,\n",
    "                    mortgage.loan_amount_log,\n",
    "                    mortgage.tract_to_msa_income_percentage,\n",
    "                    mortgage.ffiec_msa_md_median_family_income,\n",
    "                    mortgage.combined_loan_to_value_ratio,\n",
    "                    mortgage.loan_term,\n",
    "                    mortgage.action_taken,\n",
    "                   pd.get_dummies(mortgage.activity_year, prefix = 'year')], axis = 1)\n",
    "\n",
    "partial_ftest_2 = sm.formula.ols(formula ='action_taken ~ + year_2018 + year_2019 + year_2020 + income_log + property_value_log + combined_loan_to_value_ratio + loan_term + ffiec_msa_md_median_family_income + tract_to_msa_income_percentage',\n",
    "                        data = new_df).fit(cor_type = \"HC3\")\n",
    "\n",
    "partial_ftest_1 = sm.formula.ols(formula ='action_taken ~ income_log + property_value_log + combined_loan_to_value_ratio + loan_term + ffiec_msa_md_median_family_income + tract_to_msa_income_percentage',\n",
    "                        data = mortgage).fit(cor_type = \"HC3\")\n",
    "\n",
    "sm.stats.anova_lm(partial_ftest_1, partial_ftest_2)"
   ]
  },
  {
   "cell_type": "code",
   "execution_count": 357,
   "id": "55adbbfe",
   "metadata": {},
   "outputs": [
    {
     "data": {
      "text/html": [
       "<div>\n",
       "<style scoped>\n",
       "    .dataframe tbody tr th:only-of-type {\n",
       "        vertical-align: middle;\n",
       "    }\n",
       "\n",
       "    .dataframe tbody tr th {\n",
       "        vertical-align: top;\n",
       "    }\n",
       "\n",
       "    .dataframe thead th {\n",
       "        text-align: right;\n",
       "    }\n",
       "</style>\n",
       "<table border=\"1\" class=\"dataframe\">\n",
       "  <thead>\n",
       "    <tr style=\"text-align: right;\">\n",
       "      <th></th>\n",
       "      <th>df_resid</th>\n",
       "      <th>ssr</th>\n",
       "      <th>df_diff</th>\n",
       "      <th>ss_diff</th>\n",
       "      <th>F</th>\n",
       "      <th>Pr(&gt;F)</th>\n",
       "    </tr>\n",
       "  </thead>\n",
       "  <tbody>\n",
       "    <tr>\n",
       "      <th>0</th>\n",
       "      <td>423073.0</td>\n",
       "      <td>26638.995151</td>\n",
       "      <td>0.0</td>\n",
       "      <td>NaN</td>\n",
       "      <td>NaN</td>\n",
       "      <td>NaN</td>\n",
       "    </tr>\n",
       "    <tr>\n",
       "      <th>1</th>\n",
       "      <td>423071.0</td>\n",
       "      <td>26638.952299</td>\n",
       "      <td>2.0</td>\n",
       "      <td>0.042852</td>\n",
       "      <td>0.340277</td>\n",
       "      <td>0.711573</td>\n",
       "    </tr>\n",
       "  </tbody>\n",
       "</table>\n",
       "</div>"
      ],
      "text/plain": [
       "   df_resid           ssr  df_diff   ss_diff         F    Pr(>F)\n",
       "0  423073.0  26638.995151      0.0       NaN       NaN       NaN\n",
       "1  423071.0  26638.952299      2.0  0.042852  0.340277  0.711573"
      ]
     },
     "execution_count": 357,
     "metadata": {},
     "output_type": "execute_result"
    }
   ],
   "source": [
    "#SEX\n",
    "\n",
    "new_df = pd.concat([mortgage.property_value_log,\n",
    "                    mortgage.income_log,\n",
    "                    mortgage.loan_amount_log,\n",
    "                    mortgage.tract_to_msa_income_percentage,\n",
    "                    mortgage.ffiec_msa_md_median_family_income,\n",
    "                    mortgage.combined_loan_to_value_ratio,\n",
    "                    mortgage.loan_term,\n",
    "                    mortgage.action_taken,\n",
    "                   pd.get_dummies(mortgage.applicant_sex, prefix = 'sex')], axis = 1)\n",
    "\n",
    "new_df.columns\n",
    "\n",
    "\n",
    "partial_ftest_2 = sm.formula.ols(formula ='action_taken ~ + sex_1 + sex_2 + sex_6 + income_log + property_value_log + combined_loan_to_value_ratio + loan_term + ffiec_msa_md_median_family_income + tract_to_msa_income_percentage',\n",
    "                        data = new_df).fit(cor_type = \"HC3\")\n",
    "\n",
    "partial_ftest_1 = sm.formula.ols(formula ='action_taken ~ income_log + property_value_log + combined_loan_to_value_ratio + loan_term + ffiec_msa_md_median_family_income + tract_to_msa_income_percentage',\n",
    "                        data = mortgage).fit(cor_type = \"HC3\")\n",
    "\n",
    "sm.stats.anova_lm(partial_ftest_1, partial_ftest_2)"
   ]
  },
  {
   "cell_type": "code",
   "execution_count": 352,
   "id": "e88d93d1",
   "metadata": {},
   "outputs": [
    {
     "data": {
      "text/html": [
       "<div>\n",
       "<style scoped>\n",
       "    .dataframe tbody tr th:only-of-type {\n",
       "        vertical-align: middle;\n",
       "    }\n",
       "\n",
       "    .dataframe tbody tr th {\n",
       "        vertical-align: top;\n",
       "    }\n",
       "\n",
       "    .dataframe thead th {\n",
       "        text-align: right;\n",
       "    }\n",
       "</style>\n",
       "<table border=\"1\" class=\"dataframe\">\n",
       "  <thead>\n",
       "    <tr style=\"text-align: right;\">\n",
       "      <th></th>\n",
       "      <th>df_resid</th>\n",
       "      <th>ssr</th>\n",
       "      <th>df_diff</th>\n",
       "      <th>ss_diff</th>\n",
       "      <th>F</th>\n",
       "      <th>Pr(&gt;F)</th>\n",
       "    </tr>\n",
       "  </thead>\n",
       "  <tbody>\n",
       "    <tr>\n",
       "      <th>0</th>\n",
       "      <td>423073.0</td>\n",
       "      <td>26638.995151</td>\n",
       "      <td>0.0</td>\n",
       "      <td>NaN</td>\n",
       "      <td>NaN</td>\n",
       "      <td>NaN</td>\n",
       "    </tr>\n",
       "    <tr>\n",
       "      <th>1</th>\n",
       "      <td>423067.0</td>\n",
       "      <td>26546.561999</td>\n",
       "      <td>6.0</td>\n",
       "      <td>92.433152</td>\n",
       "      <td>245.514632</td>\n",
       "      <td>1.288808e-314</td>\n",
       "    </tr>\n",
       "  </tbody>\n",
       "</table>\n",
       "</div>"
      ],
      "text/plain": [
       "   df_resid           ssr  df_diff    ss_diff           F         Pr(>F)\n",
       "0  423073.0  26638.995151      0.0        NaN         NaN            NaN\n",
       "1  423067.0  26546.561999      6.0  92.433152  245.514632  1.288808e-314"
      ]
     },
     "execution_count": 352,
     "metadata": {},
     "output_type": "execute_result"
    }
   ],
   "source": [
    "new_df = pd.concat([mortgage.property_value_log,\n",
    "                    mortgage.income_log,\n",
    "                    mortgage.loan_amount_log,\n",
    "                    mortgage.tract_to_msa_income_percentage,\n",
    "                    mortgage.ffiec_msa_md_median_family_income,\n",
    "                    mortgage.combined_loan_to_value_ratio,\n",
    "                    mortgage.loan_term,\n",
    "                    mortgage.action_taken,\n",
    "                   pd.get_dummies(mortgage.applicant_age, prefix = 'age')], axis = 1)\n",
    "\n",
    "partial_ftest_2 = sm.formula.ols(formula ='action_taken ~ + age_1 + age_2 + age_3 + age_4 + age_5 + age_6 + age_7 + income_log + property_value_log + combined_loan_to_value_ratio + loan_term + ffiec_msa_md_median_family_income + tract_to_msa_income_percentage',\n",
    "                        data = new_df).fit(cor_type = \"HC3\")\n",
    "\n",
    "partial_ftest_1 = sm.formula.ols(formula ='action_taken ~ income_log + property_value_log + combined_loan_to_value_ratio + loan_term + ffiec_msa_md_median_family_income + tract_to_msa_income_percentage',\n",
    "                        data = mortgage).fit(cor_type = \"HC3\")\n",
    "\n",
    "sm.stats.anova_lm(partial_ftest_1, partial_ftest_2)"
   ]
  },
  {
   "cell_type": "markdown",
   "id": "6a9f045f",
   "metadata": {},
   "source": [
    "VIF Calculation"
   ]
  },
  {
   "cell_type": "code",
   "execution_count": 339,
   "id": "531d1834",
   "metadata": {},
   "outputs": [
    {
     "name": "stdout",
     "output_type": "stream",
     "text": [
      "Optimization terminated successfully.\n",
      "         Current function value: 0.241498\n",
      "         Iterations 7\n",
      "income_log: 1.7764016306339376\n",
      "property_value_log: 7.782303577573573\n",
      "loan_amount_log: 6.675169449008721\n",
      "combined_loan_to_value_ratio: 1.6163464526636881\n",
      "loan_term: 1.2296642749024609\n",
      "ffiec_msa_md_median_family_income: 1.0926206163530265\n",
      "tract_to_msa_income_percentage: 1.4414446331753075\n"
     ]
    }
   ],
   "source": [
    "logit_test = sm.formula.logit(formula ='action_taken ~  income_log + property_value_log + loan_amount_log + combined_loan_to_value_ratio + loan_term + ffiec_msa_md_median_family_income + tract_to_msa_income_percentage',\n",
    "                        data = mortgage).fit(cor_type = \"HC3\")\n",
    "\n",
    "def vif(fit): \n",
    "    from statsmodels.stats.outliers_influence import variance_inflation_factor as smvif\n",
    "    from patsy import dmatrix\n",
    "    x = fit.model.data\n",
    "    dicty = x.frame.to_dict('list') # Convert DataFrame to dictionary. Dict-like {column -> [values]}\n",
    "    formula_like = '+'.join(x.xnames[1:])  # produce formula_like such as \"a + b\"\n",
    "    design_matrix = dmatrix(formula_like, dicty)\n",
    "    for item in range(1, len(x.xnames)):\n",
    "        print (x.xnames[item] + ': ' + str(smvif(design_matrix, item)))\n",
    "\n",
    "vif(logit_test)"
   ]
  }
 ],
 "metadata": {
  "kernelspec": {
   "display_name": "Python 3",
   "language": "python",
   "name": "python3"
  },
  "language_info": {
   "codemirror_mode": {
    "name": "ipython",
    "version": 3
   },
   "file_extension": ".py",
   "mimetype": "text/x-python",
   "name": "python",
   "nbconvert_exporter": "python",
   "pygments_lexer": "ipython3",
   "version": "3.8.8"
  }
 },
 "nbformat": 4,
 "nbformat_minor": 5
}
